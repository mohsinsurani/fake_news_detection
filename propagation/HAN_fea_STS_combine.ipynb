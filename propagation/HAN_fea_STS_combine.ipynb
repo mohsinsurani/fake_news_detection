{
  "nbformat": 4,
  "nbformat_minor": 0,
  "metadata": {
    "colab": {
      "provenance": []
    },
    "kernelspec": {
      "name": "python3",
      "display_name": "Python 3"
    },
    "language_info": {
      "name": "python"
    },
    "gpuClass": "standard"
  },
  "cells": [
    {
      "cell_type": "code",
      "execution_count": null,
      "metadata": {
        "colab": {
          "base_uri": "https://localhost:8080/"
        },
        "id": "EgupxXAn-5HF",
        "outputId": "cd756cdc-26df-464d-f2f4-57a749186f29"
      },
      "outputs": [
        {
          "output_type": "stream",
          "name": "stderr",
          "text": [
            "[nltk_data] Downloading package punkt to /root/nltk_data...\n",
            "[nltk_data]   Unzipping tokenizers/punkt.zip.\n"
          ]
        }
      ],
      "source": [
        "import pandas as pd\n",
        "import numpy as np\n",
        "import pickle\n",
        "import sys\n",
        "import sklearn\n",
        "from sklearn.model_selection import train_test_split\n",
        "import tensorflow as tf\n",
        "from sklearn import preprocessing\n",
        "\n",
        "from keras import Sequential, regularizers \n",
        "\n",
        "from keras.layers import Embedding, LSTM, Dense\n",
        "from keras import losses\n",
        "from keras.layers import Dense\n",
        "from keras.layers import Flatten, InputLayer\n",
        "\n",
        "import time\n",
        "from keras.callbacks import EarlyStopping, ModelCheckpoint\n",
        "import torch\n",
        "from sklearn.metrics import precision_score, \\\n",
        "    recall_score, confusion_matrix, classification_report, \\\n",
        "    accuracy_score, f1_score, roc_auc_score\n",
        "from sklearn.metrics import precision_recall_curve, auc\n",
        "from sklearn import metrics\n",
        "import plotly.express as px\n",
        "\n",
        "from keras.preprocessing.text import Tokenizer,  text_to_word_sequence\n",
        "# from keras.engine.topology import Layer\n",
        "from keras import initializers as initializers, regularizers, constraints\n",
        "from keras.callbacks import Callback, ModelCheckpoint\n",
        "from keras.utils.np_utils import to_categorical\n",
        "from keras.layers import Embedding, Input, Dense, LSTM, GRU, Bidirectional, TimeDistributed, Dropout\n",
        "from keras import backend as K\n",
        "from keras import optimizers\n",
        "from keras.models import Model\n",
        "from nltk import tokenize\n",
        "import nltk\n",
        "nltk.download('punkt')\n",
        "\n",
        "import matplotlib.pyplot as plt\n",
        "import seaborn as sns"
      ]
    },
    {
      "cell_type": "code",
      "source": [
        "path_df = \"/content/drive/MyDrive/fake_bert/politifact_global_feature.pkl\""
      ],
      "metadata": {
        "id": "BxH344MZ_D_z"
      },
      "execution_count": null,
      "outputs": []
    },
    {
      "cell_type": "code",
      "source": [
        "df = pickle.load(open(path_df, \"rb\"))"
      ],
      "metadata": {
        "id": "AOIr3tZp_J-p"
      },
      "execution_count": null,
      "outputs": []
    },
    {
      "cell_type": "code",
      "source": [
        "df.head()"
      ],
      "metadata": {
        "colab": {
          "base_uri": "https://localhost:8080/",
          "height": 730
        },
        "id": "b5z39z9wJkPK",
        "outputId": "3eda447e-261d-474a-e9b4-618dcf150810"
      },
      "execution_count": null,
      "outputs": [
        {
          "output_type": "execute_result",
          "data": {
            "text/plain": [
              "                                                              text  \\\n",
              "id                                                                   \n",
              "politifact720    Organizing for ’18\\n\\nThrough Election Day\\n\\n...   \n",
              "politifact10731  COLUMBUS, Ohio — America's role as a world lea...   \n",
              "politifact11115  In the course of the email review, State Depar...   \n",
              "politifact14148  We all get lazy from time to time and just wan...   \n",
              "politifact6932   Mitt Romney came to coal country on Aug. 14, s...   \n",
              "\n",
              "                                                             title  \\\n",
              "id                                                                   \n",
              "politifact720                                Organizing for Action   \n",
              "politifact10731  Call 'Islamic terrorism' what it is: a threat ...   \n",
              "politifact11115   Inquiry Sought in Hillary Clinton’s Use of Email   \n",
              "politifact14148  NASA Will Pay You 18000 USD To Stay In Bed And...   \n",
              "politifact6932   Barack Obama says Mitt Romney condemned coal-f...   \n",
              "\n",
              "                                                           top_img  \\\n",
              "id                                                                   \n",
              "politifact720    https://secure.assets.bostatic.com/apps/quincy...   \n",
              "politifact10731  http://triblive.com/csp/mediapool/sites/dt.com...   \n",
              "politifact11115  https://static01.nyt.com/images/2015/07/24/us/...   \n",
              "politifact14148  http://reflectionofmind.org/wp-content/uploads...   \n",
              "politifact6932   http://static.politifact.com.s3.amazonaws.com/...   \n",
              "\n",
              "                 publish_date  \\\n",
              "id                              \n",
              "politifact720            None   \n",
              "politifact10731  1429079762.0   \n",
              "politifact11115  1437721200.0   \n",
              "politifact14148  1482942009.0   \n",
              "politifact6932   1345705200.0   \n",
              "\n",
              "                                                            images  \\\n",
              "id                                                                   \n",
              "politifact720    [https://secure.assets.bostatic.com/apps/quinc...   \n",
              "politifact10731  [http://triblive.com/csp/mediapool/sites/TribL...   \n",
              "politifact11115  [https://static01.nyt.com/images/2015/07/24/us...   \n",
              "politifact14148  [http://reflectionofmind.org/wp-content/upload...   \n",
              "politifact6932   [http://metric.politifact.com/b/ss/spttbglobal...   \n",
              "\n",
              "                     source  target  \\\n",
              "id                                    \n",
              "politifact720    politifact       1   \n",
              "politifact10731  politifact       1   \n",
              "politifact11115  politifact       1   \n",
              "politifact14148  politifact       0   \n",
              "politifact6932   politifact       1   \n",
              "\n",
              "                                                         tweet_mod  \\\n",
              "id                                                                   \n",
              "politifact720    [{'time': None, 'type': 1, 'user': 1716929114,...   \n",
              "politifact10731  [{'time': None, 'type': 1, 'user': 1716929114,...   \n",
              "politifact11115  [{'time': None, 'type': 1, 'user': 1716929114,...   \n",
              "politifact14148  [{'time': None, 'type': 1, 'user': 1716929114,...   \n",
              "politifact6932   [{'time': None, 'type': 1, 'user': 1716929114,...   \n",
              "\n",
              "                                                         comp_text  \\\n",
              "id                                                                   \n",
              "politifact720    Organizing for 18 Through Election Day Sometim...   \n",
              "politifact10731  COLUMBUS Ohio America's role as a world leader...   \n",
              "politifact11115  In the course of the email review State Depart...   \n",
              "politifact14148  We all get lazy from time to time and just wan...   \n",
              "politifact6932   Mitt Romney came to coal country on Aug. 14 st...   \n",
              "\n",
              "                                                          lem_text  ...  \\\n",
              "id                                                                  ...   \n",
              "politifact720    organize for 18 through election day sometimes...  ...   \n",
              "politifact10731  columbus ohio americas role a a world leader a...  ...   \n",
              "politifact11115  in the course of the email review state depart...  ...   \n",
              "politifact14148  we all get lazy from time to time and just wan...  ...   \n",
              "politifact6932   mitt romney come to coal country on aug 14 sta...  ...   \n",
              "\n",
              "                    Sen15     Sen16     Sen17     Sen18     Sen19        G1  \\\n",
              "id                                                                            \n",
              "politifact720    0.949437  0.034845  0.071476  1.681818  0.011628  0.012289   \n",
              "politifact10731  0.694333  0.000000 -0.738400  1.250000  0.041667  0.046498   \n",
              "politifact11115  0.778346  0.012754 -0.472698  1.156863  0.000543  0.000609   \n",
              "politifact14148  0.829039  0.098993  0.134468  1.240000  0.000836  0.000885   \n",
              "politifact6932   0.642184  0.016658 -0.765808  1.000000  0.025000  0.025214   \n",
              "\n",
              "                     G2      G3            G4      G5  \n",
              "id                                                     \n",
              "politifact720      79.0    86.0  1.866903e-04    85.0  \n",
              "politifact10731    20.0    24.0  3.071834e-03    23.0  \n",
              "politifact11115  1673.0  1842.0  5.721557e-07  1841.0  \n",
              "politifact14148  1089.0  1196.0  1.024639e-06  1195.0  \n",
              "politifact6932     38.0    40.0  6.738988e-04    39.0  \n",
              "\n",
              "[5 rows x 67 columns]"
            ],
            "text/html": [
              "\n",
              "  <div id=\"df-16a24649-8346-4090-ae4b-f70888798b0b\">\n",
              "    <div class=\"colab-df-container\">\n",
              "      <div>\n",
              "<style scoped>\n",
              "    .dataframe tbody tr th:only-of-type {\n",
              "        vertical-align: middle;\n",
              "    }\n",
              "\n",
              "    .dataframe tbody tr th {\n",
              "        vertical-align: top;\n",
              "    }\n",
              "\n",
              "    .dataframe thead th {\n",
              "        text-align: right;\n",
              "    }\n",
              "</style>\n",
              "<table border=\"1\" class=\"dataframe\">\n",
              "  <thead>\n",
              "    <tr style=\"text-align: right;\">\n",
              "      <th></th>\n",
              "      <th>text</th>\n",
              "      <th>title</th>\n",
              "      <th>top_img</th>\n",
              "      <th>publish_date</th>\n",
              "      <th>images</th>\n",
              "      <th>source</th>\n",
              "      <th>target</th>\n",
              "      <th>tweet_mod</th>\n",
              "      <th>comp_text</th>\n",
              "      <th>lem_text</th>\n",
              "      <th>...</th>\n",
              "      <th>Sen15</th>\n",
              "      <th>Sen16</th>\n",
              "      <th>Sen17</th>\n",
              "      <th>Sen18</th>\n",
              "      <th>Sen19</th>\n",
              "      <th>G1</th>\n",
              "      <th>G2</th>\n",
              "      <th>G3</th>\n",
              "      <th>G4</th>\n",
              "      <th>G5</th>\n",
              "    </tr>\n",
              "    <tr>\n",
              "      <th>id</th>\n",
              "      <th></th>\n",
              "      <th></th>\n",
              "      <th></th>\n",
              "      <th></th>\n",
              "      <th></th>\n",
              "      <th></th>\n",
              "      <th></th>\n",
              "      <th></th>\n",
              "      <th></th>\n",
              "      <th></th>\n",
              "      <th></th>\n",
              "      <th></th>\n",
              "      <th></th>\n",
              "      <th></th>\n",
              "      <th></th>\n",
              "      <th></th>\n",
              "      <th></th>\n",
              "      <th></th>\n",
              "      <th></th>\n",
              "      <th></th>\n",
              "      <th></th>\n",
              "    </tr>\n",
              "  </thead>\n",
              "  <tbody>\n",
              "    <tr>\n",
              "      <th>politifact720</th>\n",
              "      <td>Organizing for ’18\\n\\nThrough Election Day\\n\\n...</td>\n",
              "      <td>Organizing for Action</td>\n",
              "      <td>https://secure.assets.bostatic.com/apps/quincy...</td>\n",
              "      <td>None</td>\n",
              "      <td>[https://secure.assets.bostatic.com/apps/quinc...</td>\n",
              "      <td>politifact</td>\n",
              "      <td>1</td>\n",
              "      <td>[{'time': None, 'type': 1, 'user': 1716929114,...</td>\n",
              "      <td>Organizing for 18 Through Election Day Sometim...</td>\n",
              "      <td>organize for 18 through election day sometimes...</td>\n",
              "      <td>...</td>\n",
              "      <td>0.949437</td>\n",
              "      <td>0.034845</td>\n",
              "      <td>0.071476</td>\n",
              "      <td>1.681818</td>\n",
              "      <td>0.011628</td>\n",
              "      <td>0.012289</td>\n",
              "      <td>79.0</td>\n",
              "      <td>86.0</td>\n",
              "      <td>1.866903e-04</td>\n",
              "      <td>85.0</td>\n",
              "    </tr>\n",
              "    <tr>\n",
              "      <th>politifact10731</th>\n",
              "      <td>COLUMBUS, Ohio — America's role as a world lea...</td>\n",
              "      <td>Call 'Islamic terrorism' what it is: a threat ...</td>\n",
              "      <td>http://triblive.com/csp/mediapool/sites/dt.com...</td>\n",
              "      <td>1429079762.0</td>\n",
              "      <td>[http://triblive.com/csp/mediapool/sites/TribL...</td>\n",
              "      <td>politifact</td>\n",
              "      <td>1</td>\n",
              "      <td>[{'time': None, 'type': 1, 'user': 1716929114,...</td>\n",
              "      <td>COLUMBUS Ohio America's role as a world leader...</td>\n",
              "      <td>columbus ohio americas role a a world leader a...</td>\n",
              "      <td>...</td>\n",
              "      <td>0.694333</td>\n",
              "      <td>0.000000</td>\n",
              "      <td>-0.738400</td>\n",
              "      <td>1.250000</td>\n",
              "      <td>0.041667</td>\n",
              "      <td>0.046498</td>\n",
              "      <td>20.0</td>\n",
              "      <td>24.0</td>\n",
              "      <td>3.071834e-03</td>\n",
              "      <td>23.0</td>\n",
              "    </tr>\n",
              "    <tr>\n",
              "      <th>politifact11115</th>\n",
              "      <td>In the course of the email review, State Depar...</td>\n",
              "      <td>Inquiry Sought in Hillary Clinton’s Use of Email</td>\n",
              "      <td>https://static01.nyt.com/images/2015/07/24/us/...</td>\n",
              "      <td>1437721200.0</td>\n",
              "      <td>[https://static01.nyt.com/images/2015/07/24/us...</td>\n",
              "      <td>politifact</td>\n",
              "      <td>1</td>\n",
              "      <td>[{'time': None, 'type': 1, 'user': 1716929114,...</td>\n",
              "      <td>In the course of the email review State Depart...</td>\n",
              "      <td>in the course of the email review state depart...</td>\n",
              "      <td>...</td>\n",
              "      <td>0.778346</td>\n",
              "      <td>0.012754</td>\n",
              "      <td>-0.472698</td>\n",
              "      <td>1.156863</td>\n",
              "      <td>0.000543</td>\n",
              "      <td>0.000609</td>\n",
              "      <td>1673.0</td>\n",
              "      <td>1842.0</td>\n",
              "      <td>5.721557e-07</td>\n",
              "      <td>1841.0</td>\n",
              "    </tr>\n",
              "    <tr>\n",
              "      <th>politifact14148</th>\n",
              "      <td>We all get lazy from time to time and just wan...</td>\n",
              "      <td>NASA Will Pay You 18000 USD To Stay In Bed And...</td>\n",
              "      <td>http://reflectionofmind.org/wp-content/uploads...</td>\n",
              "      <td>1482942009.0</td>\n",
              "      <td>[http://reflectionofmind.org/wp-content/upload...</td>\n",
              "      <td>politifact</td>\n",
              "      <td>0</td>\n",
              "      <td>[{'time': None, 'type': 1, 'user': 1716929114,...</td>\n",
              "      <td>We all get lazy from time to time and just wan...</td>\n",
              "      <td>we all get lazy from time to time and just wan...</td>\n",
              "      <td>...</td>\n",
              "      <td>0.829039</td>\n",
              "      <td>0.098993</td>\n",
              "      <td>0.134468</td>\n",
              "      <td>1.240000</td>\n",
              "      <td>0.000836</td>\n",
              "      <td>0.000885</td>\n",
              "      <td>1089.0</td>\n",
              "      <td>1196.0</td>\n",
              "      <td>1.024639e-06</td>\n",
              "      <td>1195.0</td>\n",
              "    </tr>\n",
              "    <tr>\n",
              "      <th>politifact6932</th>\n",
              "      <td>Mitt Romney came to coal country on Aug. 14, s...</td>\n",
              "      <td>Barack Obama says Mitt Romney condemned coal-f...</td>\n",
              "      <td>http://static.politifact.com.s3.amazonaws.com/...</td>\n",
              "      <td>1345705200.0</td>\n",
              "      <td>[http://metric.politifact.com/b/ss/spttbglobal...</td>\n",
              "      <td>politifact</td>\n",
              "      <td>1</td>\n",
              "      <td>[{'time': None, 'type': 1, 'user': 1716929114,...</td>\n",
              "      <td>Mitt Romney came to coal country on Aug. 14 st...</td>\n",
              "      <td>mitt romney come to coal country on aug 14 sta...</td>\n",
              "      <td>...</td>\n",
              "      <td>0.642184</td>\n",
              "      <td>0.016658</td>\n",
              "      <td>-0.765808</td>\n",
              "      <td>1.000000</td>\n",
              "      <td>0.025000</td>\n",
              "      <td>0.025214</td>\n",
              "      <td>38.0</td>\n",
              "      <td>40.0</td>\n",
              "      <td>6.738988e-04</td>\n",
              "      <td>39.0</td>\n",
              "    </tr>\n",
              "  </tbody>\n",
              "</table>\n",
              "<p>5 rows × 67 columns</p>\n",
              "</div>\n",
              "      <button class=\"colab-df-convert\" onclick=\"convertToInteractive('df-16a24649-8346-4090-ae4b-f70888798b0b')\"\n",
              "              title=\"Convert this dataframe to an interactive table.\"\n",
              "              style=\"display:none;\">\n",
              "        \n",
              "  <svg xmlns=\"http://www.w3.org/2000/svg\" height=\"24px\"viewBox=\"0 0 24 24\"\n",
              "       width=\"24px\">\n",
              "    <path d=\"M0 0h24v24H0V0z\" fill=\"none\"/>\n",
              "    <path d=\"M18.56 5.44l.94 2.06.94-2.06 2.06-.94-2.06-.94-.94-2.06-.94 2.06-2.06.94zm-11 1L8.5 8.5l.94-2.06 2.06-.94-2.06-.94L8.5 2.5l-.94 2.06-2.06.94zm10 10l.94 2.06.94-2.06 2.06-.94-2.06-.94-.94-2.06-.94 2.06-2.06.94z\"/><path d=\"M17.41 7.96l-1.37-1.37c-.4-.4-.92-.59-1.43-.59-.52 0-1.04.2-1.43.59L10.3 9.45l-7.72 7.72c-.78.78-.78 2.05 0 2.83L4 21.41c.39.39.9.59 1.41.59.51 0 1.02-.2 1.41-.59l7.78-7.78 2.81-2.81c.8-.78.8-2.07 0-2.86zM5.41 20L4 18.59l7.72-7.72 1.47 1.35L5.41 20z\"/>\n",
              "  </svg>\n",
              "      </button>\n",
              "      \n",
              "  <style>\n",
              "    .colab-df-container {\n",
              "      display:flex;\n",
              "      flex-wrap:wrap;\n",
              "      gap: 12px;\n",
              "    }\n",
              "\n",
              "    .colab-df-convert {\n",
              "      background-color: #E8F0FE;\n",
              "      border: none;\n",
              "      border-radius: 50%;\n",
              "      cursor: pointer;\n",
              "      display: none;\n",
              "      fill: #1967D2;\n",
              "      height: 32px;\n",
              "      padding: 0 0 0 0;\n",
              "      width: 32px;\n",
              "    }\n",
              "\n",
              "    .colab-df-convert:hover {\n",
              "      background-color: #E2EBFA;\n",
              "      box-shadow: 0px 1px 2px rgba(60, 64, 67, 0.3), 0px 1px 3px 1px rgba(60, 64, 67, 0.15);\n",
              "      fill: #174EA6;\n",
              "    }\n",
              "\n",
              "    [theme=dark] .colab-df-convert {\n",
              "      background-color: #3B4455;\n",
              "      fill: #D2E3FC;\n",
              "    }\n",
              "\n",
              "    [theme=dark] .colab-df-convert:hover {\n",
              "      background-color: #434B5C;\n",
              "      box-shadow: 0px 1px 3px 1px rgba(0, 0, 0, 0.15);\n",
              "      filter: drop-shadow(0px 1px 2px rgba(0, 0, 0, 0.3));\n",
              "      fill: #FFFFFF;\n",
              "    }\n",
              "  </style>\n",
              "\n",
              "      <script>\n",
              "        const buttonEl =\n",
              "          document.querySelector('#df-16a24649-8346-4090-ae4b-f70888798b0b button.colab-df-convert');\n",
              "        buttonEl.style.display =\n",
              "          google.colab.kernel.accessAllowed ? 'block' : 'none';\n",
              "\n",
              "        async function convertToInteractive(key) {\n",
              "          const element = document.querySelector('#df-16a24649-8346-4090-ae4b-f70888798b0b');\n",
              "          const dataTable =\n",
              "            await google.colab.kernel.invokeFunction('convertToInteractive',\n",
              "                                                     [key], {});\n",
              "          if (!dataTable) return;\n",
              "\n",
              "          const docLinkHtml = 'Like what you see? Visit the ' +\n",
              "            '<a target=\"_blank\" href=https://colab.research.google.com/notebooks/data_table.ipynb>data table notebook</a>'\n",
              "            + ' to learn more about interactive tables.';\n",
              "          element.innerHTML = '';\n",
              "          dataTable['output_type'] = 'display_data';\n",
              "          await google.colab.output.renderOutput(dataTable, element);\n",
              "          const docLink = document.createElement('div');\n",
              "          docLink.innerHTML = docLinkHtml;\n",
              "          element.appendChild(docLink);\n",
              "        }\n",
              "      </script>\n",
              "    </div>\n",
              "  </div>\n",
              "  "
            ]
          },
          "metadata": {},
          "execution_count": 4
        }
      ]
    },
    {
      "cell_type": "code",
      "source": [
        "sent_lens = []\n",
        "sent_nums = []\n",
        "texts = []\n",
        "paras = []\n",
        "\n",
        "for idx in range(df[\"comp_text\"].shape[0]):\n",
        "    text = df[\"comp_text\"][idx]\n",
        "    texts.append(text)\n",
        "    sentences = tokenize.sent_tokenize(text)\n",
        "    sent_nums.append(len(sentences))\n",
        "    for sent in sentences:\n",
        "        sent_lens.append(len(text_to_word_sequence(sent)))\n",
        "    print(len(sentences))\n",
        "    paras.append(sentences)"
      ],
      "metadata": {
        "id": "zW6KwrZlETFg"
      },
      "execution_count": null,
      "outputs": []
    },
    {
      "cell_type": "code",
      "source": [
        "# sentences[0]\n",
        "# print(\"---\")\n",
        "paras[0]\n",
        "# len(paras[2])"
      ],
      "metadata": {
        "colab": {
          "base_uri": "https://localhost:8080/"
        },
        "id": "bax7g5rVJ_Gq",
        "outputId": "771f1a17-fbf2-4972-d7ed-193a2e70125e"
      },
      "execution_count": null,
      "outputs": [
        {
          "output_type": "execute_result",
          "data": {
            "text/plain": [
              "['Organizing for 18 Through Election Day Sometimes fighting for progress on the issues means fighting to win on election day.',\n",
              " \"This year many of the issues we've fought for for years are on the ballot so we're Organizing for 18.\",\n",
              " 'Host or find an event near you this election season.',\n",
              " 'Find an event']"
            ]
          },
          "metadata": {},
          "execution_count": 6
        }
      ]
    },
    {
      "cell_type": "code",
      "source": [
        "max_features=10000\n",
        "max_senten_len=40\n",
        "max_senten_num=6\n",
        "embed_size=100\n",
        "VALIDATION_SPLIT = 0.2"
      ],
      "metadata": {
        "id": "Stonxlk1BXVN"
      },
      "execution_count": null,
      "outputs": []
    },
    {
      "cell_type": "code",
      "source": [
        "tokenizer = Tokenizer(num_words=max_features, oov_token=True)\n",
        "tokenizer.fit_on_texts(texts)\n",
        "data = np.zeros((len(texts), max_senten_num, max_senten_len), dtype='int32')\n",
        "for i, sentences in enumerate(paras):\n",
        "    for j, sent in enumerate(sentences):\n",
        "        if j< max_senten_num:\n",
        "            wordTokens = text_to_word_sequence(sent)\n",
        "            k=0\n",
        "            for _, word in enumerate(wordTokens):\n",
        "                try:\n",
        "                    if k<max_senten_len and tokenizer.word_index[word]<max_features:\n",
        "                        data[i,j,k] = tokenizer.word_index[word]\n",
        "                        k=k+1\n",
        "                except:\n",
        "                    print(word)\n",
        "                    pass"
      ],
      "metadata": {
        "id": "0QqUbo-D_Mk_"
      },
      "execution_count": null,
      "outputs": []
    },
    {
      "cell_type": "code",
      "source": [
        "sns.distplot(sent_lens, bins=200)\n",
        "plt.show()"
      ],
      "metadata": {
        "colab": {
          "base_uri": "https://localhost:8080/",
          "height": 321
        },
        "id": "wdsGl92SKcrx",
        "outputId": "5a09371f-9774-4f56-e8c0-73d45fc3cd57"
      },
      "execution_count": null,
      "outputs": [
        {
          "output_type": "stream",
          "name": "stderr",
          "text": [
            "/usr/local/lib/python3.8/dist-packages/seaborn/distributions.py:2619: FutureWarning: `distplot` is a deprecated function and will be removed in a future version. Please adapt your code to use either `displot` (a figure-level function with similar flexibility) or `histplot` (an axes-level function for histograms).\n",
            "  warnings.warn(msg, FutureWarning)\n"
          ]
        },
        {
          "output_type": "display_data",
          "data": {
            "text/plain": [
              "<Figure size 432x288 with 1 Axes>"
            ],
            "image/png": "[encoded data removed]"
          },
          "metadata": {
            "needs_background": "light"
          }
        }
      ]
    },
    {
      "cell_type": "code",
      "source": [
        "sent_lens"
      ],
      "metadata": {
        "id": "X49qAppeJSaJ"
      },
      "execution_count": null,
      "outputs": []
    },
    {
      "cell_type": "code",
      "source": [
        "data.shape"
      ],
      "metadata": {
        "colab": {
          "base_uri": "https://localhost:8080/"
        },
        "id": "VDILNjmxK6ZQ",
        "outputId": "89f94e7b-3e86-4418-dbd1-bc1d7df061a8"
      },
      "execution_count": null,
      "outputs": [
        {
          "output_type": "execute_result",
          "data": {
            "text/plain": [
              "(312, 6, 40)"
            ]
          },
          "metadata": {},
          "execution_count": 11
        }
      ]
    },
    {
      "cell_type": "code",
      "source": [
        "word_index = tokenizer.word_index\n",
        "print('Total %s unique tokens.' % len(word_index))"
      ],
      "metadata": {
        "colab": {
          "base_uri": "https://localhost:8080/"
        },
        "id": "BMsaPY3vK-fe",
        "outputId": "17e2ef5e-0ae1-4f03-a916-c55ed05e8f69"
      },
      "execution_count": null,
      "outputs": [
        {
          "output_type": "stream",
          "name": "stdout",
          "text": [
            "Total 17560 unique tokens.\n"
          ]
        }
      ]
    },
    {
      "cell_type": "code",
      "source": [
        "labels = pd.get_dummies(df[\"target\"])\n",
        "# labels = df[\"target\"]"
      ],
      "metadata": {
        "id": "qcsD-akXLBU9"
      },
      "execution_count": null,
      "outputs": []
    },
    {
      "cell_type": "code",
      "source": [
        "fea_st_col = df.iloc[:, 10:10 + 14 + 13].columns\n",
        "fea_sen_col = df.iloc[:, 10 + 14 + 13 + 6:10 + 14 + 13 + 6 + 19].columns"
      ],
      "metadata": {
        "id": "KYZmASmucTrQ"
      },
      "execution_count": null,
      "outputs": []
    },
    {
      "cell_type": "code",
      "source": [
        "union_cols = fea_st_col.union(fea_sen_col)"
      ],
      "metadata": {
        "id": "wyfRjP1U2XoY"
      },
      "execution_count": null,
      "outputs": []
    },
    {
      "cell_type": "code",
      "source": [
        "sample_feature_array = df[union_cols]"
      ],
      "metadata": {
        "id": "MCzwT8wd2bRV"
      },
      "execution_count": null,
      "outputs": []
    },
    {
      "cell_type": "code",
      "source": [
        "print('Shape of data tensor:', data.shape)\n",
        "print('Shape of labels tensor:', labels.shape)\n",
        "print('Shape of sample_feature_array tensor:', sample_feature_array.shape)"
      ],
      "metadata": {
        "colab": {
          "base_uri": "https://localhost:8080/"
        },
        "id": "pfPelUK8LNfI",
        "outputId": "fb3b429f-cbd0-4a26-e912-9ed809a6e9fc"
      },
      "execution_count": null,
      "outputs": [
        {
          "output_type": "stream",
          "name": "stdout",
          "text": [
            "Shape of data tensor: (312, 6, 40)\n",
            "Shape of labels tensor: (312, 2)\n",
            "Shape of sample_feature_array tensor: (312, 46)\n"
          ]
        }
      ]
    },
    {
      "cell_type": "code",
      "source": [
        "indices = np.arange(data.shape[0])"
      ],
      "metadata": {
        "id": "PoHLCeqOPGQx"
      },
      "execution_count": null,
      "outputs": []
    },
    {
      "cell_type": "code",
      "source": [
        "data = data[indices]"
      ],
      "metadata": {
        "id": "2RwrMU1dVMxM"
      },
      "execution_count": null,
      "outputs": []
    },
    {
      "cell_type": "code",
      "source": [
        "data.shape"
      ],
      "metadata": {
        "colab": {
          "base_uri": "https://localhost:8080/"
        },
        "id": "iEwADdziVSUF",
        "outputId": "c6a3c5c9-c91e-4bb2-ad13-e5cbbc2d9daa"
      },
      "execution_count": null,
      "outputs": [
        {
          "output_type": "execute_result",
          "data": {
            "text/plain": [
              "(312, 6, 40)"
            ]
          },
          "metadata": {},
          "execution_count": 17
        }
      ]
    },
    {
      "cell_type": "code",
      "source": [
        "x_train, x_test, y_train, y_test, f_train, f_test = train_test_split(data, df['target'], sample_feature_array, test_size= .15, random_state= 111, stratify= df['target'] )\n",
        "x_train, x_val, y_train, y_val, f_train, f_val= train_test_split(x_train, y_train,f_train, test_size= .10, random_state= 111, stratify= None )"
      ],
      "metadata": {
        "id": "D_IRCpwDXS1h"
      },
      "execution_count": null,
      "outputs": []
    },
    {
      "cell_type": "code",
      "source": [
        "x_train"
      ],
      "metadata": {
        "id": "xWSKwOCPUd7Q"
      },
      "execution_count": null,
      "outputs": []
    },
    {
      "cell_type": "code",
      "source": [
        "x_train.shape"
      ],
      "metadata": {
        "colab": {
          "base_uri": "https://localhost:8080/"
        },
        "id": "tFICaSJVXXrM",
        "outputId": "6fd3c735-5642-47c3-837c-a10bf2d60f95"
      },
      "execution_count": null,
      "outputs": [
        {
          "output_type": "execute_result",
          "data": {
            "text/plain": [
              "(238, 6, 40)"
            ]
          },
          "metadata": {},
          "execution_count": 21
        }
      ]
    },
    {
      "cell_type": "code",
      "source": [
        "# x_train, x_test, y_train, y_test = train_test_split(data, df['target'], test_size= .15, random_state= 111, stratify= None )\n",
        "# x_train, x_val, y_train, y_val= train_test_split(x_train, y_train, test_size= .10, random_state= 111, stratify= None )\n",
        "\n",
        "indices = np.arange(data.shape[0])\n",
        "# np.random.shuffle(indices)\n",
        "data = data[indices]\n",
        "labels = labels.iloc[indices]\n",
        "nb_validation_samples = int(VALIDATION_SPLIT * data.shape[0])\n",
        "\n",
        "x_train = data[:-nb_validation_samples]\n",
        "y_train = labels[:-nb_validation_samples]\n",
        "x_val = data[-nb_validation_samples:]\n",
        "y_val = labels[-nb_validation_samples:]\n",
        "print('Number of positive and negative reviews in traing and validation set')\n",
        "f_train = sample_feature_array[:-nb_validation_samples]\n",
        "f_val = sample_feature_array[-nb_validation_samples:]\n",
        "# print(y_train.columns.tolist())\n",
        "# print(y_train.sum(axis=0).tolist())\n",
        "# print(y_val.sum(axis=0).tolist())"
      ],
      "metadata": {
        "colab": {
          "base_uri": "https://localhost:8080/"
        },
        "id": "8YgxADbELQ9C",
        "outputId": "d24f5185-a4f4-47b5-aeda-3e65b5c58dee"
      },
      "execution_count": null,
      "outputs": [
        {
          "output_type": "stream",
          "name": "stdout",
          "text": [
            "Number of positive and negative reviews in traing and validation set\n"
          ]
        }
      ]
    },
    {
      "cell_type": "code",
      "source": [
        "x_train[0]"
      ],
      "metadata": {
        "id": "SoGZdSmTUYHE"
      },
      "execution_count": null,
      "outputs": []
    },
    {
      "cell_type": "code",
      "source": [
        "f_train = sample_feature_array[:-nb_validation_samples]\n",
        "f_val = sample_feature_array[-nb_validation_samples:]"
      ],
      "metadata": {
        "id": "uTVmqysyNi0c"
      },
      "execution_count": null,
      "outputs": []
    },
    {
      "cell_type": "code",
      "source": [
        "f_val.shape"
      ],
      "metadata": {
        "colab": {
          "base_uri": "https://localhost:8080/"
        },
        "id": "bHgrkpQQNx-m",
        "outputId": "03620ca4-b142-46a1-8942-8609f9a11ea8"
      },
      "execution_count": null,
      "outputs": [
        {
          "output_type": "execute_result",
          "data": {
            "text/plain": [
              "(62, 57)"
            ]
          },
          "metadata": {},
          "execution_count": 24
        }
      ]
    },
    {
      "cell_type": "code",
      "source": [
        "y_val"
      ],
      "metadata": {
        "colab": {
          "base_uri": "https://localhost:8080/",
          "height": 455
        },
        "id": "yXDfTj0Bc3pr",
        "outputId": "173ede3c-3f8f-42c9-f6e1-6e78fffd9b06"
      },
      "execution_count": null,
      "outputs": [
        {
          "output_type": "execute_result",
          "data": {
            "text/plain": [
              "                 0  1\n",
              "id                   \n",
              "politifact15371  1  0\n",
              "politifact13132  0  1\n",
              "politifact15187  1  0\n",
              "politifact14289  1  0\n",
              "politifact8152   0  1\n",
              "...             .. ..\n",
              "politifact7511   0  1\n",
              "politifact160    0  1\n",
              "politifact13443  0  1\n",
              "politifact14003  1  0\n",
              "politifact10903  0  1\n",
              "\n",
              "[62 rows x 2 columns]"
            ],
            "text/html": [
              "\n",
              "  <div id=\"df-2a8753f5-9fdd-402a-844d-3fd306c96327\">\n",
              "    <div class=\"colab-df-container\">\n",
              "      <div>\n",
              "<style scoped>\n",
              "    .dataframe tbody tr th:only-of-type {\n",
              "        vertical-align: middle;\n",
              "    }\n",
              "\n",
              "    .dataframe tbody tr th {\n",
              "        vertical-align: top;\n",
              "    }\n",
              "\n",
              "    .dataframe thead th {\n",
              "        text-align: right;\n",
              "    }\n",
              "</style>\n",
              "<table border=\"1\" class=\"dataframe\">\n",
              "  <thead>\n",
              "    <tr style=\"text-align: right;\">\n",
              "      <th></th>\n",
              "      <th>0</th>\n",
              "      <th>1</th>\n",
              "    </tr>\n",
              "    <tr>\n",
              "      <th>id</th>\n",
              "      <th></th>\n",
              "      <th></th>\n",
              "    </tr>\n",
              "  </thead>\n",
              "  <tbody>\n",
              "    <tr>\n",
              "      <th>politifact15371</th>\n",
              "      <td>1</td>\n",
              "      <td>0</td>\n",
              "    </tr>\n",
              "    <tr>\n",
              "      <th>politifact13132</th>\n",
              "      <td>0</td>\n",
              "      <td>1</td>\n",
              "    </tr>\n",
              "    <tr>\n",
              "      <th>politifact15187</th>\n",
              "      <td>1</td>\n",
              "      <td>0</td>\n",
              "    </tr>\n",
              "    <tr>\n",
              "      <th>politifact14289</th>\n",
              "      <td>1</td>\n",
              "      <td>0</td>\n",
              "    </tr>\n",
              "    <tr>\n",
              "      <th>politifact8152</th>\n",
              "      <td>0</td>\n",
              "      <td>1</td>\n",
              "    </tr>\n",
              "    <tr>\n",
              "      <th>...</th>\n",
              "      <td>...</td>\n",
              "      <td>...</td>\n",
              "    </tr>\n",
              "    <tr>\n",
              "      <th>politifact7511</th>\n",
              "      <td>0</td>\n",
              "      <td>1</td>\n",
              "    </tr>\n",
              "    <tr>\n",
              "      <th>politifact160</th>\n",
              "      <td>0</td>\n",
              "      <td>1</td>\n",
              "    </tr>\n",
              "    <tr>\n",
              "      <th>politifact13443</th>\n",
              "      <td>0</td>\n",
              "      <td>1</td>\n",
              "    </tr>\n",
              "    <tr>\n",
              "      <th>politifact14003</th>\n",
              "      <td>1</td>\n",
              "      <td>0</td>\n",
              "    </tr>\n",
              "    <tr>\n",
              "      <th>politifact10903</th>\n",
              "      <td>0</td>\n",
              "      <td>1</td>\n",
              "    </tr>\n",
              "  </tbody>\n",
              "</table>\n",
              "<p>62 rows × 2 columns</p>\n",
              "</div>\n",
              "      <button class=\"colab-df-convert\" onclick=\"convertToInteractive('df-2a8753f5-9fdd-402a-844d-3fd306c96327')\"\n",
              "              title=\"Convert this dataframe to an interactive table.\"\n",
              "              style=\"display:none;\">\n",
              "        \n",
              "  <svg xmlns=\"http://www.w3.org/2000/svg\" height=\"24px\"viewBox=\"0 0 24 24\"\n",
              "       width=\"24px\">\n",
              "    <path d=\"M0 0h24v24H0V0z\" fill=\"none\"/>\n",
              "    <path d=\"M18.56 5.44l.94 2.06.94-2.06 2.06-.94-2.06-.94-.94-2.06-.94 2.06-2.06.94zm-11 1L8.5 8.5l.94-2.06 2.06-.94-2.06-.94L8.5 2.5l-.94 2.06-2.06.94zm10 10l.94 2.06.94-2.06 2.06-.94-2.06-.94-.94-2.06-.94 2.06-2.06.94z\"/><path d=\"M17.41 7.96l-1.37-1.37c-.4-.4-.92-.59-1.43-.59-.52 0-1.04.2-1.43.59L10.3 9.45l-7.72 7.72c-.78.78-.78 2.05 0 2.83L4 21.41c.39.39.9.59 1.41.59.51 0 1.02-.2 1.41-.59l7.78-7.78 2.81-2.81c.8-.78.8-2.07 0-2.86zM5.41 20L4 18.59l7.72-7.72 1.47 1.35L5.41 20z\"/>\n",
              "  </svg>\n",
              "      </button>\n",
              "      \n",
              "  <style>\n",
              "    .colab-df-container {\n",
              "      display:flex;\n",
              "      flex-wrap:wrap;\n",
              "      gap: 12px;\n",
              "    }\n",
              "\n",
              "    .colab-df-convert {\n",
              "      background-color: #E8F0FE;\n",
              "      border: none;\n",
              "      border-radius: 50%;\n",
              "      cursor: pointer;\n",
              "      display: none;\n",
              "      fill: #1967D2;\n",
              "      height: 32px;\n",
              "      padding: 0 0 0 0;\n",
              "      width: 32px;\n",
              "    }\n",
              "\n",
              "    .colab-df-convert:hover {\n",
              "      background-color: #E2EBFA;\n",
              "      box-shadow: 0px 1px 2px rgba(60, 64, 67, 0.3), 0px 1px 3px 1px rgba(60, 64, 67, 0.15);\n",
              "      fill: #174EA6;\n",
              "    }\n",
              "\n",
              "    [theme=dark] .colab-df-convert {\n",
              "      background-color: #3B4455;\n",
              "      fill: #D2E3FC;\n",
              "    }\n",
              "\n",
              "    [theme=dark] .colab-df-convert:hover {\n",
              "      background-color: #434B5C;\n",
              "      box-shadow: 0px 1px 3px 1px rgba(0, 0, 0, 0.15);\n",
              "      filter: drop-shadow(0px 1px 2px rgba(0, 0, 0, 0.3));\n",
              "      fill: #FFFFFF;\n",
              "    }\n",
              "  </style>\n",
              "\n",
              "      <script>\n",
              "        const buttonEl =\n",
              "          document.querySelector('#df-2a8753f5-9fdd-402a-844d-3fd306c96327 button.colab-df-convert');\n",
              "        buttonEl.style.display =\n",
              "          google.colab.kernel.accessAllowed ? 'block' : 'none';\n",
              "\n",
              "        async function convertToInteractive(key) {\n",
              "          const element = document.querySelector('#df-2a8753f5-9fdd-402a-844d-3fd306c96327');\n",
              "          const dataTable =\n",
              "            await google.colab.kernel.invokeFunction('convertToInteractive',\n",
              "                                                     [key], {});\n",
              "          if (!dataTable) return;\n",
              "\n",
              "          const docLinkHtml = 'Like what you see? Visit the ' +\n",
              "            '<a target=\"_blank\" href=https://colab.research.google.com/notebooks/data_table.ipynb>data table notebook</a>'\n",
              "            + ' to learn more about interactive tables.';\n",
              "          element.innerHTML = '';\n",
              "          dataTable['output_type'] = 'display_data';\n",
              "          await google.colab.output.renderOutput(dataTable, element);\n",
              "          const docLink = document.createElement('div');\n",
              "          docLink.innerHTML = docLinkHtml;\n",
              "          element.appendChild(docLink);\n",
              "        }\n",
              "      </script>\n",
              "    </div>\n",
              "  </div>\n",
              "  "
            ]
          },
          "metadata": {},
          "execution_count": 25
        }
      ]
    },
    {
      "cell_type": "code",
      "source": [
        "x_train.shape"
      ],
      "metadata": {
        "colab": {
          "base_uri": "https://localhost:8080/"
        },
        "id": "uHrHxoEJBppV",
        "outputId": "2dca56df-3394-41d0-85d2-ff83ab41e68a"
      },
      "execution_count": null,
      "outputs": [
        {
          "output_type": "execute_result",
          "data": {
            "text/plain": [
              "(238, 6, 40)"
            ]
          },
          "metadata": {},
          "execution_count": 61
        }
      ]
    },
    {
      "cell_type": "code",
      "source": [
        "y_train.shape"
      ],
      "metadata": {
        "colab": {
          "base_uri": "https://localhost:8080/"
        },
        "id": "CWXGDpyDKVta",
        "outputId": "bb421197-da81-4d69-fe95-4cfcf0a5f4b7"
      },
      "execution_count": null,
      "outputs": [
        {
          "output_type": "execute_result",
          "data": {
            "text/plain": [
              "(238,)"
            ]
          },
          "metadata": {},
          "execution_count": 62
        }
      ]
    },
    {
      "cell_type": "code",
      "source": [
        "labels"
      ],
      "metadata": {
        "colab": {
          "base_uri": "https://localhost:8080/",
          "height": 455
        },
        "id": "Uj3qHChMcPYs",
        "outputId": "06c89f04-1841-4870-a187-e8dc70530ce4"
      },
      "execution_count": null,
      "outputs": [
        {
          "output_type": "execute_result",
          "data": {
            "text/plain": [
              "                 0  1\n",
              "id                   \n",
              "politifact720    0  1\n",
              "politifact10731  0  1\n",
              "politifact11115  0  1\n",
              "politifact14148  1  0\n",
              "politifact6932   0  1\n",
              "...             .. ..\n",
              "politifact7511   0  1\n",
              "politifact160    0  1\n",
              "politifact13443  0  1\n",
              "politifact14003  1  0\n",
              "politifact10903  0  1\n",
              "\n",
              "[312 rows x 2 columns]"
            ],
            "text/html": [
              "\n",
              "  <div id=\"df-17b55281-e6a0-4b1e-880f-d08af7cae18e\">\n",
              "    <div class=\"colab-df-container\">\n",
              "      <div>\n",
              "<style scoped>\n",
              "    .dataframe tbody tr th:only-of-type {\n",
              "        vertical-align: middle;\n",
              "    }\n",
              "\n",
              "    .dataframe tbody tr th {\n",
              "        vertical-align: top;\n",
              "    }\n",
              "\n",
              "    .dataframe thead th {\n",
              "        text-align: right;\n",
              "    }\n",
              "</style>\n",
              "<table border=\"1\" class=\"dataframe\">\n",
              "  <thead>\n",
              "    <tr style=\"text-align: right;\">\n",
              "      <th></th>\n",
              "      <th>0</th>\n",
              "      <th>1</th>\n",
              "    </tr>\n",
              "    <tr>\n",
              "      <th>id</th>\n",
              "      <th></th>\n",
              "      <th></th>\n",
              "    </tr>\n",
              "  </thead>\n",
              "  <tbody>\n",
              "    <tr>\n",
              "      <th>politifact720</th>\n",
              "      <td>0</td>\n",
              "      <td>1</td>\n",
              "    </tr>\n",
              "    <tr>\n",
              "      <th>politifact10731</th>\n",
              "      <td>0</td>\n",
              "      <td>1</td>\n",
              "    </tr>\n",
              "    <tr>\n",
              "      <th>politifact11115</th>\n",
              "      <td>0</td>\n",
              "      <td>1</td>\n",
              "    </tr>\n",
              "    <tr>\n",
              "      <th>politifact14148</th>\n",
              "      <td>1</td>\n",
              "      <td>0</td>\n",
              "    </tr>\n",
              "    <tr>\n",
              "      <th>politifact6932</th>\n",
              "      <td>0</td>\n",
              "      <td>1</td>\n",
              "    </tr>\n",
              "    <tr>\n",
              "      <th>...</th>\n",
              "      <td>...</td>\n",
              "      <td>...</td>\n",
              "    </tr>\n",
              "    <tr>\n",
              "      <th>politifact7511</th>\n",
              "      <td>0</td>\n",
              "      <td>1</td>\n",
              "    </tr>\n",
              "    <tr>\n",
              "      <th>politifact160</th>\n",
              "      <td>0</td>\n",
              "      <td>1</td>\n",
              "    </tr>\n",
              "    <tr>\n",
              "      <th>politifact13443</th>\n",
              "      <td>0</td>\n",
              "      <td>1</td>\n",
              "    </tr>\n",
              "    <tr>\n",
              "      <th>politifact14003</th>\n",
              "      <td>1</td>\n",
              "      <td>0</td>\n",
              "    </tr>\n",
              "    <tr>\n",
              "      <th>politifact10903</th>\n",
              "      <td>0</td>\n",
              "      <td>1</td>\n",
              "    </tr>\n",
              "  </tbody>\n",
              "</table>\n",
              "<p>312 rows × 2 columns</p>\n",
              "</div>\n",
              "      <button class=\"colab-df-convert\" onclick=\"convertToInteractive('df-17b55281-e6a0-4b1e-880f-d08af7cae18e')\"\n",
              "              title=\"Convert this dataframe to an interactive table.\"\n",
              "              style=\"display:none;\">\n",
              "        \n",
              "  <svg xmlns=\"http://www.w3.org/2000/svg\" height=\"24px\"viewBox=\"0 0 24 24\"\n",
              "       width=\"24px\">\n",
              "    <path d=\"M0 0h24v24H0V0z\" fill=\"none\"/>\n",
              "    <path d=\"M18.56 5.44l.94 2.06.94-2.06 2.06-.94-2.06-.94-.94-2.06-.94 2.06-2.06.94zm-11 1L8.5 8.5l.94-2.06 2.06-.94-2.06-.94L8.5 2.5l-.94 2.06-2.06.94zm10 10l.94 2.06.94-2.06 2.06-.94-2.06-.94-.94-2.06-.94 2.06-2.06.94z\"/><path d=\"M17.41 7.96l-1.37-1.37c-.4-.4-.92-.59-1.43-.59-.52 0-1.04.2-1.43.59L10.3 9.45l-7.72 7.72c-.78.78-.78 2.05 0 2.83L4 21.41c.39.39.9.59 1.41.59.51 0 1.02-.2 1.41-.59l7.78-7.78 2.81-2.81c.8-.78.8-2.07 0-2.86zM5.41 20L4 18.59l7.72-7.72 1.47 1.35L5.41 20z\"/>\n",
              "  </svg>\n",
              "      </button>\n",
              "      \n",
              "  <style>\n",
              "    .colab-df-container {\n",
              "      display:flex;\n",
              "      flex-wrap:wrap;\n",
              "      gap: 12px;\n",
              "    }\n",
              "\n",
              "    .colab-df-convert {\n",
              "      background-color: #E8F0FE;\n",
              "      border: none;\n",
              "      border-radius: 50%;\n",
              "      cursor: pointer;\n",
              "      display: none;\n",
              "      fill: #1967D2;\n",
              "      height: 32px;\n",
              "      padding: 0 0 0 0;\n",
              "      width: 32px;\n",
              "    }\n",
              "\n",
              "    .colab-df-convert:hover {\n",
              "      background-color: #E2EBFA;\n",
              "      box-shadow: 0px 1px 2px rgba(60, 64, 67, 0.3), 0px 1px 3px 1px rgba(60, 64, 67, 0.15);\n",
              "      fill: #174EA6;\n",
              "    }\n",
              "\n",
              "    [theme=dark] .colab-df-convert {\n",
              "      background-color: #3B4455;\n",
              "      fill: #D2E3FC;\n",
              "    }\n",
              "\n",
              "    [theme=dark] .colab-df-convert:hover {\n",
              "      background-color: #434B5C;\n",
              "      box-shadow: 0px 1px 3px 1px rgba(0, 0, 0, 0.15);\n",
              "      filter: drop-shadow(0px 1px 2px rgba(0, 0, 0, 0.3));\n",
              "      fill: #FFFFFF;\n",
              "    }\n",
              "  </style>\n",
              "\n",
              "      <script>\n",
              "        const buttonEl =\n",
              "          document.querySelector('#df-17b55281-e6a0-4b1e-880f-d08af7cae18e button.colab-df-convert');\n",
              "        buttonEl.style.display =\n",
              "          google.colab.kernel.accessAllowed ? 'block' : 'none';\n",
              "\n",
              "        async function convertToInteractive(key) {\n",
              "          const element = document.querySelector('#df-17b55281-e6a0-4b1e-880f-d08af7cae18e');\n",
              "          const dataTable =\n",
              "            await google.colab.kernel.invokeFunction('convertToInteractive',\n",
              "                                                     [key], {});\n",
              "          if (!dataTable) return;\n",
              "\n",
              "          const docLinkHtml = 'Like what you see? Visit the ' +\n",
              "            '<a target=\"_blank\" href=https://colab.research.google.com/notebooks/data_table.ipynb>data table notebook</a>'\n",
              "            + ' to learn more about interactive tables.';\n",
              "          element.innerHTML = '';\n",
              "          dataTable['output_type'] = 'display_data';\n",
              "          await google.colab.output.renderOutput(dataTable, element);\n",
              "          const docLink = document.createElement('div');\n",
              "          docLink.innerHTML = docLinkHtml;\n",
              "          element.appendChild(docLink);\n",
              "        }\n",
              "      </script>\n",
              "    </div>\n",
              "  </div>\n",
              "  "
            ]
          },
          "metadata": {},
          "execution_count": 28
        }
      ]
    },
    {
      "cell_type": "code",
      "source": [
        "REG_PARAM = 1e-13\n",
        "l2_reg = regularizers.l2(REG_PARAM)"
      ],
      "metadata": {
        "id": "A3A4j8FaLcHG"
      },
      "execution_count": null,
      "outputs": []
    },
    {
      "cell_type": "code",
      "source": [
        "# !wget http://nlp.stanford.edu/data/glove.6B.zip\n"
      ],
      "metadata": {
        "id": "VASyRsA6pJ3d"
      },
      "execution_count": null,
      "outputs": []
    },
    {
      "cell_type": "code",
      "source": [
        "# !unzip glove*.zip\n"
      ],
      "metadata": {
        "id": "LPe1rsbzp0VV"
      },
      "execution_count": null,
      "outputs": []
    },
    {
      "cell_type": "code",
      "source": [
        "GLOVE_DIR = \"/content/drive/MyDrive/glove.6B.100d.txt\"\n",
        "embeddings_index = {}\n",
        "f = open(GLOVE_DIR)\n",
        "for line in f:\n",
        "    try:\n",
        "        values = line.split()\n",
        "        word = values[0]\n",
        "        coefs = values[1:]\n",
        "        # coefs = np.asarray(y, dtype='float32')\n",
        "        embeddings_index[word] = coefs\n",
        "    except:\n",
        "        print(\"except\")\n",
        "        print(word)\n",
        "        pass\n",
        "f.close()\n",
        "print('Total %s word vectors.' % len(embeddings_index))"
      ],
      "metadata": {
        "colab": {
          "base_uri": "https://localhost:8080/"
        },
        "id": "fTYXTLsvLhhY",
        "outputId": "f6015958-d5c2-4fc8-ba25-7e0d8051fc84"
      },
      "execution_count": null,
      "outputs": [
        {
          "output_type": "stream",
          "name": "stdout",
          "text": [
            "Total 400000 word vectors.\n"
          ]
        }
      ]
    },
    {
      "cell_type": "code",
      "source": [
        "print('Total %s word vectors.' % len(embeddings_index))"
      ],
      "metadata": {
        "colab": {
          "base_uri": "https://localhost:8080/"
        },
        "id": "9KF6l9fw4Apm",
        "outputId": "e38a5321-ba0f-4e5a-ea3f-633a2665a2e4"
      },
      "execution_count": null,
      "outputs": [
        {
          "output_type": "stream",
          "name": "stdout",
          "text": [
            "Total 400000 word vectors.\n"
          ]
        }
      ]
    },
    {
      "cell_type": "code",
      "source": [
        "embedding_matrix = np.zeros((len(word_index) + 1, embed_size))\n",
        "absent_words = 0\n",
        "for word, i in word_index.items():\n",
        "    embedding_vector = embeddings_index.get(word)\n",
        "    if embedding_vector is not None:\n",
        "        # words not found in embedding index will be all-zeros.\n",
        "        embedding_matrix[i] = embedding_vector\n",
        "    else:\n",
        "        absent_words += 1\n",
        "print('Total absent words are', absent_words, 'which is', \"%0.2f\" % (absent_words * 100 / len(word_index)), '% of total words')"
      ],
      "metadata": {
        "colab": {
          "base_uri": "https://localhost:8080/"
        },
        "id": "n7ZTdhVvq9OX",
        "outputId": "366ce9bd-b7cc-4776-d2ea-dc3b658ed863"
      },
      "execution_count": null,
      "outputs": [
        {
          "output_type": "stream",
          "name": "stdout",
          "text": [
            "Total absent words are 978 which is 5.57 % of total words\n"
          ]
        }
      ]
    },
    {
      "cell_type": "code",
      "source": [
        "embedding_layer = Embedding(len(word_index) + 1,embed_size,weights=[embedding_matrix], input_length=max_senten_len, trainable=False)"
      ],
      "metadata": {
        "id": "bFMWX8BO4xbH"
      },
      "execution_count": null,
      "outputs": []
    },
    {
      "cell_type": "code",
      "source": [
        "# from keras.engine.topology import Layer\n",
        "from tensorflow.keras.layers import Layer, InputSpec\n",
        "\n",
        "def dot_product(x, kernel):\n",
        "    \"\"\"\n",
        "    Wrapper for dot product operation, in order to be compatibl|e with both\n",
        "    Theano and Tensorflow\n",
        "    Args:\n",
        "        x (): input\n",
        "        kernel (): weights\n",
        "    Returns:\n",
        "    \"\"\"\n",
        "    if K.backend() == 'tensorflow':\n",
        "        return K.squeeze(K.dot(x, K.expand_dims(kernel)), axis=-1)\n",
        "    else:\n",
        "        return K.dot(x, kernel)\n",
        "\n",
        "class AttentionWithContext(tf.keras.layers.Layer):\n",
        "    \"\"\"\n",
        "    Attention operation, with a context/query vector, for temporal data.\n",
        "    Supports Masking.\n",
        "    Follows the work of Yang et al. [https://www.cs.cmu.edu/~diyiy/docs/naacl16.pdf]\n",
        "    \"Hierarchical Attention Networks for Document Classification\"\n",
        "    by using a context vector to assist the attention\n",
        "    # Input shape\n",
        "        3D tensor with shape: `(samples, steps, features)`.\n",
        "    # Output shape\n",
        "        2D tensor with shape: `(samples, features)`.\n",
        "    How to use:\n",
        "    Just put it on top of an RNN Layer (GRU/LSTM/SimpleRNN) with return_sequences=True.\n",
        "    The dimensions are inferred based on the output shape of the RNN.\n",
        "    Note: The layer has been tested with Keras 2.0.6\n",
        "    Example:\n",
        "        model.add(LSTM(64, return_sequences=True))\n",
        "        model.add(AttentionWithContext())\n",
        "        # next add a Dense layer (for classification/regression) or whatever...\n",
        "    \"\"\"\n",
        "\n",
        "    def __init__(self,\n",
        "                 W_regularizer=None, u_regularizer=None, b_regularizer=None,\n",
        "                 W_constraint=None, u_constraint=None, b_constraint=None,\n",
        "                 bias=True, context_vector_length = 1000, **kwargs):\n",
        "\n",
        "        self.supports_masking = True\n",
        "        self.init = initializers.get('glorot_uniform')\n",
        "\n",
        "        self.W_regularizer = regularizers.get(W_regularizer)\n",
        "        self.u_regularizer = regularizers.get(u_regularizer)\n",
        "        self.b_regularizer = regularizers.get(b_regularizer)\n",
        "\n",
        "        self.W_constraint = constraints.get(W_constraint)\n",
        "        self.u_constraint = constraints.get(u_constraint)\n",
        "        self.b_constraint = constraints.get(b_constraint)\n",
        "\n",
        "        self.bias = bias\n",
        "        self.context_vector_length = context_vector_length\n",
        "        super(AttentionWithContext, self).__init__(**kwargs)\n",
        "\n",
        "    def build(self, input_shape):\n",
        "        assert len(input_shape) == 3\n",
        "        print('{}_W'.format(self.name))\n",
        "        self.W = self.add_weight(shape=(input_shape[-1], input_shape[-1],),\n",
        "                                 initializer=self.init,\n",
        "                                 name='{}_W'.format(self.name),\n",
        "                                 regularizer=self.W_regularizer,\n",
        "                                 constraint=self.W_constraint)\n",
        "        if self.bias:\n",
        "            self.b = self.add_weight(shape=(input_shape[-1],),\n",
        "                                     initializer='zero',\n",
        "                                     name='{}_b'.format(self.name),\n",
        "                                     regularizer=self.b_regularizer,\n",
        "                                     constraint=self.b_constraint)\n",
        "\n",
        "        self.u = self.add_weight(shape=(input_shape[-1],),\n",
        "                                 initializer=self.init,\n",
        "                                 name='{}_u'.format(self.name),\n",
        "                                 regularizer=self.u_regularizer,\n",
        "                                 constraint=self.u_constraint)\n",
        "\n",
        "        super(AttentionWithContext, self).build(input_shape)\n",
        "\n",
        "    def compute_mask(self, input, input_mask=None):\n",
        "        # do not pass the mask to the next layers\n",
        "        return None\n",
        "\n",
        "    def call(self, x, mask=None):\n",
        "        uit = dot_product(x, self.W)\n",
        "\n",
        "        if self.bias:\n",
        "            uit += self.b\n",
        "\n",
        "        uit = K.tanh(uit)\n",
        "        ait = dot_product(uit, self.u)\n",
        "\n",
        "        a = K.exp(ait)\n",
        "\n",
        "        # apply mask after the exp. will be re-normalized next\n",
        "        if mask is not None:\n",
        "            # Cast the mask to floatX to avoid float64 upcasting in theano\n",
        "            a *= K.cast(mask, K.floatx())\n",
        "\n",
        "        # in some cases especially in the early stages of training the sum may be almost zero\n",
        "        # and this results in NaN's. A workaround is to add a very small positive number ε to the sum.\n",
        "        # a /= K.cast(K.sum(a, axis=1, keepdims=True), K.floatx())\n",
        "        a /= K.cast(K.sum(a, axis=1, keepdims=True) + K.epsilon(), K.floatx())\n",
        "\n",
        "        a = K.expand_dims(a)\n",
        "        weighted_input = x * a\n",
        "        return K.sum(weighted_input, axis=1)\n",
        "\n",
        "    def compute_output_shape(self, input_shape):\n",
        "        return input_shape[0], input_shape[-1]\n",
        "\n",
        "    def get_config(self):\n",
        "        config = {\n",
        "            'context_vector_length': self.context_vector_length\n",
        "        }\n",
        "        base_config = super(AttentionWithContext, self).get_config()\n",
        "        return {**base_config, **config}\n"
      ],
      "metadata": {
        "id": "OCFoIfaU5FPq"
      },
      "execution_count": null,
      "outputs": []
    },
    {
      "cell_type": "code",
      "source": [],
      "metadata": {
        "id": "_DZLznUPDvEP"
      },
      "execution_count": null,
      "outputs": []
    },
    {
      "cell_type": "code",
      "source": [
        "word_input = Input(shape=(max_senten_len,), dtype='float32')\n",
        "word_sequences = embedding_layer(word_input)\n",
        "embeding_dim = 128\n",
        "word_lstm = Bidirectional(LSTM(embeding_dim, return_sequences=True, kernel_regularizer=l2_reg))(word_sequences)\n",
        "word_dense = TimeDistributed(Dense(200, kernel_regularizer=l2_reg))(word_lstm)\n",
        "word_att = AttentionWithContext()(word_dense)\n",
        "wordEncoder = Model(word_input, word_att)\n",
        "\n",
        "sent_input = Input(shape=(max_senten_num, max_senten_len), dtype='float32')\n",
        "sent_encoder = TimeDistributed(wordEncoder)(sent_input)\n",
        "sent_lstm = Bidirectional(LSTM(embeding_dim, return_sequences=True, kernel_regularizer=l2_reg))(sent_encoder)\n",
        "sent_dense = TimeDistributed(Dense(200, kernel_regularizer=l2_reg))(sent_lstm)\n",
        "sent_att = Dropout(0.2)(AttentionWithContext()(sent_dense))\n",
        "# sentEncoder = Model(sent_input, sent_att)\n",
        "# preds = Dense(2, activation='sigmoid')(sent_att)\n",
        "dense_cat = Dense(128, activation='relu')(sent_att)\n",
        "# dense_cat shape == feature.shape 1 dim will be diff and rest same. \n",
        "feature_input = Input(shape=f_train.shape[1], dtype='float64', name='text')\n",
        "# fea_encoder = TimeDistributed(sent_encoder)(text_input)\n",
        "\n",
        "# embedded_text = tf.keras.layers.Embedding(64, len(f_train))(text_input)\n",
        "# encoded_feature = tf.keras.layers.LSTM(64)(feature_input)\n",
        "#shape of feature vector\n",
        "# feature_input = Input(shape=(sample_feature_array.shape), dtype='float64')\n",
        "# feature_encoder = tf.keras.layers.TimeDistributed(sample_feature_array)(feature_input)\n",
        "\n",
        "# feature_encoder = TimeDistributed(sample_feature_array)(feature_input)\n",
        "# feature_lstm = Bidirectional(LSTM(embeding_dim, return_sequences=True, kernel_regularizer=l2_reg))(feature_encoder)\n",
        "# feature_dense = TimeDistributed(Dense(200, kernel_regularizer=l2_reg))(feature_lstm)\n",
        "# feature_att = Dropout(0.5)(AttentionWithContext()(feature_dense))\n",
        "# merged = tf.keras.layers.concatenate([encoded_feature, dense_cat],axis=-1)\n",
        "merged = tf.keras.layers.Concatenate(axis=1)([feature_input, dense_cat])\n",
        "\n",
        "preds = tf.keras.layers.Dense(2, activation='softmax')(merged)\n",
        "# merged = tf.keras.layers.concatenate([dense_cat, feature_input])\n",
        "\n",
        "# preds = Dense(2, activation='sigmoid')(concatenated)\n",
        "\n",
        "model = Model([sent_input, feature_input], preds)\n",
        "# model = Model(preds, sent_input, text_input)\n",
        "# model.add(GlobalAveragePooling2D())\n"
      ],
      "metadata": {
        "colab": {
          "base_uri": "https://localhost:8080/"
        },
        "id": "eTdtECWZ41N_",
        "outputId": "526a9dde-4d9c-48c4-e2c2-b8b6515b2d4c"
      },
      "execution_count": null,
      "outputs": [
        {
          "output_type": "stream",
          "name": "stdout",
          "text": [
            "attention_with_context_W\n",
            "attention_with_context_1_W\n"
          ]
        }
      ]
    },
    {
      "cell_type": "code",
      "source": [
        "model.compile(loss='categorical_crossentropy',optimizer=tf.keras.optimizers.Adam(1e-3),metrics=['accuracy'])"
      ],
      "metadata": {
        "id": "d3dluKpHAeq-"
      },
      "execution_count": null,
      "outputs": []
    },
    {
      "cell_type": "code",
      "source": [
        "model.summary()"
      ],
      "metadata": {
        "colab": {
          "base_uri": "https://localhost:8080/"
        },
        "id": "iKTPlbry_t6u",
        "outputId": "b7a8ef45-53a8-4454-afa4-8f6cfcd714d6"
      },
      "execution_count": null,
      "outputs": [
        {
          "output_type": "stream",
          "name": "stdout",
          "text": [
            "Model: \"model_1\"\n",
            "__________________________________________________________________________________________________\n",
            " Layer (type)                   Output Shape         Param #     Connected to                     \n",
            "==================================================================================================\n",
            " input_2 (InputLayer)           [(None, 6, 40)]      0           []                               \n",
            "                                                                                                  \n",
            " time_distributed_1 (TimeDistri  (None, 6, 200)      2082396     ['input_2[0][0]']                \n",
            " buted)                                                                                           \n",
            "                                                                                                  \n",
            " bidirectional_1 (Bidirectional  (None, 6, 256)      336896      ['time_distributed_1[0][0]']     \n",
            " )                                                                                                \n",
            "                                                                                                  \n",
            " time_distributed_2 (TimeDistri  (None, 6, 200)      51400       ['bidirectional_1[0][0]']        \n",
            " buted)                                                                                           \n",
            "                                                                                                  \n",
            " attention_with_context_1 (Atte  (None, 200)         40400       ['time_distributed_2[0][0]']     \n",
            " ntionWithContext)                                                                                \n",
            "                                                                                                  \n",
            " dropout (Dropout)              (None, 200)          0           ['attention_with_context_1[0][0]'\n",
            "                                                                 ]                                \n",
            "                                                                                                  \n",
            " text (InputLayer)              [(None, 46)]         0           []                               \n",
            "                                                                                                  \n",
            " dense_2 (Dense)                (None, 128)          25728       ['dropout[0][0]']                \n",
            "                                                                                                  \n",
            " concatenate (Concatenate)      (None, 174)          0           ['text[0][0]',                   \n",
            "                                                                  'dense_2[0][0]']                \n",
            "                                                                                                  \n",
            " dense_3 (Dense)                (None, 2)            350         ['concatenate[0][0]']            \n",
            "                                                                                                  \n",
            "==================================================================================================\n",
            "Total params: 2,537,170\n",
            "Trainable params: 781,070\n",
            "Non-trainable params: 1,756,100\n",
            "__________________________________________________________________________________________________\n"
          ]
        }
      ]
    },
    {
      "cell_type": "code",
      "source": [
        "earlyStopping = EarlyStopping(monitor='val_loss', patience=10, verbose=0, mode='min')\n",
        "mcp_save = ModelCheckpoint('.mdl_wts.hdf5', save_best_only=True, monitor='val_loss', mode='min')"
      ],
      "metadata": {
        "id": "0Brmua8v9SSN"
      },
      "execution_count": null,
      "outputs": []
    },
    {
      "cell_type": "code",
      "source": [
        "scaler = preprocessing.MinMaxScaler()\n",
        "f_train_transform = scaler.fit_transform(f_train)\n",
        "f_val_transform = scaler.fit_transform(f_val)\n",
        "f_test_transform = scaler.fit_transform(f_test)"
      ],
      "metadata": {
        "id": "6u6c8oDC3VCT"
      },
      "execution_count": null,
      "outputs": []
    },
    {
      "cell_type": "code",
      "source": [
        "merged_train_arr = [x_train, f_train_transform]\n",
        "merged_val_arr = [x_val, f_val_transform]\n",
        "# merged_test_arr = [x_test, f_test_transform]"
      ],
      "metadata": {
        "id": "bKSJz_AKYMfs"
      },
      "execution_count": null,
      "outputs": []
    },
    {
      "cell_type": "code",
      "source": [
        "merged_val_arr"
      ],
      "metadata": {
        "id": "epoBuEEoX9My"
      },
      "execution_count": null,
      "outputs": []
    },
    {
      "cell_type": "code",
      "source": [
        "start = time.time()\n",
        "berthist = model.fit(merged_train_arr, y_train, validation_data= (merged_val_arr, y_val), epochs=100, batch_size=64, verbose=1, callbacks=[earlyStopping, mcp_save])\n",
        "print(time.time()-start)"
      ],
      "metadata": {
        "colab": {
          "base_uri": "https://localhost:8080/"
        },
        "id": "cJQ4mHZY9Wlt",
        "outputId": "fa0c7486-0b59-4c7b-f2a7-a8126d8075a3"
      },
      "execution_count": null,
      "outputs": [
        {
          "output_type": "stream",
          "name": "stdout",
          "text": [
            "Epoch 1/100\n",
            "4/4 [==============================] - 18s 2s/step - loss: 0.7237 - accuracy: 0.4040 - val_loss: 0.6658 - val_accuracy: 0.5645\n",
            "Epoch 2/100\n",
            "4/4 [==============================] - 3s 837ms/step - loss: 0.6928 - accuracy: 0.5080 - val_loss: 0.6414 - val_accuracy: 0.6935\n",
            "Epoch 3/100\n",
            "4/4 [==============================] - 3s 838ms/step - loss: 0.6306 - accuracy: 0.6280 - val_loss: 0.5466 - val_accuracy: 0.7258\n",
            "Epoch 4/100\n",
            "4/4 [==============================] - 3s 818ms/step - loss: 0.5250 - accuracy: 0.7480 - val_loss: 0.5567 - val_accuracy: 0.7258\n",
            "Epoch 5/100\n",
            "4/4 [==============================] - 3s 801ms/step - loss: 0.4884 - accuracy: 0.7760 - val_loss: 0.5997 - val_accuracy: 0.7258\n",
            "Epoch 6/100\n",
            "4/4 [==============================] - 3s 833ms/step - loss: 0.5133 - accuracy: 0.7400 - val_loss: 0.4421 - val_accuracy: 0.8387\n",
            "Epoch 7/100\n",
            "4/4 [==============================] - 3s 803ms/step - loss: 0.4811 - accuracy: 0.7760 - val_loss: 0.4476 - val_accuracy: 0.8387\n",
            "Epoch 8/100\n",
            "4/4 [==============================] - 3s 826ms/step - loss: 0.4410 - accuracy: 0.7800 - val_loss: 0.4394 - val_accuracy: 0.8226\n",
            "Epoch 9/100\n",
            "4/4 [==============================] - 3s 810ms/step - loss: 0.3956 - accuracy: 0.8200 - val_loss: 0.4420 - val_accuracy: 0.8871\n",
            "Epoch 10/100\n",
            "4/4 [==============================] - 3s 825ms/step - loss: 0.3775 - accuracy: 0.8200 - val_loss: 0.4207 - val_accuracy: 0.8871\n",
            "Epoch 11/100\n",
            "4/4 [==============================] - 3s 805ms/step - loss: 0.3510 - accuracy: 0.8440 - val_loss: 0.4225 - val_accuracy: 0.8548\n",
            "Epoch 12/100\n",
            "4/4 [==============================] - 3s 792ms/step - loss: 0.3239 - accuracy: 0.8480 - val_loss: 0.4797 - val_accuracy: 0.8065\n",
            "Epoch 13/100\n",
            "4/4 [==============================] - 3s 786ms/step - loss: 0.3594 - accuracy: 0.8240 - val_loss: 0.4386 - val_accuracy: 0.8387\n",
            "Epoch 14/100\n",
            "4/4 [==============================] - 3s 795ms/step - loss: 0.3124 - accuracy: 0.8400 - val_loss: 0.4644 - val_accuracy: 0.8548\n",
            "Epoch 15/100\n",
            "4/4 [==============================] - 3s 803ms/step - loss: 0.2881 - accuracy: 0.8560 - val_loss: 0.6065 - val_accuracy: 0.8226\n",
            "Epoch 16/100\n",
            "4/4 [==============================] - 3s 799ms/step - loss: 0.2443 - accuracy: 0.9000 - val_loss: 0.4693 - val_accuracy: 0.8710\n",
            "Epoch 17/100\n",
            "4/4 [==============================] - 3s 801ms/step - loss: 0.2255 - accuracy: 0.9120 - val_loss: 0.4536 - val_accuracy: 0.8387\n",
            "Epoch 18/100\n",
            "4/4 [==============================] - 3s 805ms/step - loss: 0.2234 - accuracy: 0.9000 - val_loss: 0.7900 - val_accuracy: 0.8226\n",
            "Epoch 19/100\n",
            "4/4 [==============================] - 4s 924ms/step - loss: 0.2121 - accuracy: 0.9160 - val_loss: 0.5491 - val_accuracy: 0.8226\n",
            "Epoch 20/100\n",
            "4/4 [==============================] - 5s 1s/step - loss: 0.2318 - accuracy: 0.9200 - val_loss: 0.5623 - val_accuracy: 0.7742\n",
            "80.17129611968994\n"
          ]
        }
      ]
    },
    {
      "cell_type": "code",
      "source": [
        "file_name = \"/content/drive/MyDrive/fake_bert/HAN_model_finetune\""
      ],
      "metadata": {
        "id": "FNpV1wmG9zlp"
      },
      "execution_count": null,
      "outputs": []
    },
    {
      "cell_type": "code",
      "source": [
        "torch.save(model, file_name)"
      ],
      "metadata": {
        "id": "OvIGjJmi91u_"
      },
      "execution_count": null,
      "outputs": []
    },
    {
      "cell_type": "code",
      "source": [
        "# hanModel_pred = model.predict([x_val, f_val])\n",
        "# hanLayerModel_y = np.argmax(hanModel_pred, axis = 1)\n",
        "# hanLayerModel_y\n",
        "\n",
        "hanModel_pred = model.predict(merged_val_arr)\n",
        "hanLayerModel_y = np.argmax(hanModel_pred, axis = 1)\n",
        "hanLayerModel_y"
      ],
      "metadata": {
        "colab": {
          "base_uri": "https://localhost:8080/"
        },
        "id": "ieyew1Lx95CW",
        "outputId": "e02ceeb1-cf22-4b4f-eb7f-67fefefbc1fc"
      },
      "execution_count": null,
      "outputs": [
        {
          "output_type": "stream",
          "name": "stdout",
          "text": [
            "2/2 [==============================] - 3s 146ms/step\n"
          ]
        },
        {
          "output_type": "execute_result",
          "data": {
            "text/plain": [
              "array([0, 1, 0, 0, 0, 0, 1, 1, 0, 0, 1, 1, 0, 1, 0, 0, 0, 0, 1, 0, 0, 0,\n",
              "       0, 0, 0, 0, 0, 0, 0, 1, 0, 1, 0, 1, 1, 1, 0, 0, 0, 1, 0, 1, 0, 1,\n",
              "       0, 0, 1, 0, 1, 0, 1, 1, 0, 0, 0, 0, 0, 1, 0, 1, 0, 1])"
            ]
          },
          "metadata": {},
          "execution_count": 34
        }
      ]
    },
    {
      "cell_type": "code",
      "source": [
        "len(hanLayerModel_y)"
      ],
      "metadata": {
        "colab": {
          "base_uri": "https://localhost:8080/"
        },
        "id": "xC537jmrbkxN",
        "outputId": "f15c94f0-05fe-4134-88a5-a3803b6375e9"
      },
      "execution_count": null,
      "outputs": [
        {
          "output_type": "execute_result",
          "data": {
            "text/plain": [
              "62"
            ]
          },
          "metadata": {},
          "execution_count": 87
        }
      ]
    },
    {
      "cell_type": "code",
      "source": [
        "len(y_val[1].values)"
      ],
      "metadata": {
        "colab": {
          "base_uri": "https://localhost:8080/"
        },
        "id": "NUiTQoWzOy4i",
        "outputId": "668baff9-af40-4f9f-e90f-99ce46bc56bf"
      },
      "execution_count": null,
      "outputs": [
        {
          "output_type": "execute_result",
          "data": {
            "text/plain": [
              "62"
            ]
          },
          "metadata": {},
          "execution_count": 84
        }
      ]
    },
    {
      "cell_type": "code",
      "source": [
        "print('Accuracy:', accuracy_score(hanLayerModel_y, y_val[1].values))\n",
        "print('F1 score:', f1_score(y_val[1].values, hanLayerModel_y))\n",
        "print('Recall:', recall_score(np.array(y_val[1]), hanLayerModel_y))\n",
        "print('Precision:', precision_score(np.array(y_val[1]), hanLayerModel_y))\n",
        "print('ROC_AUC Score:', roc_auc_score(np.array(y_val[1]), hanLayerModel_y))\n",
        "\n",
        "print(classification_report(np.array(y_val[1]), hanLayerModel_y))"
      ],
      "metadata": {
        "colab": {
          "base_uri": "https://localhost:8080/"
        },
        "id": "OkY6U1nP99ZS",
        "outputId": "0f7b38a3-695d-4261-d4c0-cdc86168509a"
      },
      "execution_count": null,
      "outputs": [
        {
          "output_type": "stream",
          "name": "stdout",
          "text": [
            "Accuracy: 0.7741935483870968\n",
            "F1 score: 0.7407407407407406\n",
            "Recall: 0.625\n",
            "Precision: 0.9090909090909091\n",
            "ROC_AUC Score: 0.7791666666666667\n",
            "              precision    recall  f1-score   support\n",
            "\n",
            "           0       0.70      0.93      0.80        30\n",
            "           1       0.91      0.62      0.74        32\n",
            "\n",
            "    accuracy                           0.77        62\n",
            "   macro avg       0.80      0.78      0.77        62\n",
            "weighted avg       0.81      0.77      0.77        62\n",
            "\n"
          ]
        }
      ]
    },
    {
      "cell_type": "code",
      "source": [
        "hanLayerModel_y"
      ],
      "metadata": {
        "id": "elvBAVSnOr7B"
      },
      "execution_count": null,
      "outputs": []
    }
  ]
}