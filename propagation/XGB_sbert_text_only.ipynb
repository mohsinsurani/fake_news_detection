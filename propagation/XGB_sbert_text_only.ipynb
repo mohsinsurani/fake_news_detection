{
  "nbformat": 4,
  "nbformat_minor": 0,
  "metadata": {
    "colab": {
      "provenance": []
    },
    "kernelspec": {
      "name": "python3",
      "display_name": "Python 3"
    },
    "language_info": {
      "name": "python"
    }
  },
  "cells": [
    {
      "cell_type": "code",
      "execution_count": null,
      "metadata": {
        "id": "4ii-N6HOgRd7"
      },
      "outputs": [],
      "source": [
        "import pandas as pd\n",
        "import numpy as np\n",
        "import pickle\n",
        "import sys\n",
        "import sklearn\n",
        "from sklearn import preprocessing\n",
        "from sklearn.model_selection import train_test_split\n",
        "import tensorflow as tf\n",
        "import keras\n",
        "from keras import Sequential, regularizers \n",
        "\n",
        "from keras.layers import Embedding, LSTM, Dense\n",
        "from keras import losses\n",
        "from keras.layers import Dense\n",
        "from keras.layers import Flatten, InputLayer\n",
        "\n",
        "import time\n",
        "from keras.callbacks import EarlyStopping, ModelCheckpoint\n",
        "import torch\n",
        "from sklearn.metrics import precision_score, \\\n",
        "    recall_score, confusion_matrix, classification_report, \\\n",
        "    accuracy_score, f1_score, roc_auc_score\n",
        "from sklearn.metrics import precision_recall_curve, auc\n",
        "from sklearn import metrics\n",
        "import plotly.express as px"
      ]
    },
    {
      "cell_type": "code",
      "source": [
        "path_df = \"/content/drive/MyDrive/fake_bert/politifact_global_feature.pkl\""
      ],
      "metadata": {
        "id": "Zh0hM9nohJOY"
      },
      "execution_count": null,
      "outputs": []
    },
    {
      "cell_type": "code",
      "source": [
        "df = pickle.load(open(path_df, \"rb\"))"
      ],
      "metadata": {
        "id": "8KFZoYVUjZO_"
      },
      "execution_count": null,
      "outputs": []
    },
    {
      "cell_type": "code",
      "source": [],
      "metadata": {
        "id": "rZj5jUTNvfTQ"
      },
      "execution_count": null,
      "outputs": []
    },
    {
      "cell_type": "code",
      "source": [
        "x_train, x_test, y_train, y_test = train_test_split(df['comp_text'], df['target'], test_size= .20, random_state= 111, shuffle=False )"
      ],
      "metadata": {
        "id": "9AYPnePVxCnr"
      },
      "execution_count": null,
      "outputs": []
    },
    {
      "cell_type": "code",
      "source": [
        "embed_train, embed_test = pickle.load(open(\"/content/drive/MyDrive/fake_bert/sbert-embed.pkl\", \"rb\"))"
      ],
      "metadata": {
        "id": "7KjXSXaV_Gq4"
      },
      "execution_count": null,
      "outputs": []
    },
    {
      "cell_type": "code",
      "source": [
        "from xgboost import XGBClassifier\n",
        "from sklearn.model_selection import GridSearchCV"
      ],
      "metadata": {
        "id": "p3Czr-5l2ia6"
      },
      "execution_count": null,
      "outputs": []
    },
    {
      "cell_type": "code",
      "source": [
        "cv=5\n",
        "gs_xgb = XGBClassifier()\n",
        "\n",
        "param_grid = [\n",
        "    {'booster':['gbtree', 'dart'], 'n_estimators':[100, 150, 200, 250], 'max_depth':[5, 6, 7]}\n",
        "]\n",
        "grid = GridSearchCV(gs_xgb, param_grid, refit=True, cv=cv, verbose=3, scoring='roc_auc')\n",
        "            "
      ],
      "metadata": {
        "id": "RXgRy5PC2mLo"
      },
      "execution_count": null,
      "outputs": []
    },
    {
      "cell_type": "code",
      "source": [
        "embed_train.shape"
      ],
      "metadata": {
        "colab": {
          "base_uri": "https://localhost:8080/"
        },
        "id": "ntPn4sAGLrdW",
        "outputId": "57483c0c-6ab0-4624-93b0-79441c6b32ee"
      },
      "execution_count": null,
      "outputs": [
        {
          "output_type": "execute_result",
          "data": {
            "text/plain": [
              "TensorShape([249, 384])"
            ]
          },
          "metadata": {},
          "execution_count": 15
        }
      ]
    },
    {
      "cell_type": "code",
      "source": [
        "grid.fit(np.array(embed_train), y_train)"
      ],
      "metadata": {
        "id": "r9A1FB0dIwqw",
        "outputId": "30e0f830-d966-4c1b-c145-782f88a00f1d",
        "colab": {
          "base_uri": "https://localhost:8080/"
        }
      },
      "execution_count": null,
      "outputs": [
        {
          "output_type": "stream",
          "name": "stdout",
          "text": [
            "Fitting 5 folds for each of 24 candidates, totalling 120 fits\n",
            "[CV 1/5] END booster=gbtree, max_depth=5, n_estimators=100;, score=0.834 total time=   1.2s\n",
            "[CV 2/5] END booster=gbtree, max_depth=5, n_estimators=100;, score=0.819 total time=   0.7s\n",
            "[CV 3/5] END booster=gbtree, max_depth=5, n_estimators=100;, score=0.742 total time=   0.6s\n",
            "[CV 4/5] END booster=gbtree, max_depth=5, n_estimators=100;, score=0.787 total time=   0.6s\n",
            "[CV 5/5] END booster=gbtree, max_depth=5, n_estimators=100;, score=0.918 total time=   0.7s\n",
            "[CV 1/5] END booster=gbtree, max_depth=5, n_estimators=150;, score=0.834 total time=   0.8s\n",
            "[CV 2/5] END booster=gbtree, max_depth=5, n_estimators=150;, score=0.816 total time=   0.8s\n",
            "[CV 3/5] END booster=gbtree, max_depth=5, n_estimators=150;, score=0.752 total time=   1.0s\n",
            "[CV 4/5] END booster=gbtree, max_depth=5, n_estimators=150;, score=0.792 total time=   0.8s\n",
            "[CV 5/5] END booster=gbtree, max_depth=5, n_estimators=150;, score=0.920 total time=   0.8s\n",
            "[CV 1/5] END booster=gbtree, max_depth=5, n_estimators=200;, score=0.832 total time=   0.9s\n",
            "[CV 2/5] END booster=gbtree, max_depth=5, n_estimators=200;, score=0.810 total time=   0.9s\n",
            "[CV 3/5] END booster=gbtree, max_depth=5, n_estimators=200;, score=0.757 total time=   0.9s\n",
            "[CV 4/5] END booster=gbtree, max_depth=5, n_estimators=200;, score=0.792 total time=   0.9s\n",
            "[CV 5/5] END booster=gbtree, max_depth=5, n_estimators=200;, score=0.922 total time=   0.9s\n",
            "[CV 1/5] END booster=gbtree, max_depth=5, n_estimators=250;, score=0.832 total time=   2.2s\n",
            "[CV 2/5] END booster=gbtree, max_depth=5, n_estimators=250;, score=0.811 total time=   2.6s\n",
            "[CV 3/5] END booster=gbtree, max_depth=5, n_estimators=250;, score=0.758 total time=   3.0s\n",
            "[CV 4/5] END booster=gbtree, max_depth=5, n_estimators=250;, score=0.784 total time=   1.0s\n",
            "[CV 5/5] END booster=gbtree, max_depth=5, n_estimators=250;, score=0.918 total time=   1.4s\n",
            "[CV 1/5] END booster=gbtree, max_depth=6, n_estimators=100;, score=0.824 total time=   1.1s\n",
            "[CV 2/5] END booster=gbtree, max_depth=6, n_estimators=100;, score=0.787 total time=   0.7s\n",
            "[CV 3/5] END booster=gbtree, max_depth=6, n_estimators=100;, score=0.757 total time=   0.6s\n",
            "[CV 4/5] END booster=gbtree, max_depth=6, n_estimators=100;, score=0.811 total time=   0.6s\n",
            "[CV 5/5] END booster=gbtree, max_depth=6, n_estimators=100;, score=0.908 total time=   0.7s\n",
            "[CV 1/5] END booster=gbtree, max_depth=6, n_estimators=150;, score=0.826 total time=   0.8s\n",
            "[CV 2/5] END booster=gbtree, max_depth=6, n_estimators=150;, score=0.779 total time=   0.8s\n",
            "[CV 3/5] END booster=gbtree, max_depth=6, n_estimators=150;, score=0.758 total time=   0.8s\n",
            "[CV 4/5] END booster=gbtree, max_depth=6, n_estimators=150;, score=0.802 total time=   0.8s\n",
            "[CV 5/5] END booster=gbtree, max_depth=6, n_estimators=150;, score=0.913 total time=   0.8s\n",
            "[CV 1/5] END booster=gbtree, max_depth=6, n_estimators=200;, score=0.834 total time=   0.9s\n",
            "[CV 2/5] END booster=gbtree, max_depth=6, n_estimators=200;, score=0.776 total time=   0.9s\n",
            "[CV 3/5] END booster=gbtree, max_depth=6, n_estimators=200;, score=0.762 total time=   0.9s\n",
            "[CV 4/5] END booster=gbtree, max_depth=6, n_estimators=200;, score=0.800 total time=   1.9s\n",
            "[CV 5/5] END booster=gbtree, max_depth=6, n_estimators=200;, score=0.915 total time=   1.0s\n",
            "[CV 1/5] END booster=gbtree, max_depth=6, n_estimators=250;, score=0.832 total time=   1.0s\n",
            "[CV 2/5] END booster=gbtree, max_depth=6, n_estimators=250;, score=0.786 total time=   1.0s\n",
            "[CV 3/5] END booster=gbtree, max_depth=6, n_estimators=250;, score=0.763 total time=   1.0s\n",
            "[CV 4/5] END booster=gbtree, max_depth=6, n_estimators=250;, score=0.797 total time=   1.0s\n",
            "[CV 5/5] END booster=gbtree, max_depth=6, n_estimators=250;, score=0.908 total time=   1.0s\n",
            "[CV 1/5] END booster=gbtree, max_depth=7, n_estimators=100;, score=0.829 total time=   0.7s\n",
            "[CV 2/5] END booster=gbtree, max_depth=7, n_estimators=100;, score=0.813 total time=   0.6s\n",
            "[CV 3/5] END booster=gbtree, max_depth=7, n_estimators=100;, score=0.758 total time=   0.7s\n",
            "[CV 4/5] END booster=gbtree, max_depth=7, n_estimators=100;, score=0.811 total time=   0.7s\n",
            "[CV 5/5] END booster=gbtree, max_depth=7, n_estimators=100;, score=0.920 total time=   0.7s\n",
            "[CV 1/5] END booster=gbtree, max_depth=7, n_estimators=150;, score=0.835 total time=   0.8s\n",
            "[CV 2/5] END booster=gbtree, max_depth=7, n_estimators=150;, score=0.816 total time=   0.8s\n",
            "[CV 3/5] END booster=gbtree, max_depth=7, n_estimators=150;, score=0.770 total time=   0.8s\n",
            "[CV 4/5] END booster=gbtree, max_depth=7, n_estimators=150;, score=0.802 total time=   0.8s\n",
            "[CV 5/5] END booster=gbtree, max_depth=7, n_estimators=150;, score=0.915 total time=   0.8s\n",
            "[CV 1/5] END booster=gbtree, max_depth=7, n_estimators=200;, score=0.832 total time=   0.9s\n",
            "[CV 2/5] END booster=gbtree, max_depth=7, n_estimators=200;, score=0.816 total time=   0.9s\n",
            "[CV 3/5] END booster=gbtree, max_depth=7, n_estimators=200;, score=0.768 total time=   0.9s\n",
            "[CV 4/5] END booster=gbtree, max_depth=7, n_estimators=200;, score=0.800 total time=   0.9s\n",
            "[CV 5/5] END booster=gbtree, max_depth=7, n_estimators=200;, score=0.918 total time=   0.9s\n",
            "[CV 1/5] END booster=gbtree, max_depth=7, n_estimators=250;, score=0.832 total time=   1.0s\n",
            "[CV 2/5] END booster=gbtree, max_depth=7, n_estimators=250;, score=0.821 total time=   1.0s\n",
            "[CV 3/5] END booster=gbtree, max_depth=7, n_estimators=250;, score=0.762 total time=   1.0s\n",
            "[CV 4/5] END booster=gbtree, max_depth=7, n_estimators=250;, score=0.797 total time=   1.0s\n",
            "[CV 5/5] END booster=gbtree, max_depth=7, n_estimators=250;, score=0.917 total time=   1.0s\n",
            "[CV 1/5] END booster=dart, max_depth=5, n_estimators=100;, score=0.834 total time=   0.7s\n",
            "[CV 2/5] END booster=dart, max_depth=5, n_estimators=100;, score=0.819 total time=   0.7s\n",
            "[CV 3/5] END booster=dart, max_depth=5, n_estimators=100;, score=0.742 total time=   0.7s\n",
            "[CV 4/5] END booster=dart, max_depth=5, n_estimators=100;, score=0.787 total time=   0.7s\n",
            "[CV 5/5] END booster=dart, max_depth=5, n_estimators=100;, score=0.918 total time=   0.7s\n",
            "[CV 1/5] END booster=dart, max_depth=5, n_estimators=150;, score=0.834 total time=   0.8s\n",
            "[CV 2/5] END booster=dart, max_depth=5, n_estimators=150;, score=0.816 total time=   0.9s\n",
            "[CV 3/5] END booster=dart, max_depth=5, n_estimators=150;, score=0.752 total time=   0.9s\n",
            "[CV 4/5] END booster=dart, max_depth=5, n_estimators=150;, score=0.792 total time=   0.9s\n",
            "[CV 5/5] END booster=dart, max_depth=5, n_estimators=150;, score=0.920 total time=   0.9s\n",
            "[CV 1/5] END booster=dart, max_depth=5, n_estimators=200;, score=0.832 total time=   1.0s\n",
            "[CV 2/5] END booster=dart, max_depth=5, n_estimators=200;, score=0.810 total time=   1.0s\n",
            "[CV 3/5] END booster=dart, max_depth=5, n_estimators=200;, score=0.757 total time=   1.0s\n",
            "[CV 4/5] END booster=dart, max_depth=5, n_estimators=200;, score=0.792 total time=   1.1s\n",
            "[CV 5/5] END booster=dart, max_depth=5, n_estimators=200;, score=0.922 total time=   1.1s\n",
            "[CV 1/5] END booster=dart, max_depth=5, n_estimators=250;, score=0.832 total time=   1.2s\n",
            "[CV 2/5] END booster=dart, max_depth=5, n_estimators=250;, score=0.811 total time=   1.2s\n",
            "[CV 3/5] END booster=dart, max_depth=5, n_estimators=250;, score=0.758 total time=   1.2s\n",
            "[CV 4/5] END booster=dart, max_depth=5, n_estimators=250;, score=0.784 total time=   1.2s\n",
            "[CV 5/5] END booster=dart, max_depth=5, n_estimators=250;, score=0.918 total time=   1.2s\n",
            "[CV 1/5] END booster=dart, max_depth=6, n_estimators=100;, score=0.824 total time=   0.7s\n",
            "[CV 2/5] END booster=dart, max_depth=6, n_estimators=100;, score=0.787 total time=   0.7s\n",
            "[CV 3/5] END booster=dart, max_depth=6, n_estimators=100;, score=0.757 total time=   0.7s\n",
            "[CV 4/5] END booster=dart, max_depth=6, n_estimators=100;, score=0.811 total time=   0.7s\n",
            "[CV 5/5] END booster=dart, max_depth=6, n_estimators=100;, score=0.908 total time=   0.7s\n",
            "[CV 1/5] END booster=dart, max_depth=6, n_estimators=150;, score=0.826 total time=   0.9s\n",
            "[CV 2/5] END booster=dart, max_depth=6, n_estimators=150;, score=0.779 total time=   0.9s\n",
            "[CV 3/5] END booster=dart, max_depth=6, n_estimators=150;, score=0.758 total time=   0.9s\n",
            "[CV 4/5] END booster=dart, max_depth=6, n_estimators=150;, score=0.802 total time=   0.9s\n",
            "[CV 5/5] END booster=dart, max_depth=6, n_estimators=150;, score=0.913 total time=   0.9s\n",
            "[CV 1/5] END booster=dart, max_depth=6, n_estimators=200;, score=0.834 total time=   1.1s\n",
            "[CV 2/5] END booster=dart, max_depth=6, n_estimators=200;, score=0.776 total time=   1.1s\n",
            "[CV 3/5] END booster=dart, max_depth=6, n_estimators=200;, score=0.762 total time=   1.1s\n",
            "[CV 4/5] END booster=dart, max_depth=6, n_estimators=200;, score=0.800 total time=   1.1s\n",
            "[CV 5/5] END booster=dart, max_depth=6, n_estimators=200;, score=0.915 total time=   1.1s\n",
            "[CV 1/5] END booster=dart, max_depth=6, n_estimators=250;, score=0.832 total time=   1.2s\n",
            "[CV 2/5] END booster=dart, max_depth=6, n_estimators=250;, score=0.786 total time=   1.3s\n",
            "[CV 3/5] END booster=dart, max_depth=6, n_estimators=250;, score=0.763 total time=   1.2s\n",
            "[CV 4/5] END booster=dart, max_depth=6, n_estimators=250;, score=0.797 total time=   1.3s\n",
            "[CV 5/5] END booster=dart, max_depth=6, n_estimators=250;, score=0.908 total time=   1.6s\n",
            "[CV 1/5] END booster=dart, max_depth=7, n_estimators=100;, score=0.829 total time=   0.7s\n",
            "[CV 2/5] END booster=dart, max_depth=7, n_estimators=100;, score=0.813 total time=   0.7s\n",
            "[CV 3/5] END booster=dart, max_depth=7, n_estimators=100;, score=0.758 total time=   0.7s\n",
            "[CV 4/5] END booster=dart, max_depth=7, n_estimators=100;, score=0.811 total time=   0.7s\n",
            "[CV 5/5] END booster=dart, max_depth=7, n_estimators=100;, score=0.920 total time=   0.7s\n",
            "[CV 1/5] END booster=dart, max_depth=7, n_estimators=150;, score=0.835 total time=   0.9s\n",
            "[CV 2/5] END booster=dart, max_depth=7, n_estimators=150;, score=0.816 total time=   0.9s\n",
            "[CV 3/5] END booster=dart, max_depth=7, n_estimators=150;, score=0.770 total time=   0.9s\n",
            "[CV 4/5] END booster=dart, max_depth=7, n_estimators=150;, score=0.802 total time=   0.9s\n",
            "[CV 5/5] END booster=dart, max_depth=7, n_estimators=150;, score=0.915 total time=   0.9s\n",
            "[CV 1/5] END booster=dart, max_depth=7, n_estimators=200;, score=0.832 total time=   1.1s\n",
            "[CV 2/5] END booster=dart, max_depth=7, n_estimators=200;, score=0.816 total time=   1.1s\n",
            "[CV 3/5] END booster=dart, max_depth=7, n_estimators=200;, score=0.768 total time=   1.1s\n",
            "[CV 4/5] END booster=dart, max_depth=7, n_estimators=200;, score=0.800 total time=   1.1s\n",
            "[CV 5/5] END booster=dart, max_depth=7, n_estimators=200;, score=0.918 total time=   1.1s\n",
            "[CV 1/5] END booster=dart, max_depth=7, n_estimators=250;, score=0.832 total time=   1.2s\n",
            "[CV 2/5] END booster=dart, max_depth=7, n_estimators=250;, score=0.821 total time=   1.2s\n",
            "[CV 3/5] END booster=dart, max_depth=7, n_estimators=250;, score=0.762 total time=   1.2s\n",
            "[CV 4/5] END booster=dart, max_depth=7, n_estimators=250;, score=0.797 total time=   1.2s\n",
            "[CV 5/5] END booster=dart, max_depth=7, n_estimators=250;, score=0.917 total time=   1.3s\n"
          ]
        },
        {
          "output_type": "execute_result",
          "data": {
            "text/plain": [
              "GridSearchCV(cv=5, estimator=XGBClassifier(),\n",
              "             param_grid=[{'booster': ['gbtree', 'dart'], 'max_depth': [5, 6, 7],\n",
              "                          'n_estimators': [100, 150, 200, 250]}],\n",
              "             scoring='roc_auc', verbose=3)"
            ]
          },
          "metadata": {},
          "execution_count": 17
        }
      ]
    },
    {
      "cell_type": "code",
      "source": [
        "predicted_output = grid.predict(np.array(embed_test))"
      ],
      "metadata": {
        "id": "N2byGWxSJEyX"
      },
      "execution_count": null,
      "outputs": []
    },
    {
      "cell_type": "code",
      "source": [
        "pickle.dump(grid, open(\"/content/drive/MyDrive/fake_bert/grid_fea_text_only.pkl\", \"wb\"))"
      ],
      "metadata": {
        "id": "6Qm6_ABUH0sZ"
      },
      "execution_count": null,
      "outputs": []
    },
    {
      "cell_type": "code",
      "source": [
        "print(grid.best_params_)"
      ],
      "metadata": {
        "id": "OUz_bCWWYO-R",
        "colab": {
          "base_uri": "https://localhost:8080/"
        },
        "outputId": "e6267152-1ab7-4ab1-86b9-094991b1a172"
      },
      "execution_count": null,
      "outputs": [
        {
          "output_type": "stream",
          "name": "stdout",
          "text": [
            "{'booster': 'gbtree', 'max_depth': 7, 'n_estimators': 150}\n"
          ]
        }
      ]
    },
    {
      "cell_type": "code",
      "source": [
        "print('Accuracy:', accuracy_score(predicted_output, y_test))\n",
        "print('F1 score:', f1_score(y_test, predicted_output))\n",
        "print('Recall:', recall_score(y_test, predicted_output))\n",
        "print('Precision:', precision_score(y_test, predicted_output))\n",
        "print('ROC_AUC Score:', roc_auc_score(y_test, predicted_output))\n",
        "print(classification_report(y_test, predicted_output))"
      ],
      "metadata": {
        "id": "eDumdF5BEC6R",
        "colab": {
          "base_uri": "https://localhost:8080/"
        },
        "outputId": "391280d8-18cc-4ab4-cdcc-c5af8a0e4609"
      },
      "execution_count": null,
      "outputs": [
        {
          "output_type": "stream",
          "name": "stdout",
          "text": [
            "Accuracy: 0.7777777777777778\n",
            "F1 score: 0.7741935483870969\n",
            "Recall: 0.75\n",
            "Precision: 0.8\n",
            "ROC_AUC Score: 0.7782258064516128\n",
            "              precision    recall  f1-score   support\n",
            "\n",
            "           0       0.76      0.81      0.78        31\n",
            "           1       0.80      0.75      0.77        32\n",
            "\n",
            "    accuracy                           0.78        63\n",
            "   macro avg       0.78      0.78      0.78        63\n",
            "weighted avg       0.78      0.78      0.78        63\n",
            "\n"
          ]
        }
      ]
    }
  ]
}