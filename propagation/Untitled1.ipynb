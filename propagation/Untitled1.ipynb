{
 "cells": [
  {
   "cell_type": "code",
   "execution_count": 22,
   "id": "5b37d9b1",
   "metadata": {},
   "outputs": [
    {
     "ename": "ModuleNotFoundError",
     "evalue": "No module named 'propagation'",
     "output_type": "error",
     "traceback": [
      "\u001b[0;31m---------------------------------------------------------------------------\u001b[0m",
      "\u001b[0;31mModuleNotFoundError\u001b[0m                       Traceback (most recent call last)",
      "\u001b[0;32m/var/folders/cz/mf6k7s456v95hf4y3g4lyfz40000gn/T/ipykernel_1328/111875290.py\u001b[0m in \u001b[0;36m<module>\u001b[0;34m\u001b[0m\n\u001b[1;32m      3\u001b[0m \u001b[0;32mfrom\u001b[0m \u001b[0mmultiprocessing\u001b[0m \u001b[0;32mimport\u001b[0m \u001b[0mProcess\u001b[0m\u001b[0;34m\u001b[0m\u001b[0;34m\u001b[0m\u001b[0m\n\u001b[1;32m      4\u001b[0m \u001b[0;32mfrom\u001b[0m \u001b[0mutil\u001b[0m\u001b[0;34m.\u001b[0m\u001b[0mconstants\u001b[0m \u001b[0;32mimport\u001b[0m \u001b[0mNEWS_ROOT_NODE\u001b[0m\u001b[0;34m,\u001b[0m \u001b[0mRETWEET_EDGE\u001b[0m\u001b[0;34m,\u001b[0m \u001b[0mREPLY_EDGE\u001b[0m\u001b[0;34m,\u001b[0m \u001b[0mRETWEET_NODE\u001b[0m\u001b[0;34m,\u001b[0m \u001b[0mREPLY_NODE\u001b[0m\u001b[0;34m\u001b[0m\u001b[0;34m\u001b[0m\u001b[0m\n\u001b[0;32m----> 5\u001b[0;31m \u001b[0;32mfrom\u001b[0m \u001b[0mbasic_model\u001b[0m \u001b[0;32mimport\u001b[0m \u001b[0mClassficationStats\u001b[0m\u001b[0;34m\u001b[0m\u001b[0;34m\u001b[0m\u001b[0m\n\u001b[0m",
      "\u001b[0;32m~/PycharmProjects/fake_news_detection/fake_news_detection/propagation/basic_model.py\u001b[0m in \u001b[0;36m<module>\u001b[0;34m\u001b[0m\n\u001b[1;32m     10\u001b[0m \u001b[0;32mfrom\u001b[0m \u001b[0msklearn\u001b[0m\u001b[0;34m.\u001b[0m\u001b[0mtree\u001b[0m \u001b[0;32mimport\u001b[0m \u001b[0mDecisionTreeClassifier\u001b[0m\u001b[0;34m\u001b[0m\u001b[0;34m\u001b[0m\u001b[0m\n\u001b[1;32m     11\u001b[0m \u001b[0;34m\u001b[0m\u001b[0m\n\u001b[0;32m---> 12\u001b[0;31m \u001b[0;32mfrom\u001b[0m \u001b[0mconstruct_sample_features\u001b[0m \u001b[0;32mimport\u001b[0m \u001b[0mget_TPNF_dataset\u001b[0m\u001b[0;34m,\u001b[0m \u001b[0mget_train_test_split\u001b[0m\u001b[0;34m,\u001b[0m \u001b[0mget_dataset_feature_names\u001b[0m\u001b[0;34m\u001b[0m\u001b[0;34m\u001b[0m\u001b[0m\n\u001b[0m\u001b[1;32m     13\u001b[0m \u001b[0;32mimport\u001b[0m \u001b[0mmatplotlib\u001b[0m\u001b[0;34m.\u001b[0m\u001b[0mpyplot\u001b[0m \u001b[0;32mas\u001b[0m \u001b[0mplt\u001b[0m\u001b[0;34m\u001b[0m\u001b[0;34m\u001b[0m\u001b[0m\n\u001b[1;32m     14\u001b[0m \u001b[0;34m\u001b[0m\u001b[0m\n",
      "\u001b[0;32m~/PycharmProjects/fake_news_detection/fake_news_detection/propagation/construct_sample_features.py\u001b[0m in \u001b[0;36m<module>\u001b[0;34m\u001b[0m\n\u001b[1;32m      9\u001b[0m \u001b[0;34m\u001b[0m\u001b[0m\n\u001b[1;32m     10\u001b[0m \u001b[0;32mfrom\u001b[0m \u001b[0manalysis_util\u001b[0m \u001b[0;32mimport\u001b[0m \u001b[0mequal_samples\u001b[0m\u001b[0;34m\u001b[0m\u001b[0;34m\u001b[0m\u001b[0m\n\u001b[0;32m---> 11\u001b[0;31m \u001b[0;32mfrom\u001b[0m \u001b[0mlinguistic_analysis\u001b[0m \u001b[0;32mimport\u001b[0m \u001b[0mget_all_linguistic_features\u001b[0m\u001b[0;34m,\u001b[0m \u001b[0mLinguisticFeatureHelper\u001b[0m\u001b[0;34m\u001b[0m\u001b[0;34m\u001b[0m\u001b[0m\n\u001b[0m\u001b[1;32m     12\u001b[0m \u001b[0;32mfrom\u001b[0m \u001b[0mload_dataset\u001b[0m \u001b[0;32mimport\u001b[0m \u001b[0mload_from_nx_graphs\u001b[0m\u001b[0;34m\u001b[0m\u001b[0;34m\u001b[0m\u001b[0m\n\u001b[1;32m     13\u001b[0m \u001b[0;32mfrom\u001b[0m \u001b[0mpropagation\u001b[0m\u001b[0;34m.\u001b[0m\u001b[0mgraphical_analysis\u001b[0m \u001b[0;32mimport\u001b[0m \u001b[0mGraphicalFeatureHelper\u001b[0m\u001b[0;34m\u001b[0m\u001b[0;34m\u001b[0m\u001b[0m\n",
      "\u001b[0;32m~/PycharmProjects/fake_news_detection/fake_news_detection/propagation/linguistic_analysis.py\u001b[0m in \u001b[0;36m<module>\u001b[0;34m\u001b[0m\n\u001b[1;32m     10\u001b[0m \u001b[0;32mfrom\u001b[0m \u001b[0manalysis_util\u001b[0m \u001b[0;32mimport\u001b[0m \u001b[0mget_numpy_array\u001b[0m\u001b[0;34m,\u001b[0m \u001b[0mBaseFeatureHelper\u001b[0m\u001b[0;34m,\u001b[0m\u001b[0;31m \u001b[0m\u001b[0;31m\\\u001b[0m\u001b[0;34m\u001b[0m\u001b[0;34m\u001b[0m\u001b[0m\n\u001b[1;32m     11\u001b[0m     \u001b[0mget_sample_feature_value\u001b[0m\u001b[0;34m\u001b[0m\u001b[0;34m\u001b[0m\u001b[0m\n\u001b[0;32m---> 12\u001b[0;31m \u001b[0;32mfrom\u001b[0m \u001b[0mstructure_temp_analysis\u001b[0m \u001b[0;32mimport\u001b[0m \u001b[0mget_post_tweet_deepest_cascade\u001b[0m\u001b[0;34m\u001b[0m\u001b[0;34m\u001b[0m\u001b[0m\n\u001b[0m\u001b[1;32m     13\u001b[0m \u001b[0;32mfrom\u001b[0m \u001b[0mtemporal_analysis\u001b[0m \u001b[0;32mimport\u001b[0m \u001b[0mprint_stat_values\u001b[0m\u001b[0;34m\u001b[0m\u001b[0;34m\u001b[0m\u001b[0m\n\u001b[1;32m     14\u001b[0m \u001b[0;32mfrom\u001b[0m \u001b[0mpropagation\u001b[0m\u001b[0;34m.\u001b[0m\u001b[0mutil\u001b[0m\u001b[0;34m.\u001b[0m\u001b[0mconstants\u001b[0m \u001b[0;32mimport\u001b[0m \u001b[0mREPLY_NODE\u001b[0m\u001b[0;34m,\u001b[0m \u001b[0mPOST_NODE\u001b[0m\u001b[0;34m\u001b[0m\u001b[0;34m\u001b[0m\u001b[0m\n",
      "\u001b[0;32m~/PycharmProjects/fake_news_detection/fake_news_detection/propagation/structure_temp_analysis.py\u001b[0m in \u001b[0;36m<module>\u001b[0;34m\u001b[0m\n\u001b[1;32m      7\u001b[0m \u001b[0;32mfrom\u001b[0m \u001b[0manalysis_util\u001b[0m \u001b[0;32mimport\u001b[0m \u001b[0mget_numpy_array\u001b[0m\u001b[0;34m,\u001b[0m \u001b[0mBaseFeatureHelper\u001b[0m\u001b[0;34m,\u001b[0m\u001b[0;31m \u001b[0m\u001b[0;31m\\\u001b[0m\u001b[0;34m\u001b[0m\u001b[0;34m\u001b[0m\u001b[0m\n\u001b[1;32m      8\u001b[0m     \u001b[0mget_sample_feature_value\u001b[0m\u001b[0;34m\u001b[0m\u001b[0;34m\u001b[0m\u001b[0m\n\u001b[0;32m----> 9\u001b[0;31m \u001b[0;32mfrom\u001b[0m \u001b[0mpropagation\u001b[0m\u001b[0;34m.\u001b[0m\u001b[0mutil\u001b[0m\u001b[0;34m.\u001b[0m\u001b[0mconstants\u001b[0m \u001b[0;32mimport\u001b[0m \u001b[0mNEWS_ROOT_NODE\u001b[0m\u001b[0;34m,\u001b[0m \u001b[0mRETWEET_EDGE\u001b[0m\u001b[0;34m,\u001b[0m \u001b[0mREPLY_EDGE\u001b[0m\u001b[0;34m,\u001b[0m \u001b[0mRETWEET_NODE\u001b[0m\u001b[0;34m,\u001b[0m \u001b[0mREPLY_NODE\u001b[0m\u001b[0;34m\u001b[0m\u001b[0;34m\u001b[0m\u001b[0m\n\u001b[0m\u001b[1;32m     10\u001b[0m \u001b[0;32mfrom\u001b[0m \u001b[0mpropagation\u001b[0m\u001b[0;34m.\u001b[0m\u001b[0mutil\u001b[0m\u001b[0;34m.\u001b[0m\u001b[0mutil\u001b[0m \u001b[0;32mimport\u001b[0m \u001b[0mtweet_node\u001b[0m\u001b[0;34m\u001b[0m\u001b[0;34m\u001b[0m\u001b[0m\n\u001b[1;32m     11\u001b[0m \u001b[0;34m\u001b[0m\u001b[0m\n",
      "\u001b[0;31mModuleNotFoundError\u001b[0m: No module named 'propagation'"
     ]
    }
   ],
   "source": [
    "from time import sleep\n",
    "from random import random\n",
    "from multiprocessing import Process\n",
    "from util.constants import NEWS_ROOT_NODE, RETWEET_EDGE, REPLY_EDGE, RETWEET_NODE, REPLY_NODE\n",
    "from basic_model import ClassficationStats"
   ]
  },
  {
   "cell_type": "code",
   "execution_count": 21,
   "id": "78457f52",
   "metadata": {},
   "outputs": [],
   "source": [
    "def task(i):\n",
    "    print(\"taksss\" + str(i))"
   ]
  },
  {
   "cell_type": "code",
   "execution_count": 22,
   "id": "b0035efa",
   "metadata": {},
   "outputs": [],
   "source": [
    "processes = [Process(target=task, args=(i,)) for i in range(20)]"
   ]
  },
  {
   "cell_type": "code",
   "execution_count": 23,
   "id": "14f1bea1",
   "metadata": {},
   "outputs": [
    {
     "data": {
      "text/plain": [
       "[<Process(Process-61, initial)>,\n",
       " <Process(Process-62, initial)>,\n",
       " <Process(Process-63, initial)>,\n",
       " <Process(Process-64, initial)>,\n",
       " <Process(Process-65, initial)>,\n",
       " <Process(Process-66, initial)>,\n",
       " <Process(Process-67, initial)>,\n",
       " <Process(Process-68, initial)>,\n",
       " <Process(Process-69, initial)>,\n",
       " <Process(Process-70, initial)>,\n",
       " <Process(Process-71, initial)>,\n",
       " <Process(Process-72, initial)>,\n",
       " <Process(Process-73, initial)>,\n",
       " <Process(Process-74, initial)>,\n",
       " <Process(Process-75, initial)>,\n",
       " <Process(Process-76, initial)>,\n",
       " <Process(Process-77, initial)>,\n",
       " <Process(Process-78, initial)>,\n",
       " <Process(Process-79, initial)>,\n",
       " <Process(Process-80, initial)>]"
      ]
     },
     "execution_count": 23,
     "metadata": {},
     "output_type": "execute_result"
    }
   ],
   "source": [
    "processes"
   ]
  },
  {
   "cell_type": "code",
   "execution_count": 24,
   "id": "e9eac05d",
   "metadata": {},
   "outputs": [
    {
     "name": "stdout",
     "output_type": "stream",
     "text": [
      "taksss0\n",
      "taksss1\n",
      "taksss2\n",
      "taksss3\n",
      "taksss4\n",
      "taksss5\n",
      "taksss6\n",
      "taksss7\n",
      "\n",
      "taksss8taksss9\n",
      "taksss10\n",
      "taksss11\n",
      "taksss12\n",
      "taksss13\n",
      "taksss14\n",
      "taksss15\n",
      "taksss16\n",
      "taksss17\n",
      "taksss18Done\n",
      "\n",
      "taksss19\n"
     ]
    }
   ],
   "source": [
    "for process in processes:\n",
    "        process.start()\n",
    "    # wait for all processes to complete\n",
    "for process in processes:\n",
    "    process.join()\n",
    "    # report that all tasks are completed\n",
    "print('Done', flush=True)"
   ]
  }
 ],
 "metadata": {
  "kernelspec": {
   "display_name": "Python 3 (ipykernel)",
   "language": "python",
   "name": "python3"
  },
  "language_info": {
   "codemirror_mode": {
    "name": "ipython",
    "version": 3
   },
   "file_extension": ".py",
   "mimetype": "text/x-python",
   "name": "python",
   "nbconvert_exporter": "python",
   "pygments_lexer": "ipython3",
   "version": "3.7.13"
  }
 },
 "nbformat": 4,
 "nbformat_minor": 5
}
