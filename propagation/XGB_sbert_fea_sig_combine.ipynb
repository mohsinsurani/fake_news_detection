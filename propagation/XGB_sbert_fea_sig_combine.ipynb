{
  "nbformat": 4,
  "nbformat_minor": 0,
  "metadata": {
    "colab": {
      "provenance": []
    },
    "kernelspec": {
      "name": "python3",
      "display_name": "Python 3"
    },
    "language_info": {
      "name": "python"
    }
  },
  "cells": [
    {
      "cell_type": "code",
      "execution_count": null,
      "metadata": {
        "id": "4ii-N6HOgRd7"
      },
      "outputs": [],
      "source": [
        "import pandas as pd\n",
        "import numpy as np\n",
        "import pickle\n",
        "import sys\n",
        "import sklearn\n",
        "from sklearn import preprocessing\n",
        "from sklearn.model_selection import train_test_split\n",
        "import tensorflow as tf\n",
        "import keras\n",
        "from keras import Sequential, regularizers \n",
        "\n",
        "from keras.layers import Embedding, LSTM, Dense\n",
        "from keras import losses\n",
        "from keras.layers import Dense\n",
        "from keras.layers import Flatten, InputLayer\n",
        "\n",
        "import time\n",
        "from keras.callbacks import EarlyStopping, ModelCheckpoint\n",
        "import torch\n",
        "from sklearn.metrics import precision_score, \\\n",
        "    recall_score, confusion_matrix, classification_report, \\\n",
        "    accuracy_score, f1_score, roc_auc_score\n",
        "from sklearn.metrics import precision_recall_curve, auc\n",
        "from sklearn import metrics\n",
        "import plotly.express as px"
      ]
    },
    {
      "cell_type": "code",
      "source": [
        "path_df = \"/content/drive/MyDrive/fake_bert/politifact_global_feature.pkl\""
      ],
      "metadata": {
        "id": "Zh0hM9nohJOY"
      },
      "execution_count": null,
      "outputs": []
    },
    {
      "cell_type": "code",
      "source": [
        "df = pickle.load(open(path_df, \"rb\"))"
      ],
      "metadata": {
        "id": "8KFZoYVUjZO_"
      },
      "execution_count": null,
      "outputs": []
    },
    {
      "cell_type": "code",
      "source": [
        "fea_sig_df = df[['T4', 'T2', 'T11', 'T3', 'T10', 'T8','Sen13', 'Sen16', 'Sen15', 'Sen18',]]"
      ],
      "metadata": {
        "id": "rZj5jUTNvfTQ"
      },
      "execution_count": null,
      "outputs": []
    },
    {
      "cell_type": "code",
      "source": [
        "x_train, x_test, y_train, y_test, f_train, f_test = train_test_split(df['comp_text'], df['target'], fea_sig_df, test_size= .20, random_state= 111, shuffle=False )"
      ],
      "metadata": {
        "id": "9AYPnePVxCnr"
      },
      "execution_count": null,
      "outputs": []
    },
    {
      "cell_type": "code",
      "source": [
        "embed_train, embed_test = pickle.load(open(\"/content/drive/MyDrive/fake_bert/sbert-embed.pkl\", \"rb\"))"
      ],
      "metadata": {
        "id": "7KjXSXaV_Gq4"
      },
      "execution_count": null,
      "outputs": []
    },
    {
      "cell_type": "code",
      "source": [
        "scaler = preprocessing.MinMaxScaler()\n",
        "f_train_transform = scaler.fit_transform(f_train)\n",
        "f_test_transform = scaler.fit_transform(f_test)"
      ],
      "metadata": {
        "id": "bB3SN-LqNjIP"
      },
      "execution_count": null,
      "outputs": []
    },
    {
      "cell_type": "code",
      "source": [
        "merged_train_arr = np.hstack([embed_train, f_train_transform])"
      ],
      "metadata": {
        "id": "ny22vVmBI9sc"
      },
      "execution_count": null,
      "outputs": []
    },
    {
      "cell_type": "code",
      "source": [
        "merged_test_arr = np.hstack([embed_test, f_test_transform])"
      ],
      "metadata": {
        "id": "uakVnGo5JKG6"
      },
      "execution_count": null,
      "outputs": []
    },
    {
      "cell_type": "code",
      "source": [
        "from xgboost import XGBClassifier\n",
        "from sklearn.model_selection import GridSearchCV"
      ],
      "metadata": {
        "id": "p3Czr-5l2ia6"
      },
      "execution_count": null,
      "outputs": []
    },
    {
      "cell_type": "code",
      "source": [
        "cv=5\n",
        "gs_xgb = XGBClassifier()\n",
        "\n",
        "param_grid = [\n",
        "    {'booster':['gbtree', 'dart'], 'n_estimators':[100, 150, 200, 250], 'max_depth':[5, 6, 7]}\n",
        "]\n",
        "grid = GridSearchCV(gs_xgb, param_grid, refit=True, cv=cv, verbose=3, scoring='roc_auc')\n",
        "            "
      ],
      "metadata": {
        "id": "RXgRy5PC2mLo"
      },
      "execution_count": null,
      "outputs": []
    },
    {
      "cell_type": "code",
      "source": [
        "grid.fit(merged_train_arr, y_train)"
      ],
      "metadata": {
        "id": "r9A1FB0dIwqw",
        "outputId": "0b094bd6-ae08-4f24-929e-80bdcc39183f",
        "colab": {
          "base_uri": "https://localhost:8080/"
        }
      },
      "execution_count": null,
      "outputs": [
        {
          "output_type": "stream",
          "name": "stdout",
          "text": [
            "Fitting 5 folds for each of 24 candidates, totalling 120 fits\n",
            "[CV 1/5] END booster=gbtree, max_depth=5, n_estimators=100;, score=0.832 total time=   0.7s\n",
            "[CV 2/5] END booster=gbtree, max_depth=5, n_estimators=100;, score=0.901 total time=   0.7s\n",
            "[CV 3/5] END booster=gbtree, max_depth=5, n_estimators=100;, score=0.811 total time=   0.6s\n",
            "[CV 4/5] END booster=gbtree, max_depth=5, n_estimators=100;, score=0.888 total time=   0.7s\n",
            "[CV 5/5] END booster=gbtree, max_depth=5, n_estimators=100;, score=0.928 total time=   0.7s\n",
            "[CV 1/5] END booster=gbtree, max_depth=5, n_estimators=150;, score=0.835 total time=   0.8s\n",
            "[CV 2/5] END booster=gbtree, max_depth=5, n_estimators=150;, score=0.907 total time=   0.8s\n",
            "[CV 3/5] END booster=gbtree, max_depth=5, n_estimators=150;, score=0.814 total time=   1.0s\n",
            "[CV 4/5] END booster=gbtree, max_depth=5, n_estimators=150;, score=0.891 total time=   1.8s\n",
            "[CV 5/5] END booster=gbtree, max_depth=5, n_estimators=150;, score=0.928 total time=   2.2s\n",
            "[CV 1/5] END booster=gbtree, max_depth=5, n_estimators=200;, score=0.838 total time=   1.9s\n",
            "[CV 2/5] END booster=gbtree, max_depth=5, n_estimators=200;, score=0.909 total time=   1.1s\n",
            "[CV 3/5] END booster=gbtree, max_depth=5, n_estimators=200;, score=0.816 total time=   0.9s\n",
            "[CV 4/5] END booster=gbtree, max_depth=5, n_estimators=200;, score=0.893 total time=   0.9s\n",
            "[CV 5/5] END booster=gbtree, max_depth=5, n_estimators=200;, score=0.933 total time=   0.9s\n",
            "[CV 1/5] END booster=gbtree, max_depth=5, n_estimators=250;, score=0.842 total time=   1.4s\n",
            "[CV 2/5] END booster=gbtree, max_depth=5, n_estimators=250;, score=0.904 total time=   1.0s\n",
            "[CV 3/5] END booster=gbtree, max_depth=5, n_estimators=250;, score=0.816 total time=   1.0s\n",
            "[CV 4/5] END booster=gbtree, max_depth=5, n_estimators=250;, score=0.894 total time=   1.0s\n",
            "[CV 5/5] END booster=gbtree, max_depth=5, n_estimators=250;, score=0.933 total time=   1.4s\n",
            "[CV 1/5] END booster=gbtree, max_depth=6, n_estimators=100;, score=0.821 total time=   1.1s\n",
            "[CV 2/5] END booster=gbtree, max_depth=6, n_estimators=100;, score=0.883 total time=   3.0s\n",
            "[CV 3/5] END booster=gbtree, max_depth=6, n_estimators=100;, score=0.824 total time=   1.0s\n",
            "[CV 4/5] END booster=gbtree, max_depth=6, n_estimators=100;, score=0.893 total time=   0.7s\n",
            "[CV 5/5] END booster=gbtree, max_depth=6, n_estimators=100;, score=0.933 total time=   0.7s\n",
            "[CV 1/5] END booster=gbtree, max_depth=6, n_estimators=150;, score=0.824 total time=   0.8s\n",
            "[CV 2/5] END booster=gbtree, max_depth=6, n_estimators=150;, score=0.890 total time=   0.8s\n",
            "[CV 3/5] END booster=gbtree, max_depth=6, n_estimators=150;, score=0.830 total time=   0.8s\n",
            "[CV 4/5] END booster=gbtree, max_depth=6, n_estimators=150;, score=0.896 total time=   0.8s\n",
            "[CV 5/5] END booster=gbtree, max_depth=6, n_estimators=150;, score=0.937 total time=   0.9s\n",
            "[CV 1/5] END booster=gbtree, max_depth=6, n_estimators=200;, score=0.829 total time=   0.9s\n",
            "[CV 2/5] END booster=gbtree, max_depth=6, n_estimators=200;, score=0.888 total time=   0.9s\n",
            "[CV 3/5] END booster=gbtree, max_depth=6, n_estimators=200;, score=0.834 total time=   0.9s\n",
            "[CV 4/5] END booster=gbtree, max_depth=6, n_estimators=200;, score=0.896 total time=   0.9s\n",
            "[CV 5/5] END booster=gbtree, max_depth=6, n_estimators=200;, score=0.935 total time=   0.9s\n",
            "[CV 1/5] END booster=gbtree, max_depth=6, n_estimators=250;, score=0.840 total time=   1.0s\n",
            "[CV 2/5] END booster=gbtree, max_depth=6, n_estimators=250;, score=0.888 total time=   1.0s\n",
            "[CV 3/5] END booster=gbtree, max_depth=6, n_estimators=250;, score=0.837 total time=   1.0s\n",
            "[CV 4/5] END booster=gbtree, max_depth=6, n_estimators=250;, score=0.894 total time=   1.0s\n",
            "[CV 5/5] END booster=gbtree, max_depth=6, n_estimators=250;, score=0.932 total time=   1.0s\n",
            "[CV 1/5] END booster=gbtree, max_depth=7, n_estimators=100;, score=0.864 total time=   0.7s\n",
            "[CV 2/5] END booster=gbtree, max_depth=7, n_estimators=100;, score=0.893 total time=   0.7s\n",
            "[CV 3/5] END booster=gbtree, max_depth=7, n_estimators=100;, score=0.824 total time=   0.6s\n",
            "[CV 4/5] END booster=gbtree, max_depth=7, n_estimators=100;, score=0.858 total time=   0.7s\n",
            "[CV 5/5] END booster=gbtree, max_depth=7, n_estimators=100;, score=0.935 total time=   0.7s\n",
            "[CV 1/5] END booster=gbtree, max_depth=7, n_estimators=150;, score=0.854 total time=   0.8s\n",
            "[CV 2/5] END booster=gbtree, max_depth=7, n_estimators=150;, score=0.896 total time=   0.8s\n",
            "[CV 3/5] END booster=gbtree, max_depth=7, n_estimators=150;, score=0.830 total time=   0.8s\n",
            "[CV 4/5] END booster=gbtree, max_depth=7, n_estimators=150;, score=0.874 total time=   0.8s\n",
            "[CV 5/5] END booster=gbtree, max_depth=7, n_estimators=150;, score=0.938 total time=   0.9s\n",
            "[CV 1/5] END booster=gbtree, max_depth=7, n_estimators=200;, score=0.858 total time=   0.9s\n",
            "[CV 2/5] END booster=gbtree, max_depth=7, n_estimators=200;, score=0.894 total time=   0.9s\n",
            "[CV 3/5] END booster=gbtree, max_depth=7, n_estimators=200;, score=0.834 total time=   0.9s\n",
            "[CV 4/5] END booster=gbtree, max_depth=7, n_estimators=200;, score=0.874 total time=   1.0s\n",
            "[CV 5/5] END booster=gbtree, max_depth=7, n_estimators=200;, score=0.935 total time=   1.0s\n",
            "[CV 1/5] END booster=gbtree, max_depth=7, n_estimators=250;, score=0.864 total time=   1.1s\n",
            "[CV 2/5] END booster=gbtree, max_depth=7, n_estimators=250;, score=0.898 total time=   1.7s\n",
            "[CV 3/5] END booster=gbtree, max_depth=7, n_estimators=250;, score=0.837 total time=   1.6s\n",
            "[CV 4/5] END booster=gbtree, max_depth=7, n_estimators=250;, score=0.872 total time=   1.2s\n",
            "[CV 5/5] END booster=gbtree, max_depth=7, n_estimators=250;, score=0.933 total time=   1.0s\n",
            "[CV 1/5] END booster=dart, max_depth=5, n_estimators=100;, score=0.832 total time=   0.7s\n",
            "[CV 2/5] END booster=dart, max_depth=5, n_estimators=100;, score=0.901 total time=   0.6s\n",
            "[CV 3/5] END booster=dart, max_depth=5, n_estimators=100;, score=0.811 total time=   0.7s\n",
            "[CV 4/5] END booster=dart, max_depth=5, n_estimators=100;, score=0.888 total time=   0.7s\n",
            "[CV 5/5] END booster=dart, max_depth=5, n_estimators=100;, score=0.928 total time=   0.7s\n",
            "[CV 1/5] END booster=dart, max_depth=5, n_estimators=150;, score=0.835 total time=   0.8s\n",
            "[CV 2/5] END booster=dart, max_depth=5, n_estimators=150;, score=0.907 total time=   0.8s\n",
            "[CV 3/5] END booster=dart, max_depth=5, n_estimators=150;, score=0.814 total time=   0.8s\n",
            "[CV 4/5] END booster=dart, max_depth=5, n_estimators=150;, score=0.891 total time=   0.9s\n",
            "[CV 5/5] END booster=dart, max_depth=5, n_estimators=150;, score=0.928 total time=   0.9s\n",
            "[CV 1/5] END booster=dart, max_depth=5, n_estimators=200;, score=0.838 total time=   1.0s\n",
            "[CV 2/5] END booster=dart, max_depth=5, n_estimators=200;, score=0.909 total time=   1.0s\n",
            "[CV 3/5] END booster=dart, max_depth=5, n_estimators=200;, score=0.816 total time=   1.0s\n",
            "[CV 4/5] END booster=dart, max_depth=5, n_estimators=200;, score=0.893 total time=   1.0s\n",
            "[CV 5/5] END booster=dart, max_depth=5, n_estimators=200;, score=0.933 total time=   1.1s\n",
            "[CV 1/5] END booster=dart, max_depth=5, n_estimators=250;, score=0.842 total time=   1.2s\n",
            "[CV 2/5] END booster=dart, max_depth=5, n_estimators=250;, score=0.904 total time=   1.2s\n",
            "[CV 3/5] END booster=dart, max_depth=5, n_estimators=250;, score=0.816 total time=   1.2s\n",
            "[CV 4/5] END booster=dart, max_depth=5, n_estimators=250;, score=0.894 total time=   1.2s\n",
            "[CV 5/5] END booster=dart, max_depth=5, n_estimators=250;, score=0.933 total time=   1.2s\n",
            "[CV 1/5] END booster=dart, max_depth=6, n_estimators=100;, score=0.821 total time=   0.7s\n",
            "[CV 2/5] END booster=dart, max_depth=6, n_estimators=100;, score=0.883 total time=   0.7s\n",
            "[CV 3/5] END booster=dart, max_depth=6, n_estimators=100;, score=0.824 total time=   0.7s\n",
            "[CV 4/5] END booster=dart, max_depth=6, n_estimators=100;, score=0.893 total time=   0.7s\n",
            "[CV 5/5] END booster=dart, max_depth=6, n_estimators=100;, score=0.933 total time=   0.7s\n",
            "[CV 1/5] END booster=dart, max_depth=6, n_estimators=150;, score=0.824 total time=   0.9s\n",
            "[CV 2/5] END booster=dart, max_depth=6, n_estimators=150;, score=0.890 total time=   0.9s\n",
            "[CV 3/5] END booster=dart, max_depth=6, n_estimators=150;, score=0.830 total time=   0.8s\n",
            "[CV 4/5] END booster=dart, max_depth=6, n_estimators=150;, score=0.896 total time=   0.9s\n",
            "[CV 5/5] END booster=dart, max_depth=6, n_estimators=150;, score=0.937 total time=   0.9s\n",
            "[CV 1/5] END booster=dart, max_depth=6, n_estimators=200;, score=0.829 total time=   1.0s\n",
            "[CV 2/5] END booster=dart, max_depth=6, n_estimators=200;, score=0.888 total time=   1.0s\n",
            "[CV 3/5] END booster=dart, max_depth=6, n_estimators=200;, score=0.834 total time=   1.0s\n",
            "[CV 4/5] END booster=dart, max_depth=6, n_estimators=200;, score=0.896 total time=   1.0s\n",
            "[CV 5/5] END booster=dart, max_depth=6, n_estimators=200;, score=0.935 total time=   1.1s\n",
            "[CV 1/5] END booster=dart, max_depth=6, n_estimators=250;, score=0.840 total time=   1.2s\n",
            "[CV 2/5] END booster=dart, max_depth=6, n_estimators=250;, score=0.888 total time=   1.2s\n",
            "[CV 3/5] END booster=dart, max_depth=6, n_estimators=250;, score=0.837 total time=   1.2s\n",
            "[CV 4/5] END booster=dart, max_depth=6, n_estimators=250;, score=0.894 total time=   1.2s\n",
            "[CV 5/5] END booster=dart, max_depth=6, n_estimators=250;, score=0.932 total time=   1.2s\n",
            "[CV 1/5] END booster=dart, max_depth=7, n_estimators=100;, score=0.864 total time=   0.7s\n",
            "[CV 2/5] END booster=dart, max_depth=7, n_estimators=100;, score=0.893 total time=   0.7s\n",
            "[CV 3/5] END booster=dart, max_depth=7, n_estimators=100;, score=0.824 total time=   0.7s\n",
            "[CV 4/5] END booster=dart, max_depth=7, n_estimators=100;, score=0.858 total time=   0.7s\n",
            "[CV 5/5] END booster=dart, max_depth=7, n_estimators=100;, score=0.935 total time=   0.7s\n",
            "[CV 1/5] END booster=dart, max_depth=7, n_estimators=150;, score=0.854 total time=   0.9s\n",
            "[CV 2/5] END booster=dart, max_depth=7, n_estimators=150;, score=0.896 total time=   0.9s\n",
            "[CV 3/5] END booster=dart, max_depth=7, n_estimators=150;, score=0.830 total time=   0.9s\n",
            "[CV 4/5] END booster=dart, max_depth=7, n_estimators=150;, score=0.874 total time=   0.9s\n",
            "[CV 5/5] END booster=dart, max_depth=7, n_estimators=150;, score=0.938 total time=   0.9s\n",
            "[CV 1/5] END booster=dart, max_depth=7, n_estimators=200;, score=0.858 total time=   1.0s\n",
            "[CV 2/5] END booster=dart, max_depth=7, n_estimators=200;, score=0.894 total time=   1.1s\n",
            "[CV 3/5] END booster=dart, max_depth=7, n_estimators=200;, score=0.834 total time=   1.0s\n",
            "[CV 4/5] END booster=dart, max_depth=7, n_estimators=200;, score=0.874 total time=   1.1s\n",
            "[CV 5/5] END booster=dart, max_depth=7, n_estimators=200;, score=0.935 total time=   1.1s\n",
            "[CV 1/5] END booster=dart, max_depth=7, n_estimators=250;, score=0.864 total time=   1.2s\n",
            "[CV 2/5] END booster=dart, max_depth=7, n_estimators=250;, score=0.898 total time=   1.3s\n",
            "[CV 3/5] END booster=dart, max_depth=7, n_estimators=250;, score=0.837 total time=   1.2s\n",
            "[CV 4/5] END booster=dart, max_depth=7, n_estimators=250;, score=0.872 total time=   1.5s\n",
            "[CV 5/5] END booster=dart, max_depth=7, n_estimators=250;, score=0.933 total time=   1.7s\n"
          ]
        },
        {
          "output_type": "execute_result",
          "data": {
            "text/plain": [
              "GridSearchCV(cv=5, estimator=XGBClassifier(),\n",
              "             param_grid=[{'booster': ['gbtree', 'dart'], 'max_depth': [5, 6, 7],\n",
              "                          'n_estimators': [100, 150, 200, 250]}],\n",
              "             scoring='roc_auc', verbose=3)"
            ]
          },
          "metadata": {},
          "execution_count": 15
        }
      ]
    },
    {
      "cell_type": "code",
      "source": [
        "predicted_output = grid.predict(merged_test_arr)"
      ],
      "metadata": {
        "id": "N2byGWxSJEyX"
      },
      "execution_count": null,
      "outputs": []
    },
    {
      "cell_type": "code",
      "source": [
        "pickle.dump(grid, open(\"/content/drive/MyDrive/fake_bert/grid_feasig.pkl\", \"wb\"))"
      ],
      "metadata": {
        "id": "6Qm6_ABUH0sZ"
      },
      "execution_count": null,
      "outputs": []
    },
    {
      "cell_type": "code",
      "source": [
        "print(grid.best_params_)"
      ],
      "metadata": {
        "id": "OUz_bCWWYO-R",
        "outputId": "72812a61-25e7-43ba-da14-5bf60b74d774",
        "colab": {
          "base_uri": "https://localhost:8080/"
        }
      },
      "execution_count": null,
      "outputs": [
        {
          "output_type": "stream",
          "name": "stdout",
          "text": [
            "{'booster': 'gbtree', 'max_depth': 7, 'n_estimators': 250}\n"
          ]
        }
      ]
    },
    {
      "cell_type": "code",
      "source": [
        "print('Accuracy:', accuracy_score(predicted_output, y_test))\n",
        "print('F1 score:', f1_score(y_test, predicted_output))\n",
        "print('Recall:', recall_score(y_test, predicted_output))\n",
        "print('Precision:', precision_score(y_test, predicted_output))\n",
        "print('ROC_AUC Score:', roc_auc_score(y_test, predicted_output))\n",
        "print(classification_report(y_test, predicted_output))"
      ],
      "metadata": {
        "colab": {
          "base_uri": "https://localhost:8080/"
        },
        "id": "eDumdF5BEC6R",
        "outputId": "c99162a6-25b0-414f-b13c-c84ac960bf33"
      },
      "execution_count": null,
      "outputs": [
        {
          "output_type": "stream",
          "name": "stdout",
          "text": [
            "Accuracy: 0.8571428571428571\n",
            "F1 score: 0.8571428571428571\n",
            "Recall: 0.84375\n",
            "Precision: 0.8709677419354839\n",
            "ROC_AUC Score: 0.857358870967742\n",
            "              precision    recall  f1-score   support\n",
            "\n",
            "           0       0.84      0.87      0.86        31\n",
            "           1       0.87      0.84      0.86        32\n",
            "\n",
            "    accuracy                           0.86        63\n",
            "   macro avg       0.86      0.86      0.86        63\n",
            "weighted avg       0.86      0.86      0.86        63\n",
            "\n"
          ]
        }
      ]
    }
  ]
}