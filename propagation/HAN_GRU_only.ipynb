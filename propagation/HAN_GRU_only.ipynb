{
  "nbformat": 4,
  "nbformat_minor": 0,
  "metadata": {
    "colab": {
      "provenance": []
    },
    "kernelspec": {
      "name": "python3",
      "display_name": "Python 3"
    },
    "language_info": {
      "name": "python"
    },
    "gpuClass": "standard"
  },
  "cells": [
    {
      "cell_type": "code",
      "execution_count": null,
      "metadata": {
        "colab": {
          "base_uri": "https://localhost:8080/"
        },
        "id": "EgupxXAn-5HF",
        "outputId": "a30a1702-fa2d-47ee-a109-59e173dce376"
      },
      "outputs": [
        {
          "output_type": "stream",
          "name": "stderr",
          "text": [
            "[nltk_data] Downloading package punkt to /root/nltk_data...\n",
            "[nltk_data]   Unzipping tokenizers/punkt.zip.\n"
          ]
        }
      ],
      "source": [
        "import pandas as pd\n",
        "import numpy as np\n",
        "import pickle\n",
        "import sys\n",
        "import sklearn\n",
        "from sklearn.model_selection import train_test_split\n",
        "import tensorflow as tf\n",
        "\n",
        "from keras import Sequential, regularizers \n",
        "\n",
        "from keras.layers import Embedding, LSTM, Dense\n",
        "from keras import losses\n",
        "from keras.layers import Dense\n",
        "from keras.layers import Flatten, InputLayer\n",
        "\n",
        "import time\n",
        "from keras.callbacks import EarlyStopping, ModelCheckpoint\n",
        "import torch\n",
        "from sklearn.metrics import precision_score, \\\n",
        "    recall_score, confusion_matrix, classification_report, \\\n",
        "    accuracy_score, f1_score, roc_auc_score\n",
        "from sklearn.metrics import precision_recall_curve, auc\n",
        "from sklearn import metrics\n",
        "import plotly.express as px\n",
        "\n",
        "from keras.preprocessing.text import Tokenizer,  text_to_word_sequence\n",
        "# from keras.engine.topology import Layer\n",
        "from keras import initializers as initializers, regularizers, constraints\n",
        "from keras.callbacks import Callback, ModelCheckpoint\n",
        "from keras.utils.np_utils import to_categorical\n",
        "from keras.layers import Embedding, Input, Dense, LSTM, GRU, Bidirectional, TimeDistributed, Dropout\n",
        "from keras import backend as K\n",
        "from keras import optimizers\n",
        "from keras.models import Model\n",
        "from nltk import tokenize\n",
        "import nltk\n",
        "nltk.download('punkt')\n",
        "\n",
        "import matplotlib.pyplot as plt\n",
        "import seaborn as sns"
      ]
    },
    {
      "cell_type": "code",
      "source": [
        "from google.colab import drive\n",
        "drive.mount('/content/drive')"
      ],
      "metadata": {
        "colab": {
          "base_uri": "https://localhost:8080/"
        },
        "id": "6jJ6f4G6ODpN",
        "outputId": "6e749502-66f7-4a3e-e4c9-86206c8ce531"
      },
      "execution_count": null,
      "outputs": [
        {
          "output_type": "stream",
          "name": "stdout",
          "text": [
            "Mounted at /content/drive\n"
          ]
        }
      ]
    },
    {
      "cell_type": "code",
      "source": [
        "path_df = \"/content/drive/MyDrive/fake_bert/politifact_prop.pkl\""
      ],
      "metadata": {
        "id": "BxH344MZ_D_z"
      },
      "execution_count": null,
      "outputs": []
    },
    {
      "cell_type": "code",
      "source": [
        "df = pickle.load(open(path_df, \"rb\"))"
      ],
      "metadata": {
        "id": "AOIr3tZp_J-p"
      },
      "execution_count": null,
      "outputs": []
    },
    {
      "cell_type": "code",
      "source": [
        "df.head()"
      ],
      "metadata": {
        "colab": {
          "base_uri": "https://localhost:8080/",
          "height": 701
        },
        "id": "b5z39z9wJkPK",
        "outputId": "ae7f6966-1c19-4e18-aef9-4777a76fde21"
      },
      "execution_count": null,
      "outputs": [
        {
          "output_type": "execute_result",
          "data": {
            "text/plain": [
              "                                                              text  \\\n",
              "id                                                                   \n",
              "politifact720    Organizing for ’18\\n\\nThrough Election Day\\n\\n...   \n",
              "politifact10731  COLUMBUS, Ohio — America's role as a world lea...   \n",
              "politifact11115  In the course of the email review, State Depar...   \n",
              "politifact14148  We all get lazy from time to time and just wan...   \n",
              "politifact6932   Mitt Romney came to coal country on Aug. 14, s...   \n",
              "\n",
              "                                                             title  \\\n",
              "id                                                                   \n",
              "politifact720                                Organizing for Action   \n",
              "politifact10731  Call 'Islamic terrorism' what it is: a threat ...   \n",
              "politifact11115   Inquiry Sought in Hillary Clinton’s Use of Email   \n",
              "politifact14148  NASA Will Pay You 18000 USD To Stay In Bed And...   \n",
              "politifact6932   Barack Obama says Mitt Romney condemned coal-f...   \n",
              "\n",
              "                                                           top_img  \\\n",
              "id                                                                   \n",
              "politifact720    https://secure.assets.bostatic.com/apps/quincy...   \n",
              "politifact10731  http://triblive.com/csp/mediapool/sites/dt.com...   \n",
              "politifact11115  https://static01.nyt.com/images/2015/07/24/us/...   \n",
              "politifact14148  http://reflectionofmind.org/wp-content/uploads...   \n",
              "politifact6932   http://static.politifact.com.s3.amazonaws.com/...   \n",
              "\n",
              "                 publish_date  \\\n",
              "id                              \n",
              "politifact720            None   \n",
              "politifact10731  1429079762.0   \n",
              "politifact11115  1437721200.0   \n",
              "politifact14148  1482942009.0   \n",
              "politifact6932   1345705200.0   \n",
              "\n",
              "                                                            images  \\\n",
              "id                                                                   \n",
              "politifact720    [https://secure.assets.bostatic.com/apps/quinc...   \n",
              "politifact10731  [http://triblive.com/csp/mediapool/sites/TribL...   \n",
              "politifact11115  [https://static01.nyt.com/images/2015/07/24/us...   \n",
              "politifact14148  [http://reflectionofmind.org/wp-content/upload...   \n",
              "politifact6932   [http://metric.politifact.com/b/ss/spttbglobal...   \n",
              "\n",
              "                     source  target  \\\n",
              "id                                    \n",
              "politifact720    politifact       1   \n",
              "politifact10731  politifact       1   \n",
              "politifact11115  politifact       1   \n",
              "politifact14148  politifact       0   \n",
              "politifact6932   politifact       1   \n",
              "\n",
              "                                                         tweet_mod  \\\n",
              "id                                                                   \n",
              "politifact720    [{'time': None, 'type': 1, 'user': 1716929114,...   \n",
              "politifact10731  [{'time': None, 'type': 1, 'user': 1716929114,...   \n",
              "politifact11115  [{'time': None, 'type': 1, 'user': 1716929114,...   \n",
              "politifact14148  [{'time': None, 'type': 1, 'user': 1716929114,...   \n",
              "politifact6932   [{'time': None, 'type': 1, 'user': 1716929114,...   \n",
              "\n",
              "                                                         comp_text  \\\n",
              "id                                                                   \n",
              "politifact720    Organizing for 18 Through Election Day Sometim...   \n",
              "politifact10731  COLUMBUS Ohio America's role as a world leader...   \n",
              "politifact11115  In the course of the email review State Depart...   \n",
              "politifact14148  We all get lazy from time to time and just wan...   \n",
              "politifact6932   Mitt Romney came to coal country on Aug. 14 st...   \n",
              "\n",
              "                                                          lem_text  \n",
              "id                                                                  \n",
              "politifact720    organize for 18 through election day sometimes...  \n",
              "politifact10731  columbus ohio americas role a a world leader a...  \n",
              "politifact11115  in the course of the email review state depart...  \n",
              "politifact14148  we all get lazy from time to time and just wan...  \n",
              "politifact6932   mitt romney come to coal country on aug 14 sta...  "
            ],
            "text/html": [
              "\n",
              "  <div id=\"df-a88a466d-6888-4277-ad93-ef1974711def\">\n",
              "    <div class=\"colab-df-container\">\n",
              "      <div>\n",
              "<style scoped>\n",
              "    .dataframe tbody tr th:only-of-type {\n",
              "        vertical-align: middle;\n",
              "    }\n",
              "\n",
              "    .dataframe tbody tr th {\n",
              "        vertical-align: top;\n",
              "    }\n",
              "\n",
              "    .dataframe thead th {\n",
              "        text-align: right;\n",
              "    }\n",
              "</style>\n",
              "<table border=\"1\" class=\"dataframe\">\n",
              "  <thead>\n",
              "    <tr style=\"text-align: right;\">\n",
              "      <th></th>\n",
              "      <th>text</th>\n",
              "      <th>title</th>\n",
              "      <th>top_img</th>\n",
              "      <th>publish_date</th>\n",
              "      <th>images</th>\n",
              "      <th>source</th>\n",
              "      <th>target</th>\n",
              "      <th>tweet_mod</th>\n",
              "      <th>comp_text</th>\n",
              "      <th>lem_text</th>\n",
              "    </tr>\n",
              "    <tr>\n",
              "      <th>id</th>\n",
              "      <th></th>\n",
              "      <th></th>\n",
              "      <th></th>\n",
              "      <th></th>\n",
              "      <th></th>\n",
              "      <th></th>\n",
              "      <th></th>\n",
              "      <th></th>\n",
              "      <th></th>\n",
              "      <th></th>\n",
              "    </tr>\n",
              "  </thead>\n",
              "  <tbody>\n",
              "    <tr>\n",
              "      <th>politifact720</th>\n",
              "      <td>Organizing for ’18\\n\\nThrough Election Day\\n\\n...</td>\n",
              "      <td>Organizing for Action</td>\n",
              "      <td>https://secure.assets.bostatic.com/apps/quincy...</td>\n",
              "      <td>None</td>\n",
              "      <td>[https://secure.assets.bostatic.com/apps/quinc...</td>\n",
              "      <td>politifact</td>\n",
              "      <td>1</td>\n",
              "      <td>[{'time': None, 'type': 1, 'user': 1716929114,...</td>\n",
              "      <td>Organizing for 18 Through Election Day Sometim...</td>\n",
              "      <td>organize for 18 through election day sometimes...</td>\n",
              "    </tr>\n",
              "    <tr>\n",
              "      <th>politifact10731</th>\n",
              "      <td>COLUMBUS, Ohio — America's role as a world lea...</td>\n",
              "      <td>Call 'Islamic terrorism' what it is: a threat ...</td>\n",
              "      <td>http://triblive.com/csp/mediapool/sites/dt.com...</td>\n",
              "      <td>1429079762.0</td>\n",
              "      <td>[http://triblive.com/csp/mediapool/sites/TribL...</td>\n",
              "      <td>politifact</td>\n",
              "      <td>1</td>\n",
              "      <td>[{'time': None, 'type': 1, 'user': 1716929114,...</td>\n",
              "      <td>COLUMBUS Ohio America's role as a world leader...</td>\n",
              "      <td>columbus ohio americas role a a world leader a...</td>\n",
              "    </tr>\n",
              "    <tr>\n",
              "      <th>politifact11115</th>\n",
              "      <td>In the course of the email review, State Depar...</td>\n",
              "      <td>Inquiry Sought in Hillary Clinton’s Use of Email</td>\n",
              "      <td>https://static01.nyt.com/images/2015/07/24/us/...</td>\n",
              "      <td>1437721200.0</td>\n",
              "      <td>[https://static01.nyt.com/images/2015/07/24/us...</td>\n",
              "      <td>politifact</td>\n",
              "      <td>1</td>\n",
              "      <td>[{'time': None, 'type': 1, 'user': 1716929114,...</td>\n",
              "      <td>In the course of the email review State Depart...</td>\n",
              "      <td>in the course of the email review state depart...</td>\n",
              "    </tr>\n",
              "    <tr>\n",
              "      <th>politifact14148</th>\n",
              "      <td>We all get lazy from time to time and just wan...</td>\n",
              "      <td>NASA Will Pay You 18000 USD To Stay In Bed And...</td>\n",
              "      <td>http://reflectionofmind.org/wp-content/uploads...</td>\n",
              "      <td>1482942009.0</td>\n",
              "      <td>[http://reflectionofmind.org/wp-content/upload...</td>\n",
              "      <td>politifact</td>\n",
              "      <td>0</td>\n",
              "      <td>[{'time': None, 'type': 1, 'user': 1716929114,...</td>\n",
              "      <td>We all get lazy from time to time and just wan...</td>\n",
              "      <td>we all get lazy from time to time and just wan...</td>\n",
              "    </tr>\n",
              "    <tr>\n",
              "      <th>politifact6932</th>\n",
              "      <td>Mitt Romney came to coal country on Aug. 14, s...</td>\n",
              "      <td>Barack Obama says Mitt Romney condemned coal-f...</td>\n",
              "      <td>http://static.politifact.com.s3.amazonaws.com/...</td>\n",
              "      <td>1345705200.0</td>\n",
              "      <td>[http://metric.politifact.com/b/ss/spttbglobal...</td>\n",
              "      <td>politifact</td>\n",
              "      <td>1</td>\n",
              "      <td>[{'time': None, 'type': 1, 'user': 1716929114,...</td>\n",
              "      <td>Mitt Romney came to coal country on Aug. 14 st...</td>\n",
              "      <td>mitt romney come to coal country on aug 14 sta...</td>\n",
              "    </tr>\n",
              "  </tbody>\n",
              "</table>\n",
              "</div>\n",
              "      <button class=\"colab-df-convert\" onclick=\"convertToInteractive('df-a88a466d-6888-4277-ad93-ef1974711def')\"\n",
              "              title=\"Convert this dataframe to an interactive table.\"\n",
              "              style=\"display:none;\">\n",
              "        \n",
              "  <svg xmlns=\"http://www.w3.org/2000/svg\" height=\"24px\"viewBox=\"0 0 24 24\"\n",
              "       width=\"24px\">\n",
              "    <path d=\"M0 0h24v24H0V0z\" fill=\"none\"/>\n",
              "    <path d=\"M18.56 5.44l.94 2.06.94-2.06 2.06-.94-2.06-.94-.94-2.06-.94 2.06-2.06.94zm-11 1L8.5 8.5l.94-2.06 2.06-.94-2.06-.94L8.5 2.5l-.94 2.06-2.06.94zm10 10l.94 2.06.94-2.06 2.06-.94-2.06-.94-.94-2.06-.94 2.06-2.06.94z\"/><path d=\"M17.41 7.96l-1.37-1.37c-.4-.4-.92-.59-1.43-.59-.52 0-1.04.2-1.43.59L10.3 9.45l-7.72 7.72c-.78.78-.78 2.05 0 2.83L4 21.41c.39.39.9.59 1.41.59.51 0 1.02-.2 1.41-.59l7.78-7.78 2.81-2.81c.8-.78.8-2.07 0-2.86zM5.41 20L4 18.59l7.72-7.72 1.47 1.35L5.41 20z\"/>\n",
              "  </svg>\n",
              "      </button>\n",
              "      \n",
              "  <style>\n",
              "    .colab-df-container {\n",
              "      display:flex;\n",
              "      flex-wrap:wrap;\n",
              "      gap: 12px;\n",
              "    }\n",
              "\n",
              "    .colab-df-convert {\n",
              "      background-color: #E8F0FE;\n",
              "      border: none;\n",
              "      border-radius: 50%;\n",
              "      cursor: pointer;\n",
              "      display: none;\n",
              "      fill: #1967D2;\n",
              "      height: 32px;\n",
              "      padding: 0 0 0 0;\n",
              "      width: 32px;\n",
              "    }\n",
              "\n",
              "    .colab-df-convert:hover {\n",
              "      background-color: #E2EBFA;\n",
              "      box-shadow: 0px 1px 2px rgba(60, 64, 67, 0.3), 0px 1px 3px 1px rgba(60, 64, 67, 0.15);\n",
              "      fill: #174EA6;\n",
              "    }\n",
              "\n",
              "    [theme=dark] .colab-df-convert {\n",
              "      background-color: #3B4455;\n",
              "      fill: #D2E3FC;\n",
              "    }\n",
              "\n",
              "    [theme=dark] .colab-df-convert:hover {\n",
              "      background-color: #434B5C;\n",
              "      box-shadow: 0px 1px 3px 1px rgba(0, 0, 0, 0.15);\n",
              "      filter: drop-shadow(0px 1px 2px rgba(0, 0, 0, 0.3));\n",
              "      fill: #FFFFFF;\n",
              "    }\n",
              "  </style>\n",
              "\n",
              "      <script>\n",
              "        const buttonEl =\n",
              "          document.querySelector('#df-a88a466d-6888-4277-ad93-ef1974711def button.colab-df-convert');\n",
              "        buttonEl.style.display =\n",
              "          google.colab.kernel.accessAllowed ? 'block' : 'none';\n",
              "\n",
              "        async function convertToInteractive(key) {\n",
              "          const element = document.querySelector('#df-a88a466d-6888-4277-ad93-ef1974711def');\n",
              "          const dataTable =\n",
              "            await google.colab.kernel.invokeFunction('convertToInteractive',\n",
              "                                                     [key], {});\n",
              "          if (!dataTable) return;\n",
              "\n",
              "          const docLinkHtml = 'Like what you see? Visit the ' +\n",
              "            '<a target=\"_blank\" href=https://colab.research.google.com/notebooks/data_table.ipynb>data table notebook</a>'\n",
              "            + ' to learn more about interactive tables.';\n",
              "          element.innerHTML = '';\n",
              "          dataTable['output_type'] = 'display_data';\n",
              "          await google.colab.output.renderOutput(dataTable, element);\n",
              "          const docLink = document.createElement('div');\n",
              "          docLink.innerHTML = docLinkHtml;\n",
              "          element.appendChild(docLink);\n",
              "        }\n",
              "      </script>\n",
              "    </div>\n",
              "  </div>\n",
              "  "
            ]
          },
          "metadata": {},
          "execution_count": 4
        }
      ]
    },
    {
      "cell_type": "code",
      "source": [
        "sent_lens = []\n",
        "sent_nums = []\n",
        "texts = []\n",
        "paras = []\n",
        "\n",
        "for idx in range(df[\"comp_text\"].shape[0]):\n",
        "    text = df[\"comp_text\"][idx]\n",
        "    texts.append(text)\n",
        "    sentences = tokenize.sent_tokenize(text)\n",
        "    sent_nums.append(len(sentences))\n",
        "    for sent in sentences:\n",
        "        sent_lens.append(len(text_to_word_sequence(sent)))\n",
        "    print(len(sentences))\n",
        "    paras.append(sentences)"
      ],
      "metadata": {
        "colab": {
          "base_uri": "https://localhost:8080/"
        },
        "id": "zW6KwrZlETFg",
        "outputId": "bff737ea-d6f3-4e39-b159-f60626b1948d"
      },
      "execution_count": null,
      "outputs": [
        {
          "output_type": "stream",
          "name": "stdout",
          "text": [
            "4\n",
            "44\n",
            "15\n",
            "30\n",
            "85\n",
            "11\n",
            "7\n",
            "18\n",
            "11\n",
            "6\n",
            "10\n",
            "30\n",
            "312\n",
            "36\n",
            "9\n",
            "12\n",
            "24\n",
            "1\n",
            "2\n",
            "4\n",
            "27\n",
            "1\n",
            "15\n",
            "33\n",
            "9\n",
            "1\n",
            "1\n",
            "80\n",
            "4\n",
            "4\n",
            "10\n",
            "11\n",
            "21\n",
            "919\n",
            "61\n",
            "267\n",
            "3\n",
            "464\n",
            "32\n",
            "8\n",
            "4\n",
            "3\n",
            "11\n",
            "668\n",
            "3\n",
            "7\n",
            "53\n",
            "69\n",
            "1\n",
            "21\n",
            "155\n",
            "66\n",
            "3\n",
            "26\n",
            "56\n",
            "12\n",
            "462\n",
            "16\n",
            "7\n",
            "3\n",
            "2\n",
            "73\n",
            "209\n",
            "16\n",
            "17\n",
            "15\n",
            "34\n",
            "22\n",
            "18\n",
            "1\n",
            "13\n",
            "40\n",
            "3\n",
            "49\n",
            "43\n",
            "8\n",
            "5\n",
            "21\n",
            "1\n",
            "2\n",
            "18\n",
            "1\n",
            "8\n",
            "5\n",
            "1\n",
            "3\n",
            "47\n",
            "3\n",
            "17\n",
            "237\n",
            "23\n",
            "5\n",
            "16\n",
            "15\n",
            "41\n",
            "6\n",
            "15\n",
            "13\n",
            "44\n",
            "40\n",
            "6\n",
            "48\n",
            "296\n",
            "796\n",
            "12\n",
            "1\n",
            "28\n",
            "140\n",
            "21\n",
            "29\n",
            "23\n",
            "4\n",
            "18\n",
            "19\n",
            "13\n",
            "16\n",
            "4\n",
            "22\n",
            "60\n",
            "6\n",
            "15\n",
            "3\n",
            "3\n",
            "11\n",
            "3\n",
            "7\n",
            "2\n",
            "32\n",
            "63\n",
            "83\n",
            "1\n",
            "23\n",
            "52\n",
            "51\n",
            "14\n",
            "1\n",
            "42\n",
            "1\n",
            "44\n",
            "22\n",
            "9\n",
            "10\n",
            "3\n",
            "1\n",
            "38\n",
            "4\n",
            "4\n",
            "2\n",
            "67\n",
            "43\n",
            "39\n",
            "9\n",
            "52\n",
            "11\n",
            "64\n",
            "698\n",
            "18\n",
            "20\n",
            "49\n",
            "11\n",
            "1302\n",
            "511\n",
            "11\n",
            "40\n",
            "12\n",
            "12\n",
            "3\n",
            "3\n",
            "7\n",
            "2\n",
            "37\n",
            "105\n",
            "253\n",
            "4\n",
            "22\n",
            "18\n",
            "1259\n",
            "5\n",
            "33\n",
            "1\n",
            "191\n",
            "63\n",
            "12\n",
            "5\n",
            "918\n",
            "693\n",
            "22\n",
            "12\n",
            "8\n",
            "36\n",
            "43\n",
            "3\n",
            "14\n",
            "23\n",
            "58\n",
            "39\n",
            "14\n",
            "29\n",
            "26\n",
            "28\n",
            "5\n",
            "4\n",
            "35\n",
            "25\n",
            "3\n",
            "19\n",
            "92\n",
            "8\n",
            "3\n",
            "40\n",
            "17\n",
            "28\n",
            "13\n",
            "47\n",
            "20\n",
            "52\n",
            "10\n",
            "3\n",
            "10\n",
            "7\n",
            "12\n",
            "4\n",
            "65\n",
            "5\n",
            "49\n",
            "33\n",
            "1\n",
            "2\n",
            "27\n",
            "30\n",
            "4\n",
            "14\n",
            "280\n",
            "8\n",
            "1041\n",
            "967\n",
            "91\n",
            "1\n",
            "15\n",
            "75\n",
            "110\n",
            "1\n",
            "30\n",
            "2\n",
            "64\n",
            "47\n",
            "4\n",
            "4\n",
            "13\n",
            "11\n",
            "12\n",
            "18\n",
            "52\n",
            "14\n",
            "1\n",
            "1\n",
            "22\n",
            "23\n",
            "10\n",
            "15\n",
            "3\n",
            "24\n",
            "18\n",
            "19\n",
            "5\n",
            "44\n",
            "67\n",
            "22\n",
            "4\n",
            "16\n",
            "12\n",
            "4\n",
            "30\n",
            "1\n",
            "11\n",
            "11\n",
            "49\n",
            "1\n",
            "1\n",
            "618\n",
            "82\n",
            "48\n",
            "12\n",
            "50\n",
            "244\n",
            "44\n",
            "48\n",
            "18\n",
            "6\n",
            "1267\n",
            "11\n",
            "213\n",
            "21\n",
            "29\n",
            "42\n",
            "173\n",
            "551\n",
            "5\n",
            "1\n",
            "196\n",
            "700\n",
            "76\n",
            "28\n",
            "14\n",
            "176\n",
            "19\n",
            "13\n",
            "16\n",
            "1\n",
            "1\n",
            "10\n",
            "7\n"
          ]
        }
      ]
    },
    {
      "cell_type": "code",
      "source": [
        "# sentences[0]\n",
        "# print(\"---\")\n",
        "paras[0]\n",
        "# len(paras[2])"
      ],
      "metadata": {
        "colab": {
          "base_uri": "https://localhost:8080/"
        },
        "id": "bax7g5rVJ_Gq",
        "outputId": "593d48d2-54a3-45c1-e90f-552fce81a57a"
      },
      "execution_count": null,
      "outputs": [
        {
          "output_type": "execute_result",
          "data": {
            "text/plain": [
              "['Organizing for 18 Through Election Day Sometimes fighting for progress on the issues means fighting to win on election day.',\n",
              " \"This year many of the issues we've fought for for years are on the ballot so we're Organizing for 18.\",\n",
              " 'Host or find an event near you this election season.',\n",
              " 'Find an event']"
            ]
          },
          "metadata": {},
          "execution_count": 7
        }
      ]
    },
    {
      "cell_type": "code",
      "source": [
        "max_features=10000\n",
        "max_senten_len=40\n",
        "max_senten_num=6\n",
        "embed_size=100\n",
        "VALIDATION_SPLIT = 0.2"
      ],
      "metadata": {
        "id": "Stonxlk1BXVN"
      },
      "execution_count": null,
      "outputs": []
    },
    {
      "cell_type": "code",
      "source": [
        "tokenizer = Tokenizer(num_words=max_features, oov_token=True)\n",
        "tokenizer.fit_on_texts(texts)\n",
        "data = np.zeros((len(texts), max_senten_num, max_senten_len), dtype='int32')\n",
        "for i, sentences in enumerate(paras):\n",
        "    for j, sent in enumerate(sentences):\n",
        "        if j< max_senten_num:\n",
        "            wordTokens = text_to_word_sequence(sent)\n",
        "            k=0\n",
        "            for _, word in enumerate(wordTokens):\n",
        "                try:\n",
        "                    if k<max_senten_len and tokenizer.word_index[word]<max_features:\n",
        "                        data[i,j,k] = tokenizer.word_index[word]\n",
        "                        k=k+1\n",
        "                except:\n",
        "                    print(word)\n",
        "                    pass"
      ],
      "metadata": {
        "id": "0QqUbo-D_Mk_"
      },
      "execution_count": null,
      "outputs": []
    },
    {
      "cell_type": "code",
      "source": [
        "sns.distplot(sent_lens, bins=200)\n",
        "plt.show()"
      ],
      "metadata": {
        "colab": {
          "base_uri": "https://localhost:8080/",
          "height": 321
        },
        "id": "wdsGl92SKcrx",
        "outputId": "2ec4d690-b439-488b-d119-d4563f4641a5"
      },
      "execution_count": null,
      "outputs": [
        {
          "output_type": "stream",
          "name": "stderr",
          "text": [
            "/usr/local/lib/python3.7/dist-packages/seaborn/distributions.py:2619: FutureWarning: `distplot` is a deprecated function and will be removed in a future version. Please adapt your code to use either `displot` (a figure-level function with similar flexibility) or `histplot` (an axes-level function for histograms).\n",
            "  warnings.warn(msg, FutureWarning)\n"
          ]
        },
        {
          "output_type": "display_data",
          "data": {
            "text/plain": [
              "<Figure size 432x288 with 1 Axes>"
            ],
            "image/png": "[encoded data removed]"
          },
          "metadata": {
            "needs_background": "light"
          }
        }
      ]
    },
    {
      "cell_type": "code",
      "source": [
        "sent_lens"
      ],
      "metadata": {
        "id": "X49qAppeJSaJ"
      },
      "execution_count": null,
      "outputs": []
    },
    {
      "cell_type": "code",
      "source": [
        "data.shape"
      ],
      "metadata": {
        "colab": {
          "base_uri": "https://localhost:8080/"
        },
        "id": "VDILNjmxK6ZQ",
        "outputId": "4fbd67a2-6665-4ac5-9fd2-e2ca15967bc1"
      },
      "execution_count": null,
      "outputs": [
        {
          "output_type": "execute_result",
          "data": {
            "text/plain": [
              "(312, 6, 40)"
            ]
          },
          "metadata": {},
          "execution_count": 12
        }
      ]
    },
    {
      "cell_type": "code",
      "source": [
        "word_index = tokenizer.word_index\n",
        "print('Total %s unique tokens.' % len(word_index))"
      ],
      "metadata": {
        "colab": {
          "base_uri": "https://localhost:8080/"
        },
        "id": "BMsaPY3vK-fe",
        "outputId": "e1b13048-21e4-4d9b-cea9-da78956bebd0"
      },
      "execution_count": null,
      "outputs": [
        {
          "output_type": "stream",
          "name": "stdout",
          "text": [
            "Total 17560 unique tokens.\n"
          ]
        }
      ]
    },
    {
      "cell_type": "code",
      "source": [
        "labels = pd.get_dummies(df[\"target\"])\n",
        "# labels = df[\"target\"]"
      ],
      "metadata": {
        "id": "qcsD-akXLBU9"
      },
      "execution_count": null,
      "outputs": []
    },
    {
      "cell_type": "code",
      "source": [
        "labels"
      ],
      "metadata": {
        "id": "KYZmASmucTrQ"
      },
      "execution_count": null,
      "outputs": []
    },
    {
      "cell_type": "code",
      "source": [
        "print('Shape of data tensor:', data.shape)\n",
        "print('Shape of labels tensor:', labels.shape)"
      ],
      "metadata": {
        "colab": {
          "base_uri": "https://localhost:8080/"
        },
        "id": "pfPelUK8LNfI",
        "outputId": "55a92800-6183-4145-9928-b300d19ffbe5"
      },
      "execution_count": null,
      "outputs": [
        {
          "output_type": "stream",
          "name": "stdout",
          "text": [
            "Shape of data tensor: (312, 6, 40)\n",
            "Shape of labels tensor: (312, 2)\n"
          ]
        }
      ]
    },
    {
      "cell_type": "code",
      "source": [
        "# sdd = np.vstack([data, sample_feature_array])"
      ],
      "metadata": {
        "id": "PoHLCeqOPGQx"
      },
      "execution_count": null,
      "outputs": []
    },
    {
      "cell_type": "code",
      "source": [
        "# x_train, x_test, y_train, y_test = train_test_split(data, df['target'], test_size= .15, random_state= 111, stratify= df['target'] )\n",
        "# x_train, x_val, y_train, y_val= train_test_split(x_train, y_train, test_size= .10, random_state= 111, stratify= None )\n",
        "\n",
        "indices = np.arange(data.shape[0])\n",
        "# np.random.shuffle(indices)\n",
        "data = data[indices]\n",
        "labels = labels.iloc[indices]\n",
        "nb_validation_samples = int(VALIDATION_SPLIT * data.shape[0])\n",
        "\n",
        "x_train = data[:-nb_validation_samples]\n",
        "y_train = labels[:-nb_validation_samples]\n",
        "x_val = data[-nb_validation_samples:]\n",
        "y_val = labels[-nb_validation_samples:]\n",
        "print('Number of positive and negative reviews in traing and validation set')\n",
        "\n",
        "# print(y_train.columns.tolist())\n",
        "# print(y_train.sum(axis=0).tolist())\n",
        "# print(y_val.sum(axis=0).tolist())"
      ],
      "metadata": {
        "colab": {
          "base_uri": "https://localhost:8080/"
        },
        "id": "8YgxADbELQ9C",
        "outputId": "faca1cf0-b670-420c-8362-6cfbe2f22bd4"
      },
      "execution_count": null,
      "outputs": [
        {
          "output_type": "stream",
          "name": "stdout",
          "text": [
            "Number of positive and negative reviews in traing and validation set\n"
          ]
        }
      ]
    },
    {
      "cell_type": "code",
      "source": [
        "REG_PARAM = 1e-13\n",
        "l2_reg = regularizers.l2(REG_PARAM)"
      ],
      "metadata": {
        "id": "A3A4j8FaLcHG"
      },
      "execution_count": null,
      "outputs": []
    },
    {
      "cell_type": "code",
      "source": [
        "# !wget http://nlp.stanford.edu/data/glove.6B.zip\n"
      ],
      "metadata": {
        "id": "VASyRsA6pJ3d"
      },
      "execution_count": null,
      "outputs": []
    },
    {
      "cell_type": "code",
      "source": [
        "# !unzip glove*.zip\n"
      ],
      "metadata": {
        "id": "LPe1rsbzp0VV"
      },
      "execution_count": null,
      "outputs": []
    },
    {
      "cell_type": "code",
      "source": [
        "GLOVE_DIR = \"/content/drive/MyDrive/glove.6B.100d.txt\"\n",
        "embeddings_index = {}\n",
        "f = open(GLOVE_DIR)\n",
        "for line in f:\n",
        "    try:\n",
        "        values = line.split()\n",
        "        word = values[0]\n",
        "        coefs = values[1:]\n",
        "        # coefs = np.asarray(y, dtype='float32')\n",
        "        embeddings_index[word] = coefs\n",
        "    except:\n",
        "        print(\"except\")\n",
        "        print(word)\n",
        "        pass\n",
        "f.close()\n",
        "print('Total %s word vectors.' % len(embeddings_index))"
      ],
      "metadata": {
        "colab": {
          "base_uri": "https://localhost:8080/"
        },
        "id": "fTYXTLsvLhhY",
        "outputId": "0b464294-4936-450f-caf2-bfdf3a886f5c"
      },
      "execution_count": null,
      "outputs": [
        {
          "output_type": "stream",
          "name": "stdout",
          "text": [
            "Total 400000 word vectors.\n"
          ]
        }
      ]
    },
    {
      "cell_type": "code",
      "source": [
        "embedding_matrix = np.zeros((len(word_index) + 1, embed_size))\n",
        "absent_words = 0\n",
        "for word, i in word_index.items():\n",
        "    embedding_vector = embeddings_index.get(word)\n",
        "    if embedding_vector is not None:\n",
        "        # words not found in embedding index will be all-zeros.\n",
        "        embedding_matrix[i] = embedding_vector\n",
        "    else:\n",
        "        absent_words += 1\n",
        "print('Total absent words are', absent_words, 'which is', \"%0.2f\" % (absent_words * 100 / len(word_index)), '% of total words')"
      ],
      "metadata": {
        "colab": {
          "base_uri": "https://localhost:8080/"
        },
        "id": "n7ZTdhVvq9OX",
        "outputId": "291d035d-f0e4-4fb6-b347-59c4b4c23d15"
      },
      "execution_count": null,
      "outputs": [
        {
          "output_type": "stream",
          "name": "stdout",
          "text": [
            "Total absent words are 978 which is 5.57 % of total words\n"
          ]
        }
      ]
    },
    {
      "cell_type": "code",
      "source": [
        "embedding_layer = Embedding(len(word_index) + 1,embed_size,weights=[embedding_matrix], input_length=max_senten_len, trainable=False)"
      ],
      "metadata": {
        "id": "bFMWX8BO4xbH"
      },
      "execution_count": null,
      "outputs": []
    },
    {
      "cell_type": "code",
      "source": [
        "# from keras.engine.topology import Layer\n",
        "from tensorflow.keras.layers import Layer, InputSpec\n",
        "\n",
        "def dot_product(x, kernel):\n",
        "    \"\"\"\n",
        "    Wrapper for dot product operation, in order to be compatibl|e with both\n",
        "    Theano and Tensorflow\n",
        "    Args:\n",
        "        x (): input\n",
        "        kernel (): weights\n",
        "    Returns:\n",
        "    \"\"\"\n",
        "    if K.backend() == 'tensorflow':\n",
        "        return K.squeeze(K.dot(x, K.expand_dims(kernel)), axis=-1)\n",
        "    else:\n",
        "        return K.dot(x, kernel)\n",
        "\n",
        "class AttentionWithContext(tf.keras.layers.Layer):\n",
        "    \"\"\"\n",
        "    Attention operation, with a context/query vector, for temporal data.\n",
        "    Supports Masking.\n",
        "    Follows the work of Yang et al. [https://www.cs.cmu.edu/~diyiy/docs/naacl16.pdf]\n",
        "    \"Hierarchical Attention Networks for Document Classification\"\n",
        "    by using a context vector to assist the attention\n",
        "    # Input shape\n",
        "        3D tensor with shape: `(samples, steps, features)`.\n",
        "    # Output shape\n",
        "        2D tensor with shape: `(samples, features)`.\n",
        "    How to use:\n",
        "    Just put it on top of an RNN Layer (GRU/LSTM/SimpleRNN) with return_sequences=True.\n",
        "    The dimensions are inferred based on the output shape of the RNN.\n",
        "    Note: The layer has been tested with Keras 2.0.6\n",
        "    Example:\n",
        "        model.add(LSTM(64, return_sequences=True))\n",
        "        model.add(AttentionWithContext())\n",
        "        # next add a Dense layer (for classification/regression) or whatever...\n",
        "    \"\"\"\n",
        "\n",
        "    def __init__(self,\n",
        "                 W_regularizer=None, u_regularizer=None, b_regularizer=None,\n",
        "                 W_constraint=None, u_constraint=None, b_constraint=None,\n",
        "                 bias=True, context_vector_length = 1000, **kwargs):\n",
        "\n",
        "        self.supports_masking = True\n",
        "        self.init = initializers.get('glorot_uniform')\n",
        "\n",
        "        self.W_regularizer = regularizers.get(W_regularizer)\n",
        "        self.u_regularizer = regularizers.get(u_regularizer)\n",
        "        self.b_regularizer = regularizers.get(b_regularizer)\n",
        "\n",
        "        self.W_constraint = constraints.get(W_constraint)\n",
        "        self.u_constraint = constraints.get(u_constraint)\n",
        "        self.b_constraint = constraints.get(b_constraint)\n",
        "\n",
        "        self.bias = bias\n",
        "        self.context_vector_length = context_vector_length\n",
        "        super(AttentionWithContext, self).__init__(**kwargs)\n",
        "\n",
        "    def build(self, input_shape):\n",
        "        assert len(input_shape) == 3\n",
        "        print('{}_W'.format(self.name))\n",
        "        self.W = self.add_weight(shape=(input_shape[-1], input_shape[-1],),\n",
        "                                 initializer=self.init,\n",
        "                                 name='{}_W'.format(self.name),\n",
        "                                 regularizer=self.W_regularizer,\n",
        "                                 constraint=self.W_constraint)\n",
        "        if self.bias:\n",
        "            self.b = self.add_weight(shape=(input_shape[-1],),\n",
        "                                     initializer='zero',\n",
        "                                     name='{}_b'.format(self.name),\n",
        "                                     regularizer=self.b_regularizer,\n",
        "                                     constraint=self.b_constraint)\n",
        "\n",
        "        self.u = self.add_weight(shape=(input_shape[-1],),\n",
        "                                 initializer=self.init,\n",
        "                                 name='{}_u'.format(self.name),\n",
        "                                 regularizer=self.u_regularizer,\n",
        "                                 constraint=self.u_constraint)\n",
        "\n",
        "        super(AttentionWithContext, self).build(input_shape)\n",
        "\n",
        "    def compute_mask(self, input, input_mask=None):\n",
        "        # do not pass the mask to the next layers\n",
        "        return None\n",
        "\n",
        "    def call(self, x, mask=None):\n",
        "        uit = dot_product(x, self.W)\n",
        "\n",
        "        if self.bias:\n",
        "            uit += self.b\n",
        "\n",
        "        uit = K.tanh(uit)\n",
        "        ait = dot_product(uit, self.u)\n",
        "\n",
        "        a = K.exp(ait)\n",
        "\n",
        "        # apply mask after the exp. will be re-normalized next\n",
        "        if mask is not None:\n",
        "            # Cast the mask to floatX to avoid float64 upcasting in theano\n",
        "            a *= K.cast(mask, K.floatx())\n",
        "\n",
        "        # in some cases especially in the early stages of training the sum may be almost zero\n",
        "        # and this results in NaN's. A workaround is to add a very small positive number ε to the sum.\n",
        "        # a /= K.cast(K.sum(a, axis=1, keepdims=True), K.floatx())\n",
        "        a /= K.cast(K.sum(a, axis=1, keepdims=True) + K.epsilon(), K.floatx())\n",
        "\n",
        "        a = K.expand_dims(a)\n",
        "        weighted_input = x * a\n",
        "        return K.sum(weighted_input, axis=1)\n",
        "\n",
        "    def compute_output_shape(self, input_shape):\n",
        "        return input_shape[0], input_shape[-1]\n",
        "\n",
        "    def get_config(self):\n",
        "        config = {\n",
        "            'context_vector_length': self.context_vector_length\n",
        "        }\n",
        "        base_config = super(AttentionWithContext, self).get_config()\n",
        "        return {**base_config, **config}\n"
      ],
      "metadata": {
        "id": "OCFoIfaU5FPq"
      },
      "execution_count": null,
      "outputs": []
    },
    {
      "cell_type": "code",
      "source": [
        "word_input = Input(shape=(max_senten_len,), dtype='float32')\n",
        "word_sequences = embedding_layer(word_input)\n",
        "embeding_dim = 128\n",
        "word_lstm = Bidirectional(GRU(embeding_dim, return_sequences=True, kernel_regularizer=l2_reg))(word_sequences)\n",
        "word_dense = TimeDistributed(Dense(200, kernel_regularizer=l2_reg))(word_lstm)\n",
        "word_att = AttentionWithContext()(word_dense)\n",
        "wordEncoder = Model(word_input, word_att)\n",
        "\n",
        "sent_input = Input(shape=(max_senten_num, max_senten_len), dtype='float32')\n",
        "sent_encoder = TimeDistributed(wordEncoder)(sent_input)\n",
        "sent_lstm = Bidirectional(GRU(embeding_dim, return_sequences=True, kernel_regularizer=l2_reg))(sent_encoder)\n",
        "sent_dense = TimeDistributed(Dense(200, kernel_regularizer=l2_reg))(sent_lstm)\n",
        "sent_att = Dropout(0.2)(AttentionWithContext()(sent_dense))\n",
        "preds = Dense(2, activation='softmax')(sent_att)\n",
        "model = Model(sent_input, preds)\n",
        "\n",
        "# sentEncoder = Model(sent_input, sent_att)\n",
        "# preds = Dense(2, activation='sigmoid')(sent_att)\n",
        "# dense_cat = Dense(128, activation='relu')(sent_att)\n",
        "# dense_cat shape == feature.shape 1 dim will be diff and rest same. \n",
        "# feature_input = Input(shape=57, dtype='float64', name='text')\n",
        "# fea_encoder = TimeDistributed(sent_encoder)(text_input)\n",
        "\n",
        "# embedded_text = tf.keras.layers.Embedding(64, len(f_train))(text_input)\n",
        "# encoded_feature = tf.keras.layers.LSTM(64)(feature_input)\n",
        "#shape of feature vector\n",
        "# feature_input = Input(shape=(sample_feature_array.shape), dtype='float64')\n",
        "# feature_encoder = tf.keras.layers.TimeDistributed(sample_feature_array)(feature_input)\n",
        "\n",
        "# feature_encoder = TimeDistributed(sample_feature_array)(feature_input)\n",
        "# feature_lstm = Bidirectional(LSTM(embeding_dim, return_sequences=True, kernel_regularizer=l2_reg))(feature_encoder)\n",
        "# feature_dense = TimeDistributed(Dense(200, kernel_regularizer=l2_reg))(feature_lstm)\n",
        "# feature_att = Dropout(0.5)(AttentionWithContext()(feature_dense))\n",
        "# merged = tf.keras.layers.concatenate([encoded_feature, dense_cat],axis=-1)\n",
        "# merged = tf.keras.layers.Concatenate(axis=1)([feature_input, dense_cat])\n",
        "\n",
        "# preds = tf.keras.layers.Dense(2, activation='sigmoid')(dense_cat)\n",
        "# merged = tf.keras.layers.concatenate([dense_cat, feature_input])\n",
        "\n",
        "# preds = Dense(2, activation='sigmoid')(concatenated)\n",
        "\n",
        "# model = Model(sent_input, preds)\n",
        "# model = Model(preds, sent_input, text_input)\n",
        "# model.add(GlobalAveragePooling2D())\n"
      ],
      "metadata": {
        "colab": {
          "base_uri": "https://localhost:8080/"
        },
        "id": "eTdtECWZ41N_",
        "outputId": "7fc2cdfa-b210-4c06-b17d-d4a4cdf450e5"
      },
      "execution_count": null,
      "outputs": [
        {
          "output_type": "stream",
          "name": "stdout",
          "text": [
            "attention_with_context_W\n",
            "attention_with_context_1_W\n"
          ]
        }
      ]
    },
    {
      "cell_type": "code",
      "source": [
        "model.compile(loss='categorical_crossentropy',optimizer=tf.keras.optimizers.Adam(1e-3),metrics=['accuracy'])"
      ],
      "metadata": {
        "id": "d3dluKpHAeq-"
      },
      "execution_count": null,
      "outputs": []
    },
    {
      "cell_type": "code",
      "source": [
        "model.summary()"
      ],
      "metadata": {
        "colab": {
          "base_uri": "https://localhost:8080/"
        },
        "id": "iKTPlbry_t6u",
        "outputId": "ac78f88c-d33f-4563-ce5f-c32166268113"
      },
      "execution_count": null,
      "outputs": [
        {
          "output_type": "stream",
          "name": "stdout",
          "text": [
            "Model: \"model_1\"\n",
            "_________________________________________________________________\n",
            " Layer (type)                Output Shape              Param #   \n",
            "=================================================================\n",
            " input_2 (InputLayer)        [(None, 6, 40)]           0         \n",
            "                                                                 \n",
            " time_distributed_1 (TimeDis  (None, 6, 200)           2024540   \n",
            " tributed)                                                       \n",
            "                                                                 \n",
            " bidirectional_1 (Bidirectio  (None, 6, 256)           253440    \n",
            " nal)                                                            \n",
            "                                                                 \n",
            " time_distributed_2 (TimeDis  (None, 6, 200)           51400     \n",
            " tributed)                                                       \n",
            "                                                                 \n",
            " attention_with_context_1 (A  (None, 200)              40400     \n",
            " ttentionWithContext)                                            \n",
            "                                                                 \n",
            " dropout (Dropout)           (None, 200)               0         \n",
            "                                                                 \n",
            " dense_2 (Dense)             (None, 2)                 402       \n",
            "                                                                 \n",
            "=================================================================\n",
            "Total params: 2,370,182\n",
            "Trainable params: 614,082\n",
            "Non-trainable params: 1,756,100\n",
            "_________________________________________________________________\n"
          ]
        }
      ]
    },
    {
      "cell_type": "code",
      "source": [
        "earlyStopping = EarlyStopping(monitor='val_loss', patience=10, verbose=0, mode='min')\n",
        "mcp_save = ModelCheckpoint('.mdl_wts.hdf5', save_best_only=True, monitor='val_loss', mode='min')"
      ],
      "metadata": {
        "id": "0Brmua8v9SSN"
      },
      "execution_count": null,
      "outputs": []
    },
    {
      "cell_type": "code",
      "source": [
        "print(x_train.shape)"
      ],
      "metadata": {
        "id": "6u6c8oDC3VCT",
        "colab": {
          "base_uri": "https://localhost:8080/"
        },
        "outputId": "9f4e2f3f-2635-4869-df53-506afba697df"
      },
      "execution_count": null,
      "outputs": [
        {
          "output_type": "stream",
          "name": "stdout",
          "text": [
            "(250, 6, 40)\n"
          ]
        }
      ]
    },
    {
      "cell_type": "code",
      "source": [
        "start = time.time()\n",
        "berthist = model.fit(x_train, y_train, validation_data= (x_val, y_val), epochs=100, batch_size=64, verbose=1, callbacks=[earlyStopping, mcp_save])\n",
        "print(time.time()-start)"
      ],
      "metadata": {
        "colab": {
          "base_uri": "https://localhost:8080/"
        },
        "id": "cJQ4mHZY9Wlt",
        "outputId": "ed6d565d-26b5-4033-e3fa-3ac4e5e9f5bd"
      },
      "execution_count": null,
      "outputs": [
        {
          "output_type": "stream",
          "name": "stdout",
          "text": [
            "Epoch 1/100\n",
            "4/4 [==============================] - 17s 2s/step - loss: 0.7029 - accuracy: 0.5600 - val_loss: 0.6736 - val_accuracy: 0.6129\n",
            "Epoch 2/100\n",
            "4/4 [==============================] - 3s 749ms/step - loss: 0.6498 - accuracy: 0.6840 - val_loss: 0.6173 - val_accuracy: 0.6774\n",
            "Epoch 3/100\n",
            "4/4 [==============================] - 3s 745ms/step - loss: 0.5943 - accuracy: 0.7120 - val_loss: 0.5536 - val_accuracy: 0.7097\n",
            "Epoch 4/100\n",
            "4/4 [==============================] - 3s 740ms/step - loss: 0.4909 - accuracy: 0.7760 - val_loss: 0.4716 - val_accuracy: 0.8226\n",
            "Epoch 5/100\n",
            "4/4 [==============================] - 3s 711ms/step - loss: 0.4854 - accuracy: 0.7600 - val_loss: 0.5384 - val_accuracy: 0.7903\n",
            "Epoch 6/100\n",
            "4/4 [==============================] - 3s 708ms/step - loss: 0.4955 - accuracy: 0.7520 - val_loss: 0.6341 - val_accuracy: 0.6935\n",
            "Epoch 7/100\n",
            "4/4 [==============================] - 3s 716ms/step - loss: 0.4854 - accuracy: 0.7400 - val_loss: 0.4810 - val_accuracy: 0.8065\n",
            "Epoch 8/100\n",
            "4/4 [==============================] - 3s 694ms/step - loss: 0.4340 - accuracy: 0.7840 - val_loss: 0.4954 - val_accuracy: 0.8065\n",
            "Epoch 9/100\n",
            "4/4 [==============================] - 3s 932ms/step - loss: 0.4115 - accuracy: 0.8160 - val_loss: 0.6082 - val_accuracy: 0.7258\n",
            "Epoch 10/100\n",
            "4/4 [==============================] - 3s 701ms/step - loss: 0.3945 - accuracy: 0.8000 - val_loss: 0.4771 - val_accuracy: 0.8226\n",
            "Epoch 11/100\n",
            "4/4 [==============================] - 3s 701ms/step - loss: 0.3541 - accuracy: 0.8200 - val_loss: 0.5406 - val_accuracy: 0.8065\n",
            "Epoch 12/100\n",
            "4/4 [==============================] - 3s 914ms/step - loss: 0.3164 - accuracy: 0.8440 - val_loss: 0.5176 - val_accuracy: 0.8226\n",
            "Epoch 13/100\n",
            "4/4 [==============================] - 3s 736ms/step - loss: 0.2997 - accuracy: 0.8600 - val_loss: 0.4651 - val_accuracy: 0.8226\n",
            "Epoch 14/100\n",
            "4/4 [==============================] - 3s 697ms/step - loss: 0.2495 - accuracy: 0.8720 - val_loss: 0.6658 - val_accuracy: 0.7903\n",
            "Epoch 15/100\n",
            "4/4 [==============================] - 4s 972ms/step - loss: 0.2395 - accuracy: 0.8920 - val_loss: 0.5570 - val_accuracy: 0.8387\n",
            "Epoch 16/100\n",
            "4/4 [==============================] - 6s 1s/step - loss: 0.2029 - accuracy: 0.8960 - val_loss: 0.8483 - val_accuracy: 0.8065\n",
            "Epoch 17/100\n",
            "4/4 [==============================] - 3s 694ms/step - loss: 0.1438 - accuracy: 0.9320 - val_loss: 0.6233 - val_accuracy: 0.8387\n",
            "Epoch 18/100\n",
            "4/4 [==============================] - 3s 708ms/step - loss: 0.1361 - accuracy: 0.9280 - val_loss: 0.7957 - val_accuracy: 0.7903\n",
            "Epoch 19/100\n",
            "4/4 [==============================] - 3s 718ms/step - loss: 0.0909 - accuracy: 0.9640 - val_loss: 0.7107 - val_accuracy: 0.8065\n",
            "Epoch 20/100\n",
            "4/4 [==============================] - 3s 694ms/step - loss: 0.0593 - accuracy: 0.9680 - val_loss: 0.8588 - val_accuracy: 0.8226\n",
            "Epoch 21/100\n",
            "4/4 [==============================] - 3s 712ms/step - loss: 0.0411 - accuracy: 0.9800 - val_loss: 0.8122 - val_accuracy: 0.7903\n",
            "Epoch 22/100\n",
            "4/4 [==============================] - 3s 710ms/step - loss: 0.0273 - accuracy: 0.9840 - val_loss: 0.9805 - val_accuracy: 0.8065\n",
            "Epoch 23/100\n",
            "4/4 [==============================] - 3s 688ms/step - loss: 0.0255 - accuracy: 0.9880 - val_loss: 1.1363 - val_accuracy: 0.8065\n",
            "83.15433430671692\n"
          ]
        }
      ]
    },
    {
      "cell_type": "code",
      "source": [
        "file_name = \"/content/drive/MyDrive/fake_bert/HAN_model_finetune\""
      ],
      "metadata": {
        "id": "FNpV1wmG9zlp"
      },
      "execution_count": null,
      "outputs": []
    },
    {
      "cell_type": "code",
      "source": [
        "torch.save(model, file_name)"
      ],
      "metadata": {
        "id": "OvIGjJmi91u_",
        "colab": {
          "base_uri": "https://localhost:8080/"
        },
        "outputId": "e555e66f-cb1e-43ff-8c37-812538ba9e09"
      },
      "execution_count": null,
      "outputs": [
        {
          "output_type": "stream",
          "name": "stderr",
          "text": [
            "WARNING:absl:Found untraced functions such as lstm_cell_4_layer_call_fn, lstm_cell_4_layer_call_and_return_conditional_losses, lstm_cell_5_layer_call_fn, lstm_cell_5_layer_call_and_return_conditional_losses, lstm_cell_1_layer_call_fn while saving (showing 5 of 8). These functions will not be directly callable after loading.\n"
          ]
        }
      ]
    },
    {
      "cell_type": "code",
      "source": [
        "pickle.dump(model, open(\"/content/drive/MyDrive/fake_bert/HAN_model_finetune.pkl\", \"wb\"))"
      ],
      "metadata": {
        "colab": {
          "base_uri": "https://localhost:8080/"
        },
        "id": "T24M5a4cWgaI",
        "outputId": "76f1d287-1059-4986-bed9-dab41d197e3c"
      },
      "execution_count": null,
      "outputs": [
        {
          "output_type": "stream",
          "name": "stderr",
          "text": [
            "WARNING:absl:Found untraced functions such as lstm_cell_4_layer_call_fn, lstm_cell_4_layer_call_and_return_conditional_losses, lstm_cell_5_layer_call_fn, lstm_cell_5_layer_call_and_return_conditional_losses, lstm_cell_1_layer_call_fn while saving (showing 5 of 8). These functions will not be directly callable after loading.\n"
          ]
        }
      ]
    },
    {
      "cell_type": "code",
      "source": [
        "hanModel_pred = model.predict(x_val)\n",
        "hanLayerModel_y = np.argmax(hanModel_pred, axis = 1)\n",
        "hanLayerModel_y"
      ],
      "metadata": {
        "colab": {
          "base_uri": "https://localhost:8080/"
        },
        "id": "ieyew1Lx95CW",
        "outputId": "283197a9-1ee0-40be-b0a7-93ab36e877bd"
      },
      "execution_count": null,
      "outputs": [
        {
          "output_type": "stream",
          "name": "stdout",
          "text": [
            "2/2 [==============================] - 3s 147ms/step\n"
          ]
        },
        {
          "output_type": "execute_result",
          "data": {
            "text/plain": [
              "array([0, 1, 0, 0, 1, 0, 1, 1, 1, 1, 0, 1, 0, 1, 0, 0, 0, 0, 1, 0, 0, 0,\n",
              "       1, 1, 1, 0, 0, 0, 1, 1, 1, 1, 0, 1, 1, 1, 1, 0, 1, 1, 0, 1, 0, 0,\n",
              "       0, 0, 1, 0, 1, 1, 0, 1, 0, 0, 1, 0, 1, 1, 1, 1, 0, 0])"
            ]
          },
          "metadata": {},
          "execution_count": 22
        }
      ]
    },
    {
      "cell_type": "code",
      "source": [
        "y_val"
      ],
      "metadata": {
        "id": "xC537jmrbkxN",
        "colab": {
          "base_uri": "https://localhost:8080/",
          "height": 455
        },
        "outputId": "09e6e87b-7354-4050-d223-591f723b38dc"
      },
      "execution_count": null,
      "outputs": [
        {
          "output_type": "execute_result",
          "data": {
            "text/plain": [
              "                 0  1\n",
              "id                   \n",
              "politifact15371  1  0\n",
              "politifact13132  0  1\n",
              "politifact15187  1  0\n",
              "politifact14289  1  0\n",
              "politifact8152   0  1\n",
              "...             .. ..\n",
              "politifact7511   0  1\n",
              "politifact160    0  1\n",
              "politifact13443  0  1\n",
              "politifact14003  1  0\n",
              "politifact10903  0  1\n",
              "\n",
              "[62 rows x 2 columns]"
            ],
            "text/html": [
              "\n",
              "  <div id=\"df-885130aa-6a03-4e19-ba62-0589ddcf9cda\">\n",
              "    <div class=\"colab-df-container\">\n",
              "      <div>\n",
              "<style scoped>\n",
              "    .dataframe tbody tr th:only-of-type {\n",
              "        vertical-align: middle;\n",
              "    }\n",
              "\n",
              "    .dataframe tbody tr th {\n",
              "        vertical-align: top;\n",
              "    }\n",
              "\n",
              "    .dataframe thead th {\n",
              "        text-align: right;\n",
              "    }\n",
              "</style>\n",
              "<table border=\"1\" class=\"dataframe\">\n",
              "  <thead>\n",
              "    <tr style=\"text-align: right;\">\n",
              "      <th></th>\n",
              "      <th>0</th>\n",
              "      <th>1</th>\n",
              "    </tr>\n",
              "    <tr>\n",
              "      <th>id</th>\n",
              "      <th></th>\n",
              "      <th></th>\n",
              "    </tr>\n",
              "  </thead>\n",
              "  <tbody>\n",
              "    <tr>\n",
              "      <th>politifact15371</th>\n",
              "      <td>1</td>\n",
              "      <td>0</td>\n",
              "    </tr>\n",
              "    <tr>\n",
              "      <th>politifact13132</th>\n",
              "      <td>0</td>\n",
              "      <td>1</td>\n",
              "    </tr>\n",
              "    <tr>\n",
              "      <th>politifact15187</th>\n",
              "      <td>1</td>\n",
              "      <td>0</td>\n",
              "    </tr>\n",
              "    <tr>\n",
              "      <th>politifact14289</th>\n",
              "      <td>1</td>\n",
              "      <td>0</td>\n",
              "    </tr>\n",
              "    <tr>\n",
              "      <th>politifact8152</th>\n",
              "      <td>0</td>\n",
              "      <td>1</td>\n",
              "    </tr>\n",
              "    <tr>\n",
              "      <th>...</th>\n",
              "      <td>...</td>\n",
              "      <td>...</td>\n",
              "    </tr>\n",
              "    <tr>\n",
              "      <th>politifact7511</th>\n",
              "      <td>0</td>\n",
              "      <td>1</td>\n",
              "    </tr>\n",
              "    <tr>\n",
              "      <th>politifact160</th>\n",
              "      <td>0</td>\n",
              "      <td>1</td>\n",
              "    </tr>\n",
              "    <tr>\n",
              "      <th>politifact13443</th>\n",
              "      <td>0</td>\n",
              "      <td>1</td>\n",
              "    </tr>\n",
              "    <tr>\n",
              "      <th>politifact14003</th>\n",
              "      <td>1</td>\n",
              "      <td>0</td>\n",
              "    </tr>\n",
              "    <tr>\n",
              "      <th>politifact10903</th>\n",
              "      <td>0</td>\n",
              "      <td>1</td>\n",
              "    </tr>\n",
              "  </tbody>\n",
              "</table>\n",
              "<p>62 rows × 2 columns</p>\n",
              "</div>\n",
              "      <button class=\"colab-df-convert\" onclick=\"convertToInteractive('df-885130aa-6a03-4e19-ba62-0589ddcf9cda')\"\n",
              "              title=\"Convert this dataframe to an interactive table.\"\n",
              "              style=\"display:none;\">\n",
              "        \n",
              "  <svg xmlns=\"http://www.w3.org/2000/svg\" height=\"24px\"viewBox=\"0 0 24 24\"\n",
              "       width=\"24px\">\n",
              "    <path d=\"M0 0h24v24H0V0z\" fill=\"none\"/>\n",
              "    <path d=\"M18.56 5.44l.94 2.06.94-2.06 2.06-.94-2.06-.94-.94-2.06-.94 2.06-2.06.94zm-11 1L8.5 8.5l.94-2.06 2.06-.94-2.06-.94L8.5 2.5l-.94 2.06-2.06.94zm10 10l.94 2.06.94-2.06 2.06-.94-2.06-.94-.94-2.06-.94 2.06-2.06.94z\"/><path d=\"M17.41 7.96l-1.37-1.37c-.4-.4-.92-.59-1.43-.59-.52 0-1.04.2-1.43.59L10.3 9.45l-7.72 7.72c-.78.78-.78 2.05 0 2.83L4 21.41c.39.39.9.59 1.41.59.51 0 1.02-.2 1.41-.59l7.78-7.78 2.81-2.81c.8-.78.8-2.07 0-2.86zM5.41 20L4 18.59l7.72-7.72 1.47 1.35L5.41 20z\"/>\n",
              "  </svg>\n",
              "      </button>\n",
              "      \n",
              "  <style>\n",
              "    .colab-df-container {\n",
              "      display:flex;\n",
              "      flex-wrap:wrap;\n",
              "      gap: 12px;\n",
              "    }\n",
              "\n",
              "    .colab-df-convert {\n",
              "      background-color: #E8F0FE;\n",
              "      border: none;\n",
              "      border-radius: 50%;\n",
              "      cursor: pointer;\n",
              "      display: none;\n",
              "      fill: #1967D2;\n",
              "      height: 32px;\n",
              "      padding: 0 0 0 0;\n",
              "      width: 32px;\n",
              "    }\n",
              "\n",
              "    .colab-df-convert:hover {\n",
              "      background-color: #E2EBFA;\n",
              "      box-shadow: 0px 1px 2px rgba(60, 64, 67, 0.3), 0px 1px 3px 1px rgba(60, 64, 67, 0.15);\n",
              "      fill: #174EA6;\n",
              "    }\n",
              "\n",
              "    [theme=dark] .colab-df-convert {\n",
              "      background-color: #3B4455;\n",
              "      fill: #D2E3FC;\n",
              "    }\n",
              "\n",
              "    [theme=dark] .colab-df-convert:hover {\n",
              "      background-color: #434B5C;\n",
              "      box-shadow: 0px 1px 3px 1px rgba(0, 0, 0, 0.15);\n",
              "      filter: drop-shadow(0px 1px 2px rgba(0, 0, 0, 0.3));\n",
              "      fill: #FFFFFF;\n",
              "    }\n",
              "  </style>\n",
              "\n",
              "      <script>\n",
              "        const buttonEl =\n",
              "          document.querySelector('#df-885130aa-6a03-4e19-ba62-0589ddcf9cda button.colab-df-convert');\n",
              "        buttonEl.style.display =\n",
              "          google.colab.kernel.accessAllowed ? 'block' : 'none';\n",
              "\n",
              "        async function convertToInteractive(key) {\n",
              "          const element = document.querySelector('#df-885130aa-6a03-4e19-ba62-0589ddcf9cda');\n",
              "          const dataTable =\n",
              "            await google.colab.kernel.invokeFunction('convertToInteractive',\n",
              "                                                     [key], {});\n",
              "          if (!dataTable) return;\n",
              "\n",
              "          const docLinkHtml = 'Like what you see? Visit the ' +\n",
              "            '<a target=\"_blank\" href=https://colab.research.google.com/notebooks/data_table.ipynb>data table notebook</a>'\n",
              "            + ' to learn more about interactive tables.';\n",
              "          element.innerHTML = '';\n",
              "          dataTable['output_type'] = 'display_data';\n",
              "          await google.colab.output.renderOutput(dataTable, element);\n",
              "          const docLink = document.createElement('div');\n",
              "          docLink.innerHTML = docLinkHtml;\n",
              "          element.appendChild(docLink);\n",
              "        }\n",
              "      </script>\n",
              "    </div>\n",
              "  </div>\n",
              "  "
            ]
          },
          "metadata": {},
          "execution_count": 36
        }
      ]
    },
    {
      "cell_type": "code",
      "source": [
        "y_val_zero = y_val[1].tolist()\n",
        "y_val_zero"
      ],
      "metadata": {
        "id": "NUiTQoWzOy4i"
      },
      "execution_count": null,
      "outputs": []
    },
    {
      "cell_type": "code",
      "source": [
        "print('Accuracy:', accuracy_score(hanLayerModel_y, y_val_zero))\n",
        "print('F1 score:', f1_score(np.array(y_val_zero), hanLayerModel_y))\n",
        "print('Recall:', recall_score(np.array(y_val_zero), hanLayerModel_y))\n",
        "print('Precision:', precision_score(np.array(y_val_zero), hanLayerModel_y))\n",
        "print('ROC_AUC Score:', roc_auc_score(np.array(y_val_zero), hanLayerModel_y))\n",
        "\n",
        "print(classification_report(np.array(y_val_zero), hanLayerModel_y))"
      ],
      "metadata": {
        "colab": {
          "base_uri": "https://localhost:8080/"
        },
        "id": "OkY6U1nP99ZS",
        "outputId": "ff7c2a5c-61a9-4c51-9915-7a2ebb032698"
      },
      "execution_count": null,
      "outputs": [
        {
          "output_type": "stream",
          "name": "stdout",
          "text": [
            "Accuracy: 0.8064516129032258\n",
            "F1 score: 0.8125\n",
            "Recall: 0.8125\n",
            "Precision: 0.8125\n",
            "ROC_AUC Score: 0.8062500000000001\n",
            "              precision    recall  f1-score   support\n",
            "\n",
            "           0       0.80      0.80      0.80        30\n",
            "           1       0.81      0.81      0.81        32\n",
            "\n",
            "    accuracy                           0.81        62\n",
            "   macro avg       0.81      0.81      0.81        62\n",
            "weighted avg       0.81      0.81      0.81        62\n",
            "\n"
          ]
        }
      ]
    },
    {
      "cell_type": "code",
      "source": [
        "hanLayerModel_y"
      ],
      "metadata": {
        "id": "elvBAVSnOr7B",
        "colab": {
          "base_uri": "https://localhost:8080/"
        },
        "outputId": "4246478c-a36b-4562-ca1d-9fd44eedcfd6"
      },
      "execution_count": null,
      "outputs": [
        {
          "output_type": "execute_result",
          "data": {
            "text/plain": [
              "array([1, 1, 1, 0, 1, 1, 1, 1, 1, 1, 1, 1, 0, 1, 1, 0, 0, 0, 1, 0, 0, 1,\n",
              "       1, 0, 1, 0, 0, 1, 0, 1, 1, 1, 0, 1, 1, 1, 1, 0, 1, 1, 1, 1, 0, 1,\n",
              "       0, 1, 1, 1, 1, 1, 1, 1, 0, 1, 1, 1, 1, 1, 0, 1, 0, 1])"
            ]
          },
          "metadata": {},
          "execution_count": 39
        }
      ]
    }
  ]
}