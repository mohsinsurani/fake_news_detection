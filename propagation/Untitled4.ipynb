{
 "cells": [
  {
   "cell_type": "code",
   "execution_count": 2,
   "id": "c1ee6846",
   "metadata": {},
   "outputs": [],
   "source": [
    "import pandas as pd\n",
    "import numpy as np\n",
    "import pickle"
   ]
  },
  {
   "cell_type": "code",
   "execution_count": 3,
   "id": "3b657f73",
   "metadata": {},
   "outputs": [],
   "source": [
    "df = pickle.load(open(\"/Users/admin/PycharmProjects/fake_news_detection/fake_news_detection/csvs/gossipcop_global_feature.pkl\", \"rb\"))\n"
   ]
  },
  {
   "cell_type": "code",
   "execution_count": 14,
   "id": "ae763e3a",
   "metadata": {},
   "outputs": [
    {
     "data": {
      "text/plain": [
       "id\n",
       "gossipcop-3052185503    0.0\n",
       "gossipcop-871983        0.0\n",
       "gossipcop-931958        0.0\n",
       "gossipcop-567879122     0.0\n",
       "gossipcop-324494433     0.0\n",
       "                       ... \n",
       "gossipcop-174999294     0.0\n",
       "gossipcop-950069        0.0\n",
       "gossipcop-9084550702    0.0\n",
       "gossipcop-918001        0.0\n",
       "gossipcop-880991        0.0\n",
       "Name: S8, Length: 6042, dtype: float64"
      ]
     },
     "execution_count": 14,
     "metadata": {},
     "output_type": "execute_result"
    }
   ],
   "source": [
    "df[\"S8\"]"
   ]
  },
  {
   "cell_type": "code",
   "execution_count": 15,
   "id": "5203ebfc",
   "metadata": {},
   "outputs": [],
   "source": [
    "df.drop(['S8', 'S9'], axis=1, inplace=True)"
   ]
  },
  {
   "cell_type": "code",
   "execution_count": 16,
   "id": "fbfbe663",
   "metadata": {},
   "outputs": [],
   "source": [
    "pickle.dump(df, open(\"/Users/admin/PycharmProjects/fake_news_detection/fake_news_detection/csvs/gossipcop_global_feature.pkl\", \"wb\"))"
   ]
  }
 ],
 "metadata": {
  "kernelspec": {
   "display_name": "Python 3 (ipykernel)",
   "language": "python",
   "name": "python3"
  },
  "language_info": {
   "codemirror_mode": {
    "name": "ipython",
    "version": 3
   },
   "file_extension": ".py",
   "mimetype": "text/x-python",
   "name": "python",
   "nbconvert_exporter": "python",
   "pygments_lexer": "ipython3",
   "version": "3.7.13"
  }
 },
 "nbformat": 4,
 "nbformat_minor": 5
}
