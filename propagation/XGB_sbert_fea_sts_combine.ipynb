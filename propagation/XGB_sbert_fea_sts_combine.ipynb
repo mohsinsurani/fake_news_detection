{
  "nbformat": 4,
  "nbformat_minor": 0,
  "metadata": {
    "colab": {
      "provenance": []
    },
    "kernelspec": {
      "name": "python3",
      "display_name": "Python 3"
    },
    "language_info": {
      "name": "python"
    }
  },
  "cells": [
    {
      "cell_type": "code",
      "execution_count": null,
      "metadata": {
        "id": "4ii-N6HOgRd7"
      },
      "outputs": [],
      "source": [
        "import pandas as pd\n",
        "import numpy as np\n",
        "import pickle\n",
        "import sys\n",
        "import sklearn\n",
        "from sklearn import preprocessing\n",
        "from sklearn.model_selection import train_test_split\n",
        "import tensorflow as tf\n",
        "import keras\n",
        "from keras import Sequential, regularizers \n",
        "\n",
        "from keras.layers import Embedding, LSTM, Dense\n",
        "from keras import losses\n",
        "from keras.layers import Dense\n",
        "from keras.layers import Flatten, InputLayer\n",
        "\n",
        "import time\n",
        "from keras.callbacks import EarlyStopping, ModelCheckpoint\n",
        "import torch\n",
        "from sklearn.metrics import precision_score, \\\n",
        "    recall_score, confusion_matrix, classification_report, \\\n",
        "    accuracy_score, f1_score, roc_auc_score\n",
        "from sklearn.metrics import precision_recall_curve, auc\n",
        "from sklearn import metrics\n",
        "import plotly.express as px"
      ]
    },
    {
      "cell_type": "code",
      "source": [
        "path_df = \"/content/drive/MyDrive/fake_bert/politifact_global_feature.pkl\""
      ],
      "metadata": {
        "id": "Zh0hM9nohJOY"
      },
      "execution_count": null,
      "outputs": []
    },
    {
      "cell_type": "code",
      "source": [
        "df = pickle.load(open(path_df, \"rb\"))"
      ],
      "metadata": {
        "id": "8KFZoYVUjZO_"
      },
      "execution_count": null,
      "outputs": []
    },
    {
      "cell_type": "code",
      "source": [
        "fea_st_col = df.iloc[:, 10:10 + 14 + 13].columns\n",
        "fea_sen_col = df.iloc[:, 10 + 14 + 13 + 6:10 + 14 + 13 + 6 + 19].columns\n",
        "union_cols = fea_st_col.union(fea_sen_col)\n",
        "fea_sts_df = df[union_cols]"
      ],
      "metadata": {
        "id": "rZj5jUTNvfTQ"
      },
      "execution_count": null,
      "outputs": []
    },
    {
      "cell_type": "code",
      "source": [
        "x_train, x_test, y_train, y_test, f_train, f_test = train_test_split(df['comp_text'], df['target'], fea_sts_df, test_size= .20, random_state= 111, shuffle=False )"
      ],
      "metadata": {
        "id": "9AYPnePVxCnr"
      },
      "execution_count": null,
      "outputs": []
    },
    {
      "cell_type": "code",
      "source": [
        "embed_train, embed_test = pickle.load(open(\"/content/drive/MyDrive/fake_bert/sbert-embed.pkl\", \"rb\"))"
      ],
      "metadata": {
        "id": "7KjXSXaV_Gq4"
      },
      "execution_count": null,
      "outputs": []
    },
    {
      "cell_type": "code",
      "source": [
        "scaler = preprocessing.MinMaxScaler()\n",
        "f_train_transform = scaler.fit_transform(f_train)\n",
        "f_test_transform = scaler.fit_transform(f_test)"
      ],
      "metadata": {
        "id": "bB3SN-LqNjIP"
      },
      "execution_count": null,
      "outputs": []
    },
    {
      "cell_type": "code",
      "source": [
        "merged_train_arr = np.hstack([embed_train, f_train_transform])"
      ],
      "metadata": {
        "id": "ny22vVmBI9sc"
      },
      "execution_count": null,
      "outputs": []
    },
    {
      "cell_type": "code",
      "source": [
        "merged_test_arr = np.hstack([embed_test, f_test_transform])"
      ],
      "metadata": {
        "id": "uakVnGo5JKG6"
      },
      "execution_count": null,
      "outputs": []
    },
    {
      "cell_type": "code",
      "source": [
        "from xgboost import XGBClassifier\n",
        "from sklearn.model_selection import GridSearchCV"
      ],
      "metadata": {
        "id": "p3Czr-5l2ia6"
      },
      "execution_count": null,
      "outputs": []
    },
    {
      "cell_type": "code",
      "source": [
        "cv=5\n",
        "gs_xgb = XGBClassifier()\n",
        "\n",
        "param_grid = [\n",
        "    {'booster':['gbtree', 'dart'], 'n_estimators':[100, 150, 200, 250], 'max_depth':[5, 6, 7]}\n",
        "]\n",
        "grid = GridSearchCV(gs_xgb, param_grid, refit=True, cv=cv, verbose=3, scoring='roc_auc')\n",
        "            "
      ],
      "metadata": {
        "id": "RXgRy5PC2mLo"
      },
      "execution_count": null,
      "outputs": []
    },
    {
      "cell_type": "code",
      "source": [
        "grid.fit(merged_train_arr, y_train)"
      ],
      "metadata": {
        "id": "r9A1FB0dIwqw",
        "outputId": "08cb8e27-e98c-4a19-a94d-adbe1f4c1010",
        "colab": {
          "base_uri": "https://localhost:8080/"
        }
      },
      "execution_count": null,
      "outputs": [
        {
          "output_type": "stream",
          "name": "stdout",
          "text": [
            "Fitting 5 folds for each of 24 candidates, totalling 120 fits\n",
            "[CV 1/5] END booster=gbtree, max_depth=5, n_estimators=100;, score=0.838 total time=   1.1s\n",
            "[CV 2/5] END booster=gbtree, max_depth=5, n_estimators=100;, score=0.874 total time=   1.1s\n",
            "[CV 3/5] END booster=gbtree, max_depth=5, n_estimators=100;, score=0.837 total time=   1.1s\n",
            "[CV 4/5] END booster=gbtree, max_depth=5, n_estimators=100;, score=0.906 total time=   1.1s\n",
            "[CV 5/5] END booster=gbtree, max_depth=5, n_estimators=100;, score=0.935 total time=   0.8s\n",
            "[CV 1/5] END booster=gbtree, max_depth=5, n_estimators=150;, score=0.840 total time=   1.2s\n",
            "[CV 2/5] END booster=gbtree, max_depth=5, n_estimators=150;, score=0.878 total time=   1.1s\n",
            "[CV 3/5] END booster=gbtree, max_depth=5, n_estimators=150;, score=0.850 total time=   0.8s\n",
            "[CV 4/5] END booster=gbtree, max_depth=5, n_estimators=150;, score=0.904 total time=   0.9s\n",
            "[CV 5/5] END booster=gbtree, max_depth=5, n_estimators=150;, score=0.942 total time=   1.7s\n",
            "[CV 1/5] END booster=gbtree, max_depth=5, n_estimators=200;, score=0.838 total time=   1.9s\n",
            "[CV 2/5] END booster=gbtree, max_depth=5, n_estimators=200;, score=0.874 total time=   1.7s\n",
            "[CV 3/5] END booster=gbtree, max_depth=5, n_estimators=200;, score=0.850 total time=   1.5s\n",
            "[CV 4/5] END booster=gbtree, max_depth=5, n_estimators=200;, score=0.898 total time=   1.0s\n",
            "[CV 5/5] END booster=gbtree, max_depth=5, n_estimators=200;, score=0.943 total time=   1.0s\n",
            "[CV 1/5] END booster=gbtree, max_depth=5, n_estimators=250;, score=0.843 total time=   1.1s\n",
            "[CV 2/5] END booster=gbtree, max_depth=5, n_estimators=250;, score=0.880 total time=   1.5s\n",
            "[CV 3/5] END booster=gbtree, max_depth=5, n_estimators=250;, score=0.853 total time=   1.1s\n",
            "[CV 4/5] END booster=gbtree, max_depth=5, n_estimators=250;, score=0.899 total time=   1.1s\n",
            "[CV 5/5] END booster=gbtree, max_depth=5, n_estimators=250;, score=0.938 total time=   1.1s\n",
            "[CV 1/5] END booster=gbtree, max_depth=6, n_estimators=100;, score=0.827 total time=   0.7s\n",
            "[CV 2/5] END booster=gbtree, max_depth=6, n_estimators=100;, score=0.888 total time=   0.7s\n",
            "[CV 3/5] END booster=gbtree, max_depth=6, n_estimators=100;, score=0.861 total time=   0.7s\n",
            "[CV 4/5] END booster=gbtree, max_depth=6, n_estimators=100;, score=0.906 total time=   0.7s\n",
            "[CV 5/5] END booster=gbtree, max_depth=6, n_estimators=100;, score=0.935 total time=   0.7s\n",
            "[CV 1/5] END booster=gbtree, max_depth=6, n_estimators=150;, score=0.840 total time=   0.8s\n",
            "[CV 2/5] END booster=gbtree, max_depth=6, n_estimators=150;, score=0.888 total time=   0.8s\n",
            "[CV 3/5] END booster=gbtree, max_depth=6, n_estimators=150;, score=0.869 total time=   0.8s\n",
            "[CV 4/5] END booster=gbtree, max_depth=6, n_estimators=150;, score=0.899 total time=   0.8s\n",
            "[CV 5/5] END booster=gbtree, max_depth=6, n_estimators=150;, score=0.937 total time=   0.9s\n",
            "[CV 1/5] END booster=gbtree, max_depth=6, n_estimators=200;, score=0.848 total time=   1.0s\n",
            "[CV 2/5] END booster=gbtree, max_depth=6, n_estimators=200;, score=0.890 total time=   1.0s\n",
            "[CV 3/5] END booster=gbtree, max_depth=6, n_estimators=200;, score=0.869 total time=   1.0s\n",
            "[CV 4/5] END booster=gbtree, max_depth=6, n_estimators=200;, score=0.896 total time=   1.0s\n",
            "[CV 5/5] END booster=gbtree, max_depth=6, n_estimators=200;, score=0.932 total time=   1.0s\n",
            "[CV 1/5] END booster=gbtree, max_depth=6, n_estimators=250;, score=0.853 total time=   1.1s\n",
            "[CV 2/5] END booster=gbtree, max_depth=6, n_estimators=250;, score=0.891 total time=   1.1s\n",
            "[CV 3/5] END booster=gbtree, max_depth=6, n_estimators=250;, score=0.874 total time=   1.0s\n",
            "[CV 4/5] END booster=gbtree, max_depth=6, n_estimators=250;, score=0.894 total time=   1.1s\n",
            "[CV 5/5] END booster=gbtree, max_depth=6, n_estimators=250;, score=0.932 total time=   1.2s\n",
            "[CV 1/5] END booster=gbtree, max_depth=7, n_estimators=100;, score=0.843 total time=   0.7s\n",
            "[CV 2/5] END booster=gbtree, max_depth=7, n_estimators=100;, score=0.886 total time=   0.7s\n",
            "[CV 3/5] END booster=gbtree, max_depth=7, n_estimators=100;, score=0.851 total time=   0.7s\n",
            "[CV 4/5] END booster=gbtree, max_depth=7, n_estimators=100;, score=0.874 total time=   0.7s\n",
            "[CV 5/5] END booster=gbtree, max_depth=7, n_estimators=100;, score=0.928 total time=   0.7s\n",
            "[CV 1/5] END booster=gbtree, max_depth=7, n_estimators=150;, score=0.846 total time=   0.9s\n",
            "[CV 2/5] END booster=gbtree, max_depth=7, n_estimators=150;, score=0.894 total time=   0.9s\n",
            "[CV 3/5] END booster=gbtree, max_depth=7, n_estimators=150;, score=0.850 total time=   0.9s\n",
            "[CV 4/5] END booster=gbtree, max_depth=7, n_estimators=150;, score=0.875 total time=   0.9s\n",
            "[CV 5/5] END booster=gbtree, max_depth=7, n_estimators=150;, score=0.930 total time=   0.9s\n",
            "[CV 1/5] END booster=gbtree, max_depth=7, n_estimators=200;, score=0.853 total time=   1.0s\n",
            "[CV 2/5] END booster=gbtree, max_depth=7, n_estimators=200;, score=0.896 total time=   1.0s\n",
            "[CV 3/5] END booster=gbtree, max_depth=7, n_estimators=200;, score=0.846 total time=   1.0s\n",
            "[CV 4/5] END booster=gbtree, max_depth=7, n_estimators=200;, score=0.869 total time=   1.0s\n",
            "[CV 5/5] END booster=gbtree, max_depth=7, n_estimators=200;, score=0.928 total time=   1.0s\n",
            "[CV 1/5] END booster=gbtree, max_depth=7, n_estimators=250;, score=0.854 total time=   1.1s\n",
            "[CV 2/5] END booster=gbtree, max_depth=7, n_estimators=250;, score=0.899 total time=   1.1s\n",
            "[CV 3/5] END booster=gbtree, max_depth=7, n_estimators=250;, score=0.850 total time=   1.1s\n",
            "[CV 4/5] END booster=gbtree, max_depth=7, n_estimators=250;, score=0.875 total time=   1.1s\n",
            "[CV 5/5] END booster=gbtree, max_depth=7, n_estimators=250;, score=0.927 total time=   1.1s\n",
            "[CV 1/5] END booster=dart, max_depth=5, n_estimators=100;, score=0.838 total time=   0.7s\n",
            "[CV 2/5] END booster=dart, max_depth=5, n_estimators=100;, score=0.874 total time=   0.7s\n",
            "[CV 3/5] END booster=dart, max_depth=5, n_estimators=100;, score=0.837 total time=   0.7s\n",
            "[CV 4/5] END booster=dart, max_depth=5, n_estimators=100;, score=0.906 total time=   0.7s\n",
            "[CV 5/5] END booster=dart, max_depth=5, n_estimators=100;, score=0.935 total time=   0.7s\n",
            "[CV 1/5] END booster=dart, max_depth=5, n_estimators=150;, score=0.840 total time=   0.9s\n",
            "[CV 2/5] END booster=dart, max_depth=5, n_estimators=150;, score=0.878 total time=   0.9s\n",
            "[CV 3/5] END booster=dart, max_depth=5, n_estimators=150;, score=0.850 total time=   0.9s\n",
            "[CV 4/5] END booster=dart, max_depth=5, n_estimators=150;, score=0.904 total time=   0.9s\n",
            "[CV 5/5] END booster=dart, max_depth=5, n_estimators=150;, score=0.942 total time=   0.9s\n",
            "[CV 1/5] END booster=dart, max_depth=5, n_estimators=200;, score=0.838 total time=   1.1s\n",
            "[CV 2/5] END booster=dart, max_depth=5, n_estimators=200;, score=0.874 total time=   1.2s\n",
            "[CV 3/5] END booster=dart, max_depth=5, n_estimators=200;, score=0.850 total time=   1.1s\n",
            "[CV 4/5] END booster=dart, max_depth=5, n_estimators=200;, score=0.898 total time=   1.2s\n",
            "[CV 5/5] END booster=dart, max_depth=5, n_estimators=200;, score=0.943 total time=   1.2s\n",
            "[CV 1/5] END booster=dart, max_depth=5, n_estimators=250;, score=0.843 total time=   1.3s\n",
            "[CV 2/5] END booster=dart, max_depth=5, n_estimators=250;, score=0.880 total time=   1.3s\n",
            "[CV 3/5] END booster=dart, max_depth=5, n_estimators=250;, score=0.853 total time=   1.3s\n",
            "[CV 4/5] END booster=dart, max_depth=5, n_estimators=250;, score=0.899 total time=   1.3s\n",
            "[CV 5/5] END booster=dart, max_depth=5, n_estimators=250;, score=0.938 total time=   1.4s\n",
            "[CV 1/5] END booster=dart, max_depth=6, n_estimators=100;, score=0.827 total time=   0.7s\n",
            "[CV 2/5] END booster=dart, max_depth=6, n_estimators=100;, score=0.888 total time=   0.8s\n",
            "[CV 3/5] END booster=dart, max_depth=6, n_estimators=100;, score=0.861 total time=   0.7s\n",
            "[CV 4/5] END booster=dart, max_depth=6, n_estimators=100;, score=0.906 total time=   0.8s\n",
            "[CV 5/5] END booster=dart, max_depth=6, n_estimators=100;, score=0.935 total time=   0.8s\n",
            "[CV 1/5] END booster=dart, max_depth=6, n_estimators=150;, score=0.840 total time=   0.9s\n",
            "[CV 2/5] END booster=dart, max_depth=6, n_estimators=150;, score=0.888 total time=   1.0s\n",
            "[CV 3/5] END booster=dart, max_depth=6, n_estimators=150;, score=0.869 total time=   1.0s\n",
            "[CV 4/5] END booster=dart, max_depth=6, n_estimators=150;, score=0.899 total time=   1.0s\n",
            "[CV 5/5] END booster=dart, max_depth=6, n_estimators=150;, score=0.937 total time=   1.0s\n",
            "[CV 1/5] END booster=dart, max_depth=6, n_estimators=200;, score=0.848 total time=   1.1s\n",
            "[CV 2/5] END booster=dart, max_depth=6, n_estimators=200;, score=0.890 total time=   1.2s\n",
            "[CV 3/5] END booster=dart, max_depth=6, n_estimators=200;, score=0.869 total time=   1.2s\n",
            "[CV 4/5] END booster=dart, max_depth=6, n_estimators=200;, score=0.896 total time=   1.2s\n",
            "[CV 5/5] END booster=dart, max_depth=6, n_estimators=200;, score=0.932 total time=   1.2s\n",
            "[CV 1/5] END booster=dart, max_depth=6, n_estimators=250;, score=0.853 total time=   1.3s\n",
            "[CV 2/5] END booster=dart, max_depth=6, n_estimators=250;, score=0.891 total time=   1.3s\n",
            "[CV 3/5] END booster=dart, max_depth=6, n_estimators=250;, score=0.874 total time=   1.3s\n",
            "[CV 4/5] END booster=dart, max_depth=6, n_estimators=250;, score=0.894 total time=   1.4s\n",
            "[CV 5/5] END booster=dart, max_depth=6, n_estimators=250;, score=0.932 total time=   1.8s\n",
            "[CV 1/5] END booster=dart, max_depth=7, n_estimators=100;, score=0.843 total time=   1.1s\n",
            "[CV 2/5] END booster=dart, max_depth=7, n_estimators=100;, score=0.886 total time=   0.8s\n",
            "[CV 3/5] END booster=dart, max_depth=7, n_estimators=100;, score=0.851 total time=   0.8s\n",
            "[CV 4/5] END booster=dart, max_depth=7, n_estimators=100;, score=0.874 total time=   0.8s\n",
            "[CV 5/5] END booster=dart, max_depth=7, n_estimators=100;, score=0.928 total time=   0.8s\n",
            "[CV 1/5] END booster=dart, max_depth=7, n_estimators=150;, score=0.846 total time=   0.9s\n",
            "[CV 2/5] END booster=dart, max_depth=7, n_estimators=150;, score=0.894 total time=   0.9s\n",
            "[CV 3/5] END booster=dart, max_depth=7, n_estimators=150;, score=0.850 total time=   1.0s\n",
            "[CV 4/5] END booster=dart, max_depth=7, n_estimators=150;, score=0.875 total time=   1.5s\n",
            "[CV 5/5] END booster=dart, max_depth=7, n_estimators=150;, score=0.930 total time=   1.2s\n",
            "[CV 1/5] END booster=dart, max_depth=7, n_estimators=200;, score=0.853 total time=   1.2s\n",
            "[CV 2/5] END booster=dart, max_depth=7, n_estimators=200;, score=0.896 total time=   1.1s\n",
            "[CV 3/5] END booster=dart, max_depth=7, n_estimators=200;, score=0.846 total time=   1.1s\n",
            "[CV 4/5] END booster=dart, max_depth=7, n_estimators=200;, score=0.869 total time=   1.1s\n",
            "[CV 5/5] END booster=dart, max_depth=7, n_estimators=200;, score=0.928 total time=   1.2s\n",
            "[CV 1/5] END booster=dart, max_depth=7, n_estimators=250;, score=0.854 total time=   1.3s\n",
            "[CV 2/5] END booster=dart, max_depth=7, n_estimators=250;, score=0.899 total time=   1.3s\n",
            "[CV 3/5] END booster=dart, max_depth=7, n_estimators=250;, score=0.850 total time=   1.3s\n",
            "[CV 4/5] END booster=dart, max_depth=7, n_estimators=250;, score=0.875 total time=   1.3s\n",
            "[CV 5/5] END booster=dart, max_depth=7, n_estimators=250;, score=0.927 total time=   1.4s\n"
          ]
        },
        {
          "output_type": "execute_result",
          "data": {
            "text/plain": [
              "GridSearchCV(cv=5, estimator=XGBClassifier(),\n",
              "             param_grid=[{'booster': ['gbtree', 'dart'], 'max_depth': [5, 6, 7],\n",
              "                          'n_estimators': [100, 150, 200, 250]}],\n",
              "             scoring='roc_auc', verbose=3)"
            ]
          },
          "metadata": {},
          "execution_count": 12
        }
      ]
    },
    {
      "cell_type": "code",
      "source": [
        "predicted_output = grid.predict(merged_test_arr)"
      ],
      "metadata": {
        "id": "N2byGWxSJEyX"
      },
      "execution_count": null,
      "outputs": []
    },
    {
      "cell_type": "code",
      "source": [
        "pickle.dump(grid, open(\"/content/drive/MyDrive/fake_bert/grid_feasts.pkl\", \"wb\"))"
      ],
      "metadata": {
        "id": "6Qm6_ABUH0sZ"
      },
      "execution_count": null,
      "outputs": []
    },
    {
      "cell_type": "code",
      "source": [
        "print(grid.best_params_)"
      ],
      "metadata": {
        "id": "OUz_bCWWYO-R",
        "outputId": "651e8d8c-5d17-4013-a4b8-d36a3fb7fb67",
        "colab": {
          "base_uri": "https://localhost:8080/"
        }
      },
      "execution_count": null,
      "outputs": [
        {
          "output_type": "stream",
          "name": "stdout",
          "text": [
            "{'booster': 'gbtree', 'max_depth': 6, 'n_estimators': 250}\n"
          ]
        }
      ]
    },
    {
      "cell_type": "code",
      "source": [
        "print('Accuracy:', accuracy_score(predicted_output, y_test))\n",
        "print('F1 score:', f1_score(y_test, predicted_output))\n",
        "print('Recall:', recall_score(y_test, predicted_output))\n",
        "print('Precision:', precision_score(y_test, predicted_output))\n",
        "print('ROC_AUC Score:', roc_auc_score(y_test, predicted_output))\n",
        "print(classification_report(y_test, predicted_output))"
      ],
      "metadata": {
        "colab": {
          "base_uri": "https://localhost:8080/"
        },
        "id": "eDumdF5BEC6R",
        "outputId": "1ee87f7b-945a-43cc-e487-2f818368c6b2"
      },
      "execution_count": null,
      "outputs": [
        {
          "output_type": "stream",
          "name": "stdout",
          "text": [
            "Accuracy: 0.873015873015873\n",
            "F1 score: 0.875\n",
            "Recall: 0.875\n",
            "Precision: 0.875\n",
            "ROC_AUC Score: 0.8729838709677419\n",
            "              precision    recall  f1-score   support\n",
            "\n",
            "           0       0.87      0.87      0.87        31\n",
            "           1       0.88      0.88      0.88        32\n",
            "\n",
            "    accuracy                           0.87        63\n",
            "   macro avg       0.87      0.87      0.87        63\n",
            "weighted avg       0.87      0.87      0.87        63\n",
            "\n"
          ]
        }
      ]
    },
    {
      "cell_type": "code",
      "source": [
        "from sklearn import metrics\n",
        "from matplotlib import pyplot as plt\n",
        "\n",
        "fpr, tpr, _ = metrics.roc_curve(y_test, predicted_output)\n",
        "auc = metrics.roc_auc_score(y_test, predicted_output)\n",
        "plt.plot(fpr,tpr,label=\"auc=\"+str(auc))\n",
        "plt.legend(loc=4)\n",
        "plt.show()"
      ],
      "metadata": {
        "colab": {
          "base_uri": "https://localhost:8080/",
          "height": 265
        },
        "id": "ms24oGEZN6uu",
        "outputId": "748a598d-ad5b-4970-ca98-b65845e51fe3"
      },
      "execution_count": null,
      "outputs": [
        {
          "output_type": "display_data",
          "data": {
            "text/plain": [
              "<Figure size 432x288 with 1 Axes>"
            ],
            "image/png": "[encoded data removed]"
          },
          "metadata": {
            "needs_background": "light"
          }
        }
      ]
    },
    {
      "cell_type": "code",
      "source": [
        "import numpy as np\n",
        "import matplotlib.pyplot as plt\n",
        "import seaborn as sns\n",
        "\n",
        "def make_confusion_matrix(cf,\n",
        "                          group_names=None,\n",
        "                          categories='auto',\n",
        "                          count=True,\n",
        "                          percent=True,\n",
        "                          cbar=True,\n",
        "                          xyticks=True,\n",
        "                          xyplotlabels=True,\n",
        "                          sum_stats=True,\n",
        "                          figsize=None,\n",
        "                          cmap='Blues',\n",
        "                          title=None):\n",
        "    '''\n",
        "    This function will make a pretty plot of an sklearn Confusion Matrix cm using a Seaborn heatmap visualization.\n",
        "\n",
        "    Arguments\n",
        "    ---------\n",
        "    cf:            confusion matrix to be passed in\n",
        "\n",
        "    group_names:   List of strings that represent the labels row by row to be shown in each square.\n",
        "\n",
        "    categories:    List of strings containing the categories to be displayed on the x,y axis. Default is 'auto'\n",
        "\n",
        "    count:         If True, show the raw number in the confusion matrix. Default is True.\n",
        "\n",
        "    normalize:     If True, show the proportions for each category. Default is True.\n",
        "\n",
        "    cbar:          If True, show the color bar. The cbar values are based off the values in the confusion matrix.\n",
        "                   Default is True.\n",
        "\n",
        "    xyticks:       If True, show x and y ticks. Default is True.\n",
        "\n",
        "    xyplotlabels:  If True, show 'True Label' and 'Predicted Label' on the figure. Default is True.\n",
        "\n",
        "    sum_stats:     If True, display summary statistics below the figure. Default is True.\n",
        "\n",
        "    figsize:       Tuple representing the figure size. Default will be the matplotlib rcParams value.\n",
        "\n",
        "    cmap:          Colormap of the values displayed from matplotlib.pyplot.cm. Default is 'Blues'\n",
        "                   See http://matplotlib.org/examples/color/colormaps_reference.html\n",
        "                   \n",
        "    title:         Title for the heatmap. Default is None.\n",
        "\n",
        "    '''\n",
        "\n",
        "\n",
        "    # CODE TO GENERATE TEXT INSIDE EACH SQUARE\n",
        "    blanks = ['' for i in range(cf.size)]\n",
        "\n",
        "    if group_names and len(group_names)==cf.size:\n",
        "        group_labels = [\"{}\\n\".format(value) for value in group_names]\n",
        "    else:\n",
        "        group_labels = blanks\n",
        "\n",
        "    if count:\n",
        "        group_counts = [\"{0:0.0f}\\n\".format(value) for value in cf.flatten()]\n",
        "    else:\n",
        "        group_counts = blanks\n",
        "\n",
        "    if percent:\n",
        "        group_percentages = [\"{0:.2%}\".format(value) for value in cf.flatten()/np.sum(cf)]\n",
        "    else:\n",
        "        group_percentages = blanks\n",
        "\n",
        "    box_labels = [f\"{v1}{v2}{v3}\".strip() for v1, v2, v3 in zip(group_labels,group_counts,group_percentages)]\n",
        "    box_labels = np.asarray(box_labels).reshape(cf.shape[0],cf.shape[1])\n",
        "\n",
        "\n",
        "    # CODE TO GENERATE SUMMARY STATISTICS & TEXT FOR SUMMARY STATS\n",
        "    if sum_stats:\n",
        "        #Accuracy is sum of diagonal divided by total observations\n",
        "        accuracy  = np.trace(cf) / float(np.sum(cf))\n",
        "\n",
        "        #if it is a binary confusion matrix, show some more stats\n",
        "        if len(cf)==2:\n",
        "            #Metrics for Binary Confusion Matrices\n",
        "            precision = cf[1,1] / sum(cf[:,1])\n",
        "            recall    = cf[1,1] / sum(cf[1,:])\n",
        "            f1_score  = 2*precision*recall / (precision + recall)\n",
        "            stats_text = \"\\n\\nAccuracy={:0.3f}\\nPrecision={:0.3f}\\nRecall={:0.3f}\\nF1 Score={:0.3f}\".format(\n",
        "                accuracy,precision,recall,f1_score)\n",
        "        else:\n",
        "            stats_text = \"\\n\\nAccuracy={:0.3f}\".format(accuracy)\n",
        "    else:\n",
        "        stats_text = \"\"\n",
        "\n",
        "\n",
        "    # SET FIGURE PARAMETERS ACCORDING TO OTHER ARGUMENTS\n",
        "    if figsize==None:\n",
        "        #Get default figure size if not set\n",
        "        figsize = plt.rcParams.get('figure.figsize')\n",
        "\n",
        "    if xyticks==False:\n",
        "        #Do not show categories if xyticks is False\n",
        "        categories=False\n",
        "\n",
        "\n",
        "    # MAKE THE HEATMAP VISUALIZATION\n",
        "    plt.figure(figsize=figsize)\n",
        "    sns.heatmap(cf,annot=box_labels,fmt=\"\",cmap=cmap,cbar=cbar,xticklabels=categories,yticklabels=categories)\n",
        "\n",
        "    if xyplotlabels:\n",
        "        plt.ylabel('True label')\n",
        "        plt.xlabel('Predicted label' + stats_text)\n",
        "    else:\n",
        "        plt.xlabel(stats_text)\n",
        "    \n",
        "    if title:\n",
        "        plt.title(title)"
      ],
      "metadata": {
        "id": "QmM-ou7fOTkU"
      },
      "execution_count": null,
      "outputs": []
    },
    {
      "cell_type": "code",
      "source": [
        "from sklearn.metrics import confusion_matrix\n",
        "cm = confusion_matrix(y_test, predicted_output, labels=[0,1])\n"
      ],
      "metadata": {
        "id": "BeBBw9cxOgk3"
      },
      "execution_count": null,
      "outputs": []
    },
    {
      "cell_type": "code",
      "source": [
        "labels = [\"True Neg\",\"False Pos\",\"False Neg\",\"True Pos\"]\n",
        "categories = [\"Fake\", \"Real\"]\n",
        "make_confusion_matrix(cm, \n",
        "                      group_names=labels,\n",
        "                      categories=categories, \n",
        "                      cmap=\"binary\")"
      ],
      "metadata": {
        "colab": {
          "base_uri": "https://localhost:8080/",
          "height": 337
        },
        "id": "jYqWXSG8OUfw",
        "outputId": "a78f7575-38b9-4d28-eaf9-cdcc0d287432"
      },
      "execution_count": null,
      "outputs": [
        {
          "output_type": "display_data",
          "data": {
            "text/plain": [
              "<Figure size 432x288 with 2 Axes>"
            ],
            "image/png": "[encoded data removed]"
          },
          "metadata": {
            "needs_background": "light"
          }
        }
      ]
    }
  ]
}